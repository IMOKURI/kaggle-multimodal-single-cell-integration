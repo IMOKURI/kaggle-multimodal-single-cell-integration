{
 "cells": [
  {
   "cell_type": "markdown",
   "id": "7bc74e33-af4e-4301-a705-9c1644363348",
   "metadata": {},
   "source": [
    "# Title"
   ]
  },
  {
   "cell_type": "markdown",
   "id": "9f003c7d-4d3e-463f-9c0f-7e2f5ad7482c",
   "metadata": {},
   "source": [
    "## Setup"
   ]
  },
  {
   "cell_type": "code",
   "execution_count": null,
   "id": "d6b8d637-66fa-4b94-8091-089dbcf4c9ef",
   "metadata": {},
   "outputs": [],
   "source": [
    "import sys\n",
    "\n",
    "sys.path.append(\"../working\")"
   ]
  },
  {
   "cell_type": "code",
   "execution_count": null,
   "id": "1a6ec8e1-e561-4109-9282-e7dfc9078b55",
   "metadata": {},
   "outputs": [],
   "source": [
    "import logging\n",
    "\n",
    "logging.basicConfig(\n",
    "    # filename=__file__.replace('.py', '.log'),\n",
    "    level=logging.getLevelName(\"INFO\"),\n",
    "    format=\"%(asctime)s [%(levelname)s] [%(module)s] %(message)s\",\n",
    ")\n",
    "\n",
    "log = logging.getLogger(__name__)"
   ]
  },
  {
   "cell_type": "code",
   "execution_count": null,
   "id": "b2eebf29-0bbb-4112-ac4e-142c982fffac",
   "metadata": {},
   "outputs": [],
   "source": [
    "import glob\n",
    "import os\n",
    "import re\n",
    "\n",
    "import matplotlib.pyplot as plt\n",
    "import numpy as np\n",
    "import pandas as pd\n",
    "import scipy.stats as stats\n",
    "import seaborn as sns\n",
    "from omegaconf import OmegaConf\n",
    "from progressbar import progressbar\n",
    "from src.get_score import get_score\n",
    "from src.load_data import LoadData, PostprocessData, PreprocessData\n",
    "from src.utils import df_stats\n",
    "\n",
    "# from src.make_dataset import BaseDataset, get_transforms\n",
    "# from src.make_model import ImageBaseModel\n",
    "# from torch.utils.data import DataLoader\n",
    "\n",
    "# pd.set_option(\"display.max_rows\", None)\n",
    "# pd.set_option(\"display.max_columns\", None)\n",
    "# pd.set_option(\"display.max_colwidth\", None)"
   ]
  },
  {
   "cell_type": "code",
   "execution_count": null,
   "id": "7a00e5d8-fad9-4153-8f5e-86aada9046ce",
   "metadata": {},
   "outputs": [],
   "source": [
    "# Competition specific library\n",
    "import math\n",
    "\n",
    "import scanpy as sc\n",
    "import scipy.stats as stats\n",
    "import umap\n",
    "from anndata import AnnData\n",
    "from ivis import Ivis\n",
    "from sklearn.preprocessing import StandardScaler"
   ]
  },
  {
   "cell_type": "code",
   "execution_count": null,
   "id": "34c9bc3d-c0ea-4be9-aafa-b4ce98d699e0",
   "metadata": {},
   "outputs": [],
   "source": [
    "c = OmegaConf.load(\"../working/config/main.yaml\")"
   ]
  },
  {
   "cell_type": "code",
   "execution_count": null,
   "id": "abb2f8c2-7f74-4070-a515-6a8f05959217",
   "metadata": {},
   "outputs": [],
   "source": [
    "input = PreprocessData(c, do_preprocess=False)"
   ]
  },
  {
   "cell_type": "code",
   "execution_count": null,
   "id": "67159bb0-2436-4577-9778-6fb86d52ec01",
   "metadata": {},
   "outputs": [],
   "source": [
    "input = LoadData(c, do_preprocess=False, use_fold=True)"
   ]
  },
  {
   "cell_type": "code",
   "execution_count": null,
   "id": "9ad0cc91-d917-4bd8-bcfa-4aba76d6e9d9",
   "metadata": {},
   "outputs": [],
   "source": [
    "input = PostprocessData(c)"
   ]
  },
  {
   "cell_type": "code",
   "execution_count": null,
   "id": "93ff6d15-c69f-4bbc-9449-d1b97c085dc3",
   "metadata": {},
   "outputs": [],
   "source": [
    "dir(input)"
   ]
  },
  {
   "cell_type": "code",
   "execution_count": null,
   "id": "5fe2a70f-ddd4-4fb7-82b4-2c844b2e2182",
   "metadata": {},
   "outputs": [],
   "source": []
  },
  {
   "cell_type": "markdown",
   "id": "9942ea9a-6f56-418f-8c97-0e9e6b30d281",
   "metadata": {},
   "source": [
    "## Basic Info"
   ]
  },
  {
   "cell_type": "code",
   "execution_count": null,
   "id": "44fc4693-3f1e-41d2-8191-bb4c9e0207a6",
   "metadata": {},
   "outputs": [],
   "source": [
    "df = ..."
   ]
  },
  {
   "cell_type": "code",
   "execution_count": null,
   "id": "7fd42cda-94f4-4ef2-917c-31f5bc5d6aef",
   "metadata": {},
   "outputs": [],
   "source": [
    "df.info()"
   ]
  },
  {
   "cell_type": "code",
   "execution_count": null,
   "id": "5a7daca5-9d81-44a4-b9d7-a31c0b9c839c",
   "metadata": {},
   "outputs": [],
   "source": [
    "df_stats(df)"
   ]
  },
  {
   "cell_type": "code",
   "execution_count": null,
   "id": "fc6ae3b2-269e-4cfe-8a71-ea78114d8d46",
   "metadata": {},
   "outputs": [],
   "source": [
    "df.head()"
   ]
  },
  {
   "cell_type": "code",
   "execution_count": null,
   "id": "c34f6183-7dbd-4e59-89e8-516d37e7a0c1",
   "metadata": {},
   "outputs": [],
   "source": []
  },
  {
   "cell_type": "code",
   "execution_count": null,
   "id": "a8de69e0-10fb-4735-af05-1992e039ee60",
   "metadata": {},
   "outputs": [],
   "source": []
  },
  {
   "cell_type": "code",
   "execution_count": null,
   "id": "6fc9e0cd-cbee-46b3-914e-f7f8f3864711",
   "metadata": {},
   "outputs": [],
   "source": []
  },
  {
   "cell_type": "code",
   "execution_count": null,
   "id": "fb2725d1-0b10-4ef4-8024-c7b4b260d215",
   "metadata": {},
   "outputs": [],
   "source": [
    "adata = AnnData(input.train_cite_inputs.to_numpy())\n",
    "adata.obs_names = input.train_cite_inputs.index\n",
    "adata.var_names = input.train_cite_inputs.columns\n",
    "adata"
   ]
  },
  {
   "cell_type": "code",
   "execution_count": null,
   "id": "d6610584-2260-42d0-9252-23a015dd049c",
   "metadata": {},
   "outputs": [],
   "source": [
    "sc.pp.normalize_total(adata, target_sum=1e6)\n",
    "sc.pp.log1p(adata)\n",
    "\n",
    "sc.pp.filter_genes(adata, min_cells=300)"
   ]
  },
  {
   "cell_type": "code",
   "execution_count": null,
   "id": "41f39d2b-8ea5-4226-bcd0-f06d2a16d75a",
   "metadata": {},
   "outputs": [],
   "source": [
    "adata.var[\"mt\"] = adata.var_names.str.contains(\"_MT-\")\n",
    "\n",
    "sc.pp.calculate_qc_metrics(\n",
    "    adata,\n",
    "    qc_vars=[\"mt\"],\n",
    "    percent_top=None,\n",
    "    log1p=False,\n",
    "    inplace=True,\n",
    ")"
   ]
  },
  {
   "cell_type": "code",
   "execution_count": null,
   "id": "7f7bf7cd-a8ad-405d-b481-cdb1b7ac5f3b",
   "metadata": {},
   "outputs": [],
   "source": [
    "sc.pp.normalize_total(adata, target_sum=1e4)\n",
    "sc.pp.log1p(adata)"
   ]
  },
  {
   "cell_type": "code",
   "execution_count": null,
   "id": "4ec7152a-f7b5-4499-964b-0bb14c5ab87f",
   "metadata": {},
   "outputs": [],
   "source": [
    "sc.pp.highly_variable_genes(adata)\n",
    "adata = adata[:, adata.var[\"highly_variable\"]]"
   ]
  },
  {
   "cell_type": "code",
   "execution_count": null,
   "id": "60bc74b9-2e5b-4bab-be03-f087c56e8317",
   "metadata": {},
   "outputs": [],
   "source": [
    "sc.pp.scale(adata, max_value=10)\n",
    "\n",
    "sc.tl.pca(adata, svd_solver=\"arpack\")"
   ]
  },
  {
   "cell_type": "code",
   "execution_count": null,
   "id": "bfbb015d-61f4-44a6-9a98-2a3ac721f86f",
   "metadata": {},
   "outputs": [],
   "source": []
  },
  {
   "cell_type": "code",
   "execution_count": null,
   "id": "b9cfeba4-e0c9-4047-b44b-1004e6acb784",
   "metadata": {},
   "outputs": [],
   "source": []
  },
  {
   "cell_type": "code",
   "execution_count": null,
   "id": "ce6b22ec-f5c3-47d3-95d7-972f39a1a5f9",
   "metadata": {},
   "outputs": [],
   "source": [
    "X = adata.obsm[\"X_pca\"]"
   ]
  },
  {
   "cell_type": "code",
   "execution_count": null,
   "id": "f9473a81-0091-4a1c-90dd-af0b4456a8b7",
   "metadata": {},
   "outputs": [],
   "source": [
    "ivis = Ivis(k=15, model=\"maaten\", n_epochs_without_progress=5)\n",
    "ivis.fit(X)\n",
    "embeddings = ivis.transform(X)"
   ]
  },
  {
   "cell_type": "code",
   "execution_count": null,
   "id": "aad0079c-e9e2-46b9-8dc7-15d3227b7bf0",
   "metadata": {},
   "outputs": [],
   "source": [
    "adata.var.info()"
   ]
  },
  {
   "cell_type": "code",
   "execution_count": null,
   "id": "222fce57-08c7-4b56-a7d0-4adb413768c8",
   "metadata": {},
   "outputs": [],
   "source": [
    "[col for col in adata.var_names if \"CST\" in col]"
   ]
  },
  {
   "cell_type": "code",
   "execution_count": null,
   "id": "8ea4d69d-8595-4eac-9a32-8dc35cd66ebe",
   "metadata": {},
   "outputs": [],
   "source": [
    "fill = adata.X[:, adata.var.index == \"ENSG00000101439_CST3\"]\n",
    "fill = fill.reshape((X.shape[0],))"
   ]
  },
  {
   "cell_type": "code",
   "execution_count": null,
   "id": "43a84fd5-ab9a-4eb1-bbad-6c0fea7c86b9",
   "metadata": {},
   "outputs": [],
   "source": [
    "fill.shape"
   ]
  },
  {
   "cell_type": "code",
   "execution_count": null,
   "id": "b0eac0bc-ed87-41af-8385-0b8b2233e686",
   "metadata": {},
   "outputs": [],
   "source": [
    "adata.obs.info()"
   ]
  },
  {
   "cell_type": "code",
   "execution_count": null,
   "id": "aaddbbdd-e337-4cf3-9c17-6b1d93e29d3e",
   "metadata": {},
   "outputs": [],
   "source": [
    "embeddings.shape"
   ]
  },
  {
   "cell_type": "code",
   "execution_count": null,
   "id": "10e829b5-39de-42dd-aaa7-535cd9392cb9",
   "metadata": {},
   "outputs": [],
   "source": [
    "plt.figure(figsize=(6, 4), dpi=150)\n",
    "sc = plt.scatter(x=embeddings[:, 0], y=embeddings[:, 1], c=fill, s=5)\n",
    "plt.xlabel(\"ivis 1\")\n",
    "plt.ylabel(\"ivis 2\")\n",
    "plt.title(\"CST3\")\n",
    "plt.colorbar(sc)"
   ]
  },
  {
   "cell_type": "code",
   "execution_count": null,
   "id": "104ae3c3-9e47-47bb-ae59-7e2be2cf8a3d",
   "metadata": {},
   "outputs": [],
   "source": []
  },
  {
   "cell_type": "code",
   "execution_count": null,
   "id": "bc4099b5-0749-4389-b1d5-b76ba76fb42a",
   "metadata": {},
   "outputs": [],
   "source": []
  }
 ],
 "metadata": {
  "kernelspec": {
   "display_name": "develop",
   "language": "python",
   "name": "develop"
  },
  "language_info": {
   "codemirror_mode": {
    "name": "ipython",
    "version": 3
   },
   "file_extension": ".py",
   "mimetype": "text/x-python",
   "name": "python",
   "nbconvert_exporter": "python",
   "pygments_lexer": "ipython3",
   "version": "3.8.12"
  }
 },
 "nbformat": 4,
 "nbformat_minor": 5
}
