{
 "cells": [
  {
   "cell_type": "markdown",
   "id": "7bc74e33-af4e-4301-a705-9c1644363348",
   "metadata": {},
   "source": [
    "# Title"
   ]
  },
  {
   "cell_type": "markdown",
   "id": "9f003c7d-4d3e-463f-9c0f-7e2f5ad7482c",
   "metadata": {},
   "source": [
    "## Setup"
   ]
  },
  {
   "cell_type": "code",
   "execution_count": 1,
   "id": "d6b8d637-66fa-4b94-8091-089dbcf4c9ef",
   "metadata": {},
   "outputs": [],
   "source": [
    "import sys\n",
    "\n",
    "sys.path.append(\"../working\")"
   ]
  },
  {
   "cell_type": "code",
   "execution_count": 2,
   "id": "1a6ec8e1-e561-4109-9282-e7dfc9078b55",
   "metadata": {},
   "outputs": [],
   "source": [
    "import logging\n",
    "\n",
    "logging.basicConfig(\n",
    "    # filename=__file__.replace('.py', '.log'),\n",
    "    level=logging.getLevelName(\"INFO\"),\n",
    "    format=\"%(asctime)s [%(levelname)s] [%(module)s] %(message)s\",\n",
    ")\n",
    "\n",
    "log = logging.getLogger(__name__)"
   ]
  },
  {
   "cell_type": "code",
   "execution_count": 37,
   "id": "b2eebf29-0bbb-4112-ac4e-142c982fffac",
   "metadata": {},
   "outputs": [],
   "source": [
    "import glob\n",
    "import os\n",
    "import re\n",
    "\n",
    "import matplotlib.pyplot as plt\n",
    "import numpy as np\n",
    "import pandas as pd\n",
    "import scipy.stats as stats\n",
    "import seaborn as sns\n",
    "from omegaconf import OmegaConf\n",
    "from progressbar import progressbar\n",
    "from src.get_score import get_score\n",
    "from src.load_data import LoadData, PostprocessData, PreprocessData\n",
    "from src.utils import choice_seed, df_stats, fix_seed\n",
    "\n",
    "# from src.make_dataset import BaseDataset, get_transforms\n",
    "# from src.make_model import ImageBaseModel\n",
    "# from torch.utils.data import DataLoader\n",
    "\n",
    "# pd.set_option(\"display.max_rows\", None)\n",
    "# pd.set_option(\"display.max_columns\", None)\n",
    "# pd.set_option(\"display.max_colwidth\", None)"
   ]
  },
  {
   "cell_type": "code",
   "execution_count": 4,
   "id": "7a00e5d8-fad9-4153-8f5e-86aada9046ce",
   "metadata": {},
   "outputs": [],
   "source": [
    "# Competition specific library\n",
    "import math\n",
    "\n",
    "import scanpy as sc\n",
    "import scipy.stats as stats\n",
    "import umap\n",
    "from anndata import AnnData\n",
    "from ivis import Ivis\n",
    "from sklearn.preprocessing import StandardScaler"
   ]
  },
  {
   "cell_type": "code",
   "execution_count": 38,
   "id": "34c9bc3d-c0ea-4be9-aafa-b4ce98d699e0",
   "metadata": {},
   "outputs": [
    {
     "name": "stderr",
     "output_type": "stream",
     "text": [
      "2022-10-28 22:52:38,782 [INFO] [utils] Fix seed: 3227\n"
     ]
    }
   ],
   "source": [
    "c_main = OmegaConf.load(\"../working/config/main.yaml\")\n",
    "c_preprocess_params = OmegaConf.load(\"../working/config/preprocess_params.yaml\")\n",
    "c = OmegaConf.merge(c_main, c_preprocess_params)\n",
    "\n",
    "fix_seed(choice_seed(c))"
   ]
  },
  {
   "cell_type": "code",
   "execution_count": 39,
   "id": "abb2f8c2-7f74-4070-a515-6a8f05959217",
   "metadata": {},
   "outputs": [
    {
     "name": "stderr",
     "output_type": "stream",
     "text": [
      "2022-10-28 22:52:41,671 [INFO] [load_data] Load pickle file. path: ../input/evaluation_ids.pickle\n",
      "2022-10-28 22:52:45,981 [INFO] [load_data] Load pickle file. path: ../input/metadata.pickle\n",
      "2022-10-28 22:52:46,025 [INFO] [load_data] Load pickle file. path: ../input/sample_submission.pickle\n",
      "2022-10-28 22:52:46,569 [INFO] [load_data] Load pickle file. path: ../input/test_cite_inputs.pickle\n",
      "2022-10-28 22:52:53,757 [INFO] [load_data] Load pickle file. path: ../input/test_cite_inputs_day_2_donor_27678.pickle\n",
      "2022-10-28 22:52:55,687 [INFO] [load_data] Load pickle file. path: ../input/train_cite_inputs.pickle\n",
      "2022-10-28 22:53:06,323 [INFO] [load_data] Load pickle file. path: ../input/train_cite_targets.pickle\n"
     ]
    }
   ],
   "source": [
    "input = PreprocessData(c, do_preprocess=False)"
   ]
  },
  {
   "cell_type": "code",
   "execution_count": null,
   "id": "67159bb0-2436-4577-9778-6fb86d52ec01",
   "metadata": {},
   "outputs": [],
   "source": [
    "# input = LoadData(c, do_preprocess=False, use_fold=True)"
   ]
  },
  {
   "cell_type": "code",
   "execution_count": null,
   "id": "9ad0cc91-d917-4bd8-bcfa-4aba76d6e9d9",
   "metadata": {},
   "outputs": [],
   "source": [
    "# input = PostprocessData(c)"
   ]
  },
  {
   "cell_type": "code",
   "execution_count": 40,
   "id": "93ff6d15-c69f-4bbc-9449-d1b97c085dc3",
   "metadata": {},
   "outputs": [
    {
     "data": {
      "text/plain": [
       "['c',\n",
       " 'evaluation_ids',\n",
       " 'metadata',\n",
       " 'sample_submission',\n",
       " 'test_cite_inputs',\n",
       " 'test_cite_inputs_day_2_donor_27678',\n",
       " 'train_cite_inputs',\n",
       " 'train_cite_targets']"
      ]
     },
     "execution_count": 40,
     "metadata": {},
     "output_type": "execute_result"
    }
   ],
   "source": [
    "[col for col in dir(input) if not col.startswith(\"__\")]"
   ]
  },
  {
   "cell_type": "code",
   "execution_count": null,
   "id": "5fe2a70f-ddd4-4fb7-82b4-2c844b2e2182",
   "metadata": {},
   "outputs": [],
   "source": []
  },
  {
   "cell_type": "markdown",
   "id": "1a8346db-e714-44f8-9af5-171889f1e9bd",
   "metadata": {},
   "source": [
    "## Read Go Ontology"
   ]
  },
  {
   "cell_type": "code",
   "execution_count": 17,
   "id": "6c43dc9e-6971-477e-9a69-8a61978f385f",
   "metadata": {},
   "outputs": [],
   "source": [
    "# http://geneontology.org/docs/go-annotation-file-gaf-format-2.2/\n",
    "goa_header = [\n",
    "    \"DB\",\n",
    "    \"DB Object ID\",\n",
    "    \"DB Object Symbol\",\n",
    "    \"Qualifier\",\n",
    "    \"GO ID\",\n",
    "    \"DB:Reference\",\n",
    "    \"Evidence Code\",\n",
    "    \"With_From\",\n",
    "    \"Aspect\",\n",
    "    \"DB Object Name\",\n",
    "    \"DB Object Synonym\",\n",
    "    \"DB Object Type\",\n",
    "    \"Taxon\",\n",
    "    \"Date\",\n",
    "    \"Assigned By\",\n",
    "    \"Annotation Extension\",\n",
    "    \"Gene Product Form ID\",\n",
    "]"
   ]
  },
  {
   "cell_type": "code",
   "execution_count": 44,
   "id": "a33b84ff-698e-419c-96c4-5e83a6d6ab47",
   "metadata": {},
   "outputs": [
    {
     "name": "stderr",
     "output_type": "stream",
     "text": [
      "/opt/miniconda3/envs/develop/lib/python3.8/site-packages/IPython/core/interactiveshell.py:3441: DtypeWarning: Columns (15) have mixed types.Specify dtype option on import or set low_memory=False.\n",
      "  exec(code_obj, self.user_global_ns, self.user_ns)\n"
     ]
    }
   ],
   "source": [
    "goa = pd.read_table(os.path.join(c.settings.dirs.input, \"goa_human.gaf\"), names=goa_header, skiprows=41)\n",
    "goa.dropna(axis=1, how=\"all\", inplace=True)"
   ]
  },
  {
   "cell_type": "code",
   "execution_count": 42,
   "id": "c43dc643-481e-41f8-a501-6b132019d87e",
   "metadata": {},
   "outputs": [
    {
     "name": "stdout",
     "output_type": "stream",
     "text": [
      "<class 'pandas.core.frame.DataFrame'>\n",
      "RangeIndex: 635794 entries, 0 to 635793\n",
      "Data columns (total 16 columns):\n",
      " #   Column                Non-Null Count   Dtype  \n",
      "---  ------                --------------   -----  \n",
      " 0   DB                    635794 non-null  object \n",
      " 1   DB Object ID          635753 non-null  object \n",
      " 2   DB Object Symbol      635586 non-null  object \n",
      " 3   Qualifier             635753 non-null  object \n",
      " 4   GO ID                 635753 non-null  object \n",
      " 5   DB:Reference          635753 non-null  object \n",
      " 6   Evidence Code         635753 non-null  object \n",
      " 7   With_From             395523 non-null  object \n",
      " 8   Aspect                635753 non-null  object \n",
      " 9   DB Object Name        635753 non-null  object \n",
      " 10  DB Object Synonym     635450 non-null  object \n",
      " 11  DB Object Type        635753 non-null  object \n",
      " 12  Taxon                 635753 non-null  object \n",
      " 13  Date                  635753 non-null  float64\n",
      " 14  Assigned By           635753 non-null  object \n",
      " 15  Annotation Extension  30096 non-null   object \n",
      "dtypes: float64(1), object(15)\n",
      "memory usage: 77.6+ MB\n"
     ]
    }
   ],
   "source": [
    "goa.info()"
   ]
  },
  {
   "cell_type": "code",
   "execution_count": 45,
   "id": "067b42eb-da32-4297-99fc-78e5b7d76f1e",
   "metadata": {},
   "outputs": [
    {
     "data": {
      "text/html": [
       "<div>\n",
       "<style scoped>\n",
       "    .dataframe tbody tr th:only-of-type {\n",
       "        vertical-align: middle;\n",
       "    }\n",
       "\n",
       "    .dataframe tbody tr th {\n",
       "        vertical-align: top;\n",
       "    }\n",
       "\n",
       "    .dataframe thead th {\n",
       "        text-align: right;\n",
       "    }\n",
       "</style>\n",
       "<table border=\"1\" class=\"dataframe\">\n",
       "  <thead>\n",
       "    <tr style=\"text-align: right;\">\n",
       "      <th></th>\n",
       "      <th>DB</th>\n",
       "      <th>DB Object ID</th>\n",
       "      <th>DB Object Symbol</th>\n",
       "      <th>Qualifier</th>\n",
       "      <th>GO ID</th>\n",
       "      <th>DB:Reference</th>\n",
       "      <th>Evidence Code</th>\n",
       "      <th>With_From</th>\n",
       "      <th>Aspect</th>\n",
       "      <th>DB Object Name</th>\n",
       "      <th>DB Object Synonym</th>\n",
       "      <th>DB Object Type</th>\n",
       "      <th>Taxon</th>\n",
       "      <th>Date</th>\n",
       "      <th>Assigned By</th>\n",
       "      <th>Annotation Extension</th>\n",
       "    </tr>\n",
       "  </thead>\n",
       "  <tbody>\n",
       "    <tr>\n",
       "      <th>0</th>\n",
       "      <td>UniProtKB</td>\n",
       "      <td>A0A024RBG1</td>\n",
       "      <td>NUDT4B</td>\n",
       "      <td>enables</td>\n",
       "      <td>GO:0003723</td>\n",
       "      <td>GO_REF:0000043</td>\n",
       "      <td>IEA</td>\n",
       "      <td>UniProtKB-KW:KW-0694</td>\n",
       "      <td>F</td>\n",
       "      <td>Diphosphoinositol polyphosphate phosphohydrola...</td>\n",
       "      <td>NUDT4B</td>\n",
       "      <td>protein</td>\n",
       "      <td>taxon:9606</td>\n",
       "      <td>20220907</td>\n",
       "      <td>UniProt</td>\n",
       "      <td>NaN</td>\n",
       "    </tr>\n",
       "    <tr>\n",
       "      <th>1</th>\n",
       "      <td>UniProtKB</td>\n",
       "      <td>A0A024RBG1</td>\n",
       "      <td>NUDT4B</td>\n",
       "      <td>enables</td>\n",
       "      <td>GO:0046872</td>\n",
       "      <td>GO_REF:0000043</td>\n",
       "      <td>IEA</td>\n",
       "      <td>UniProtKB-KW:KW-0479</td>\n",
       "      <td>F</td>\n",
       "      <td>Diphosphoinositol polyphosphate phosphohydrola...</td>\n",
       "      <td>NUDT4B</td>\n",
       "      <td>protein</td>\n",
       "      <td>taxon:9606</td>\n",
       "      <td>20220907</td>\n",
       "      <td>UniProt</td>\n",
       "      <td>NaN</td>\n",
       "    </tr>\n",
       "    <tr>\n",
       "      <th>2</th>\n",
       "      <td>UniProtKB</td>\n",
       "      <td>A0A024RBG1</td>\n",
       "      <td>NUDT4B</td>\n",
       "      <td>located_in</td>\n",
       "      <td>GO:0005829</td>\n",
       "      <td>GO_REF:0000052</td>\n",
       "      <td>IDA</td>\n",
       "      <td>NaN</td>\n",
       "      <td>C</td>\n",
       "      <td>Diphosphoinositol polyphosphate phosphohydrola...</td>\n",
       "      <td>NUDT4B</td>\n",
       "      <td>protein</td>\n",
       "      <td>taxon:9606</td>\n",
       "      <td>20161204</td>\n",
       "      <td>HPA</td>\n",
       "      <td>NaN</td>\n",
       "    </tr>\n",
       "    <tr>\n",
       "      <th>3</th>\n",
       "      <td>UniProtKB</td>\n",
       "      <td>A0A075B6H7</td>\n",
       "      <td>IGKV3-7</td>\n",
       "      <td>involved_in</td>\n",
       "      <td>GO:0002250</td>\n",
       "      <td>GO_REF:0000043</td>\n",
       "      <td>IEA</td>\n",
       "      <td>UniProtKB-KW:KW-1064</td>\n",
       "      <td>P</td>\n",
       "      <td>Probable non-functional immunoglobulin kappa v...</td>\n",
       "      <td>IGKV3-7</td>\n",
       "      <td>protein</td>\n",
       "      <td>taxon:9606</td>\n",
       "      <td>20220907</td>\n",
       "      <td>UniProt</td>\n",
       "      <td>NaN</td>\n",
       "    </tr>\n",
       "    <tr>\n",
       "      <th>4</th>\n",
       "      <td>UniProtKB</td>\n",
       "      <td>A0A075B6H7</td>\n",
       "      <td>IGKV3-7</td>\n",
       "      <td>located_in</td>\n",
       "      <td>GO:0005886</td>\n",
       "      <td>GO_REF:0000044</td>\n",
       "      <td>IEA</td>\n",
       "      <td>UniProtKB-SubCell:SL-0039</td>\n",
       "      <td>C</td>\n",
       "      <td>Probable non-functional immunoglobulin kappa v...</td>\n",
       "      <td>IGKV3-7</td>\n",
       "      <td>protein</td>\n",
       "      <td>taxon:9606</td>\n",
       "      <td>20220907</td>\n",
       "      <td>UniProt</td>\n",
       "      <td>NaN</td>\n",
       "    </tr>\n",
       "  </tbody>\n",
       "</table>\n",
       "</div>"
      ],
      "text/plain": [
       "          DB DB Object ID DB Object Symbol    Qualifier       GO ID  \\\n",
       "0  UniProtKB   A0A024RBG1           NUDT4B      enables  GO:0003723   \n",
       "1  UniProtKB   A0A024RBG1           NUDT4B      enables  GO:0046872   \n",
       "2  UniProtKB   A0A024RBG1           NUDT4B   located_in  GO:0005829   \n",
       "3  UniProtKB   A0A075B6H7          IGKV3-7  involved_in  GO:0002250   \n",
       "4  UniProtKB   A0A075B6H7          IGKV3-7   located_in  GO:0005886   \n",
       "\n",
       "     DB:Reference Evidence Code                  With_From Aspect  \\\n",
       "0  GO_REF:0000043           IEA       UniProtKB-KW:KW-0694      F   \n",
       "1  GO_REF:0000043           IEA       UniProtKB-KW:KW-0479      F   \n",
       "2  GO_REF:0000052           IDA                        NaN      C   \n",
       "3  GO_REF:0000043           IEA       UniProtKB-KW:KW-1064      P   \n",
       "4  GO_REF:0000044           IEA  UniProtKB-SubCell:SL-0039      C   \n",
       "\n",
       "                                      DB Object Name DB Object Synonym  \\\n",
       "0  Diphosphoinositol polyphosphate phosphohydrola...            NUDT4B   \n",
       "1  Diphosphoinositol polyphosphate phosphohydrola...            NUDT4B   \n",
       "2  Diphosphoinositol polyphosphate phosphohydrola...            NUDT4B   \n",
       "3  Probable non-functional immunoglobulin kappa v...           IGKV3-7   \n",
       "4  Probable non-functional immunoglobulin kappa v...           IGKV3-7   \n",
       "\n",
       "  DB Object Type       Taxon      Date Assigned By Annotation Extension  \n",
       "0        protein  taxon:9606  20220907     UniProt                  NaN  \n",
       "1        protein  taxon:9606  20220907     UniProt                  NaN  \n",
       "2        protein  taxon:9606  20161204         HPA                  NaN  \n",
       "3        protein  taxon:9606  20220907     UniProt                  NaN  \n",
       "4        protein  taxon:9606  20220907     UniProt                  NaN  "
      ]
     },
     "execution_count": 45,
     "metadata": {},
     "output_type": "execute_result"
    }
   ],
   "source": [
    "goa.head()"
   ]
  },
  {
   "cell_type": "code",
   "execution_count": 46,
   "id": "c52c55b2-46c8-485d-b366-3e7855bbede0",
   "metadata": {},
   "outputs": [
    {
     "data": {
      "text/html": [
       "<div>\n",
       "<style scoped>\n",
       "    .dataframe tbody tr th:only-of-type {\n",
       "        vertical-align: middle;\n",
       "    }\n",
       "\n",
       "    .dataframe tbody tr th {\n",
       "        vertical-align: top;\n",
       "    }\n",
       "\n",
       "    .dataframe thead th {\n",
       "        text-align: right;\n",
       "    }\n",
       "</style>\n",
       "<table border=\"1\" class=\"dataframe\">\n",
       "  <thead>\n",
       "    <tr style=\"text-align: right;\">\n",
       "      <th></th>\n",
       "      <th>カラム名</th>\n",
       "      <th>ユニーク値数</th>\n",
       "      <th>最頻値</th>\n",
       "      <th>最頻値の出現回数</th>\n",
       "      <th>最頻値の割合</th>\n",
       "      <th>欠損値の数</th>\n",
       "      <th>欠損値の割合</th>\n",
       "      <th>タイプ</th>\n",
       "    </tr>\n",
       "  </thead>\n",
       "  <tbody>\n",
       "    <tr>\n",
       "      <th>0</th>\n",
       "      <td>DB</td>\n",
       "      <td>1</td>\n",
       "      <td>UniProtKB</td>\n",
       "      <td>635753</td>\n",
       "      <td>100.000000</td>\n",
       "      <td>0</td>\n",
       "      <td>0.000000</td>\n",
       "      <td>object</td>\n",
       "    </tr>\n",
       "    <tr>\n",
       "      <th>1</th>\n",
       "      <td>DB Object ID</td>\n",
       "      <td>19861</td>\n",
       "      <td>P42858</td>\n",
       "      <td>1098</td>\n",
       "      <td>0.172709</td>\n",
       "      <td>0</td>\n",
       "      <td>0.000000</td>\n",
       "      <td>object</td>\n",
       "    </tr>\n",
       "    <tr>\n",
       "      <th>2</th>\n",
       "      <td>DB Object Symbol</td>\n",
       "      <td>19791</td>\n",
       "      <td>HTT</td>\n",
       "      <td>1098</td>\n",
       "      <td>0.172709</td>\n",
       "      <td>167</td>\n",
       "      <td>0.026268</td>\n",
       "      <td>object</td>\n",
       "    </tr>\n",
       "    <tr>\n",
       "      <th>3</th>\n",
       "      <td>Qualifier</td>\n",
       "      <td>22</td>\n",
       "      <td>enables</td>\n",
       "      <td>289710</td>\n",
       "      <td>45.569584</td>\n",
       "      <td>0</td>\n",
       "      <td>0.000000</td>\n",
       "      <td>object</td>\n",
       "    </tr>\n",
       "    <tr>\n",
       "      <th>4</th>\n",
       "      <td>GO ID</td>\n",
       "      <td>18892</td>\n",
       "      <td>GO:0005515</td>\n",
       "      <td>206265</td>\n",
       "      <td>32.444204</td>\n",
       "      <td>0</td>\n",
       "      <td>0.000000</td>\n",
       "      <td>object</td>\n",
       "    </tr>\n",
       "    <tr>\n",
       "      <th>5</th>\n",
       "      <td>DB:Reference</td>\n",
       "      <td>54365</td>\n",
       "      <td>PMID:32296183</td>\n",
       "      <td>81758</td>\n",
       "      <td>12.860026</td>\n",
       "      <td>0</td>\n",
       "      <td>0.000000</td>\n",
       "      <td>object</td>\n",
       "    </tr>\n",
       "    <tr>\n",
       "      <th>6</th>\n",
       "      <td>Evidence Code</td>\n",
       "      <td>21</td>\n",
       "      <td>IPI</td>\n",
       "      <td>217316</td>\n",
       "      <td>34.182458</td>\n",
       "      <td>0</td>\n",
       "      <td>0.000000</td>\n",
       "      <td>object</td>\n",
       "    </tr>\n",
       "    <tr>\n",
       "      <th>7</th>\n",
       "      <td>With_From</td>\n",
       "      <td>62787</td>\n",
       "      <td>UniProtKB-KW:KW-0479</td>\n",
       "      <td>2299</td>\n",
       "      <td>37.786688</td>\n",
       "      <td>240230</td>\n",
       "      <td>37.786688</td>\n",
       "      <td>object</td>\n",
       "    </tr>\n",
       "    <tr>\n",
       "      <th>8</th>\n",
       "      <td>Aspect</td>\n",
       "      <td>3</td>\n",
       "      <td>F</td>\n",
       "      <td>291327</td>\n",
       "      <td>45.823928</td>\n",
       "      <td>0</td>\n",
       "      <td>0.000000</td>\n",
       "      <td>object</td>\n",
       "    </tr>\n",
       "    <tr>\n",
       "      <th>9</th>\n",
       "      <td>DB Object Name</td>\n",
       "      <td>19638</td>\n",
       "      <td>Huntingtin</td>\n",
       "      <td>1098</td>\n",
       "      <td>0.172709</td>\n",
       "      <td>0</td>\n",
       "      <td>0.000000</td>\n",
       "      <td>object</td>\n",
       "    </tr>\n",
       "    <tr>\n",
       "      <th>10</th>\n",
       "      <td>DB Object Synonym</td>\n",
       "      <td>19773</td>\n",
       "      <td>HTT|HD|IT15</td>\n",
       "      <td>1098</td>\n",
       "      <td>0.172709</td>\n",
       "      <td>303</td>\n",
       "      <td>0.047660</td>\n",
       "      <td>object</td>\n",
       "    </tr>\n",
       "    <tr>\n",
       "      <th>11</th>\n",
       "      <td>DB Object Type</td>\n",
       "      <td>1</td>\n",
       "      <td>protein</td>\n",
       "      <td>635753</td>\n",
       "      <td>100.000000</td>\n",
       "      <td>0</td>\n",
       "      <td>0.000000</td>\n",
       "      <td>object</td>\n",
       "    </tr>\n",
       "    <tr>\n",
       "      <th>12</th>\n",
       "      <td>Taxon</td>\n",
       "      <td>135</td>\n",
       "      <td>taxon:9606</td>\n",
       "      <td>635186</td>\n",
       "      <td>99.910814</td>\n",
       "      <td>0</td>\n",
       "      <td>0.000000</td>\n",
       "      <td>object</td>\n",
       "    </tr>\n",
       "    <tr>\n",
       "      <th>13</th>\n",
       "      <td>Date</td>\n",
       "      <td>5261</td>\n",
       "      <td>20220910</td>\n",
       "      <td>187257</td>\n",
       "      <td>29.454364</td>\n",
       "      <td>0</td>\n",
       "      <td>0.000000</td>\n",
       "      <td>int64</td>\n",
       "    </tr>\n",
       "    <tr>\n",
       "      <th>14</th>\n",
       "      <td>Assigned By</td>\n",
       "      <td>37</td>\n",
       "      <td>IntAct</td>\n",
       "      <td>187257</td>\n",
       "      <td>29.454364</td>\n",
       "      <td>0</td>\n",
       "      <td>0.000000</td>\n",
       "      <td>object</td>\n",
       "    </tr>\n",
       "    <tr>\n",
       "      <th>15</th>\n",
       "      <td>Annotation Extension</td>\n",
       "      <td>7274</td>\n",
       "      <td>occurs_in(GO:0005634)</td>\n",
       "      <td>2683</td>\n",
       "      <td>95.266086</td>\n",
       "      <td>605657</td>\n",
       "      <td>95.266086</td>\n",
       "      <td>object</td>\n",
       "    </tr>\n",
       "  </tbody>\n",
       "</table>\n",
       "</div>"
      ],
      "text/plain": [
       "                    カラム名  ユニーク値数                    最頻値  最頻値の出現回数      最頻値の割合  \\\n",
       "0                     DB       1              UniProtKB    635753  100.000000   \n",
       "1           DB Object ID   19861                 P42858      1098    0.172709   \n",
       "2       DB Object Symbol   19791                    HTT      1098    0.172709   \n",
       "3              Qualifier      22                enables    289710   45.569584   \n",
       "4                  GO ID   18892             GO:0005515    206265   32.444204   \n",
       "5           DB:Reference   54365          PMID:32296183     81758   12.860026   \n",
       "6          Evidence Code      21                    IPI    217316   34.182458   \n",
       "7              With_From   62787   UniProtKB-KW:KW-0479      2299   37.786688   \n",
       "8                 Aspect       3                      F    291327   45.823928   \n",
       "9         DB Object Name   19638             Huntingtin      1098    0.172709   \n",
       "10     DB Object Synonym   19773            HTT|HD|IT15      1098    0.172709   \n",
       "11        DB Object Type       1                protein    635753  100.000000   \n",
       "12                 Taxon     135             taxon:9606    635186   99.910814   \n",
       "13                  Date    5261               20220910    187257   29.454364   \n",
       "14           Assigned By      37                 IntAct    187257   29.454364   \n",
       "15  Annotation Extension    7274  occurs_in(GO:0005634)      2683   95.266086   \n",
       "\n",
       "     欠損値の数     欠損値の割合     タイプ  \n",
       "0        0   0.000000  object  \n",
       "1        0   0.000000  object  \n",
       "2      167   0.026268  object  \n",
       "3        0   0.000000  object  \n",
       "4        0   0.000000  object  \n",
       "5        0   0.000000  object  \n",
       "6        0   0.000000  object  \n",
       "7   240230  37.786688  object  \n",
       "8        0   0.000000  object  \n",
       "9        0   0.000000  object  \n",
       "10     303   0.047660  object  \n",
       "11       0   0.000000  object  \n",
       "12       0   0.000000  object  \n",
       "13       0   0.000000   int64  \n",
       "14       0   0.000000  object  \n",
       "15  605657  95.266086  object  "
      ]
     },
     "execution_count": 46,
     "metadata": {},
     "output_type": "execute_result"
    }
   ],
   "source": [
    "df_stats(goa)"
   ]
  },
  {
   "cell_type": "code",
   "execution_count": 50,
   "id": "5b6772c8-0194-4c61-93f6-49ca95ac2b14",
   "metadata": {},
   "outputs": [
    {
     "data": {
      "text/plain": [
       "array(['NUDT4B', 'IGKV3-7', 'IGKV1D-42', 'IGLV4-69', 'IGLV8-61',\n",
       "       'IGLV4-60', 'IGLV11-55', 'IGLV10-54', 'IGLV1-50', 'IGLV5-48'],\n",
       "      dtype=object)"
      ]
     },
     "execution_count": 50,
     "metadata": {},
     "output_type": "execute_result"
    }
   ],
   "source": [
    "symbols = goa[\"DB Object Symbol\"].unique()\n",
    "symbols[:10]"
   ]
  },
  {
   "cell_type": "code",
   "execution_count": null,
   "id": "6414ffb9-c834-4cc8-a990-c303f95c96fd",
   "metadata": {},
   "outputs": [],
   "source": []
  },
  {
   "cell_type": "markdown",
   "id": "2f13a607-f643-4db0-8b65-c419be263dfa",
   "metadata": {},
   "source": [
    "## CITEseq Data"
   ]
  },
  {
   "cell_type": "code",
   "execution_count": 47,
   "id": "ee601a66-c367-45f8-ac50-611d9c94b19c",
   "metadata": {},
   "outputs": [],
   "source": [
    "num_train = len(input.train_cite_inputs)"
   ]
  },
  {
   "cell_type": "code",
   "execution_count": 48,
   "id": "dfe53ecb-4737-44f5-884d-723570c97781",
   "metadata": {},
   "outputs": [],
   "source": [
    "df = pd.concat([input.train_cite_inputs, input.test_cite_inputs])"
   ]
  },
  {
   "cell_type": "code",
   "execution_count": 49,
   "id": "424f9943-3fca-4325-876d-85863cf56437",
   "metadata": {},
   "outputs": [
    {
     "data": {
      "text/plain": [
       "['A1BG',\n",
       " 'A1BG-AS1',\n",
       " 'A2M',\n",
       " 'A2M-AS1',\n",
       " 'A2ML1',\n",
       " 'A4GALT',\n",
       " 'AAAS',\n",
       " 'AACS',\n",
       " 'AADAT',\n",
       " 'AAGAB']"
      ]
     },
     "execution_count": 49,
     "metadata": {},
     "output_type": "execute_result"
    }
   ],
   "source": [
    "cols = [col.split(\"_\")[1] for col in df.columns]\n",
    "cols[:10]"
   ]
  },
  {
   "cell_type": "code",
   "execution_count": 51,
   "id": "884ba2eb-45b9-44fe-b174-5bf93e680636",
   "metadata": {},
   "outputs": [
    {
     "data": {
      "text/plain": [
       "22050"
      ]
     },
     "execution_count": 51,
     "metadata": {},
     "output_type": "execute_result"
    }
   ],
   "source": [
    "len(cols)"
   ]
  },
  {
   "cell_type": "code",
   "execution_count": 75,
   "id": "8027934e-1821-4bd8-bf10-8743c51a10e0",
   "metadata": {},
   "outputs": [
    {
     "data": {
      "text/plain": [
       "21967"
      ]
     },
     "execution_count": 75,
     "metadata": {},
     "output_type": "execute_result"
    }
   ],
   "source": [
    "# _ で切ったとき 同じシンボルの列が複数ある\n",
    "len(set(cols))"
   ]
  },
  {
   "cell_type": "code",
   "execution_count": 52,
   "id": "11a01c4b-0025-4c82-91dd-e6f2a8c98dad",
   "metadata": {},
   "outputs": [
    {
     "data": {
      "text/plain": [
       "8039"
      ]
     },
     "execution_count": 52,
     "metadata": {},
     "output_type": "execute_result"
    }
   ],
   "source": [
    "no_symbol = set(cols) - set(symbols)\n",
    "len(no_symbol)"
   ]
  },
  {
   "cell_type": "code",
   "execution_count": 67,
   "id": "6893d6a1-eea6-43ab-b015-3208e1826cd8",
   "metadata": {},
   "outputs": [
    {
     "data": {
      "text/plain": [
       "13928"
      ]
     },
     "execution_count": 67,
     "metadata": {},
     "output_type": "execute_result"
    }
   ],
   "source": [
    "found_symbol = set(cols) & set(symbols)\n",
    "len(found_symbol)"
   ]
  },
  {
   "cell_type": "code",
   "execution_count": 62,
   "id": "664b6b8e-8dd8-4494-b8e0-a8bc382386fc",
   "metadata": {},
   "outputs": [
    {
     "data": {
      "text/plain": [
       "['AC092683',\n",
       " 'AC055822',\n",
       " 'UMODL1',\n",
       " 'AL355488',\n",
       " 'FAM49A',\n",
       " 'NACAP8',\n",
       " 'LINC02415',\n",
       " 'AC004381',\n",
       " 'AC019226',\n",
       " 'RN7SL566P']"
      ]
     },
     "execution_count": 62,
     "metadata": {},
     "output_type": "execute_result"
    }
   ],
   "source": [
    "cols_2 = [re.split(\"[-.]\", col)[0] for col in no_symbol]\n",
    "cols_2[:10]"
   ]
  },
  {
   "cell_type": "code",
   "execution_count": 63,
   "id": "ed3d41c9-658f-4f2c-ab29-0044e7c9cedd",
   "metadata": {},
   "outputs": [
    {
     "data": {
      "text/plain": [
       "6063"
      ]
     },
     "execution_count": 63,
     "metadata": {},
     "output_type": "execute_result"
    }
   ],
   "source": [
    "no_symbol_2 = set(cols_2) - set(symbols)\n",
    "len(no_symbol_2)"
   ]
  },
  {
   "cell_type": "code",
   "execution_count": 69,
   "id": "d230b51d-6ac7-4f22-a433-4f111f8d068d",
   "metadata": {},
   "outputs": [
    {
     "data": {
      "text/plain": [
       "641"
      ]
     },
     "execution_count": 69,
     "metadata": {},
     "output_type": "execute_result"
    }
   ],
   "source": [
    "found_symbol_2 = set(cols_2) & set(symbols)\n",
    "len(found_symbol_2)"
   ]
  },
  {
   "cell_type": "code",
   "execution_count": 71,
   "id": "a49e8761-5754-47b7-a4ed-acc109582d35",
   "metadata": {},
   "outputs": [
    {
     "data": {
      "text/plain": [
       "13958"
      ]
     },
     "execution_count": 71,
     "metadata": {},
     "output_type": "execute_result"
    }
   ],
   "source": [
    "found_cols = (set(cols) & set(symbols)) | (set(cols_2) & set(symbols))\n",
    "len(found_cols)"
   ]
  },
  {
   "cell_type": "code",
   "execution_count": null,
   "id": "e9c9faa8-d00e-4bf9-b398-402d9a936bcd",
   "metadata": {},
   "outputs": [],
   "source": []
  },
  {
   "cell_type": "code",
   "execution_count": null,
   "id": "4016e0b9-7ca5-4f82-8a93-cb1c6256b431",
   "metadata": {},
   "outputs": [],
   "source": []
  },
  {
   "cell_type": "markdown",
   "id": "d8a63f61-66ef-42fc-9261-f3f6d726112b",
   "metadata": {},
   "source": [
    "TODO: symbols を column に、 cell を index に持つ df つくる\n",
    "値は、 RNA の値をそのまま該当する GO の列にマッピングしてみる"
   ]
  },
  {
   "cell_type": "code",
   "execution_count": null,
   "id": "ce3e8024-3467-4640-b1a8-77c440763acc",
   "metadata": {},
   "outputs": [],
   "source": []
  },
  {
   "cell_type": "code",
   "execution_count": null,
   "id": "c4b746a7-4256-4ef1-8fd5-96096e29bf21",
   "metadata": {},
   "outputs": [],
   "source": []
  },
  {
   "cell_type": "code",
   "execution_count": null,
   "id": "748ae1ca-401c-431e-b62c-eb25e44c83f7",
   "metadata": {},
   "outputs": [],
   "source": []
  },
  {
   "cell_type": "code",
   "execution_count": null,
   "id": "437a35f6-cbfe-4491-a707-049a566eae87",
   "metadata": {},
   "outputs": [],
   "source": []
  },
  {
   "cell_type": "code",
   "execution_count": null,
   "id": "7a1659b5-1886-4815-995a-92581e0d0511",
   "metadata": {},
   "outputs": [],
   "source": []
  }
 ],
 "metadata": {
  "kernelspec": {
   "display_name": "develop",
   "language": "python",
   "name": "develop"
  },
  "language_info": {
   "codemirror_mode": {
    "name": "ipython",
    "version": 3
   },
   "file_extension": ".py",
   "mimetype": "text/x-python",
   "name": "python",
   "nbconvert_exporter": "python",
   "pygments_lexer": "ipython3",
   "version": "3.8.12"
  }
 },
 "nbformat": 4,
 "nbformat_minor": 5
}
