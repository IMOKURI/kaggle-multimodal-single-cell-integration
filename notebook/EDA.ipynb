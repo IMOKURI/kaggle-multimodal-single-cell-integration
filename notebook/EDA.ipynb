{
 "cells": [
  {
   "cell_type": "markdown",
   "id": "348892fa-ab4d-4da2-b0f6-e98e3eba93fc",
   "metadata": {},
   "source": [
    "# Open Problems - Multimodal Single-Cell Integration"
   ]
  },
  {
   "cell_type": "markdown",
   "id": "7f6e7f16-85dc-4f48-8681-2fd0dcbbcdc5",
   "metadata": {
    "tags": []
   },
   "source": [
    "## Setup"
   ]
  },
  {
   "cell_type": "code",
   "execution_count": 1,
   "id": "ddd3c482-9afb-46bb-982d-77df2233b0fa",
   "metadata": {},
   "outputs": [],
   "source": [
    "import sys\n",
    "\n",
    "sys.path.append(\"../working\")"
   ]
  },
  {
   "cell_type": "code",
   "execution_count": 2,
   "id": "037dfadb-933a-4c42-bd60-f182d5c5cfe3",
   "metadata": {},
   "outputs": [],
   "source": [
    "import logging\n",
    "\n",
    "logging.basicConfig(\n",
    "    # filename=__file__.replace('.py', '.log'),\n",
    "    level=logging.getLevelName(\"INFO\"),\n",
    "    format=\"%(asctime)s [%(levelname)s] [%(module)s] %(message)s\",\n",
    ")\n",
    "\n",
    "log = logging.getLogger(__name__)"
   ]
  },
  {
   "cell_type": "code",
   "execution_count": 3,
   "id": "30441340-4b9c-4ece-bebc-86aa4efab101",
   "metadata": {},
   "outputs": [
    {
     "name": "stderr",
     "output_type": "stream",
     "text": [
      "2022-08-24 22:11:16,844 [INFO] [utils] Note: detected 88 virtual cores but NumExpr set to maximum of 64, check \"NUMEXPR_MAX_THREADS\" environment variable.\n",
      "2022-08-24 22:11:16,846 [INFO] [utils] Note: NumExpr detected 88 cores but \"NUMEXPR_MAX_THREADS\" not set, so enforcing safe limit of 8.\n",
      "2022-08-24 22:11:16,846 [INFO] [utils] NumExpr defaulting to 8 threads.\n"
     ]
    }
   ],
   "source": [
    "import glob\n",
    "import os\n",
    "\n",
    "import matplotlib.pyplot as plt\n",
    "import numpy as np\n",
    "import pandas as pd\n",
    "import scipy.stats as stats\n",
    "import seaborn as sns\n",
    "from omegaconf import OmegaConf\n",
    "from src.get_score import get_score\n",
    "from src.load_data import InputData\n",
    "from src.make_dataset import BaseDataset, get_transforms\n",
    "from src.make_model import ImageBaseModel\n",
    "from src.utils import df_stats\n",
    "from torch.utils.data import DataLoader\n",
    "\n",
    "pd.set_option(\"display.max_rows\", None)\n",
    "pd.set_option(\"display.max_columns\", None)\n",
    "pd.set_option(\"display.max_colwidth\", None)"
   ]
  },
  {
   "cell_type": "code",
   "execution_count": 4,
   "id": "459de3b6-ddc1-4aa0-8215-8e2cd425ff7b",
   "metadata": {},
   "outputs": [],
   "source": [
    "# Competition specific library"
   ]
  },
  {
   "cell_type": "markdown",
   "id": "78bfa3df-3efe-415c-9f49-be80c14333d2",
   "metadata": {
    "tags": []
   },
   "source": [
    "## 目的\n",
    "\n",
    "このコンペティションの目的は、骨髄幹細胞がより成熟した血液細胞へと成長する過程で、DNA、RNA、タンパク質の測定値が単一細胞内でどのように共変動するかを予測することである。このコンペティションのために、細胞中心の創薬企業であるCellarity社が作成した、4人のヒトドナーのCD34+造血幹・前駆細胞（HSPC）の5時点の30万細胞の時間経過データセットのサブセットを用いて、トレーニングしたモデルを開発することになります。\n",
    "\n",
    "テストセットでは、データセット内の未知の遅い時点から取得され、競技者は1つのモダリティを与えられ、同じセルで測定された対のモダリティを予測することを課される。このコンペティションの課題は、テストデータがトレーニングデータのどの時点のものよりも遅い時点のものであることである。\n",
    "\n",
    "あなたの研究は、細胞の状態を何層にも分けて遺伝情報をマッピングする方法の技術革新を加速させるでしょう。もし、ある様式を別の様式から予測することができれば、これらの複雑な制御過程を支配する規則についての理解を深めることができるかもしれません。\n",
    "\n",
    "![predict](https://user-images.githubusercontent.com/1638500/186604146-0dfcb9b7-87a3-466c-b2a5-e297b93cef87.png)\n",
    "\n",
    "過去10年間、シングルセルゲノミクスの登場により、単一細胞内のDNA、RNA、タンパク質の測定が可能になった。これらの技術により、前例のないスケールと解像度で生物学を研究することが可能になった。その結果、ヒトの初期胚発生の詳細なマップ、新しい疾患関連細胞の発見、細胞を標的とした治療介入などが実現しました。さらに、最近の実験技術の進歩により、同一細胞内の複数のゲノムモダリティを測定することが可能になった。\n",
    "\n",
    "マルチモーダルなシングルセルデータがますます利用できるようになる一方で、データ解析手法はまだ不足しています。単一細胞は体積が小さいため、測定値はまばらでノイズが多い。細胞間の分子サンプリング深さの違い（シーケンシング深さ）や、バッチで細胞を扱うことによる技術的効果（バッチ効果）は、しばしば生物学的な差異を圧倒することがあります。マルチモーダルデータを解析する場合、異なる特徴空間、モダリティ間およびバッチ間の共有および固有の変動を考慮する必要があります。さらに、現在の単一細胞データ解析のパイプラインは、たとえその下にダイナミックな生物学的プロセスがあったとしても、細胞を静的なスナップショットとして扱っている。時間経過に伴う状態の変化と同時に時間的なダイナミクスを考慮することは、シングルセルデータサイエンスにおける未解決の課題である。\n",
    "\n",
    "一般に、遺伝情報はDNA→RNA→タンパク質と流れる。RNA（GEXデータ）を生成するためにはDNAにアクセスできなければならず（ATACデータ）、RNAはタンパク質を生成するための鋳型として利用される（ADTデータ）。これらのプロセスは、フィードバックによって制御されています。例えば、タンパク質がDNAと結合することで、より多くのRNAが生成されるのを防ぐことができます。このような遺伝子の制御が、生物が発展し、環境の変化に適応していくためのダイナミックな細胞プロセスの基盤となっているのです。単一細胞データ科学では、動的プロセスは、生物学的プロセスの進行を捕らえる、いわゆる擬似時間アルゴリズムによってモデル化されてきた。しかし、これらのアルゴリズムを一般化し、擬似時間と実時間の両方を考慮することは、まだ未解決の問題である。\n",
    "\n",
    "コンペティション主催のOpen Problems in Single-Cell Analysisは、シングルセル解析手法のベンチマークを標準化するための、オープンソースかつコミュニティ主導の取り組みです。Open Problemsの中核となる取り組みには、既存の課題を測定可能なタスクに形式化すること、高品質のデータセットを収集すること、コミュニティから提供された手法のベンチマークを集中的に行うこと、多様な手法開発者を集めてシングルセルのアルゴリズムを改善するコミュニティに焦点を当てたイベントを開催することなどがあります。彼らは、Cellarity、Chan Zuckerbeg Biohub、Chan Zuckerberg Initiative、Helmholtz Munich、Yaleと提携し、学際的なコラボレーションを通じて、遺伝的ダイナミックスの時間的変化を予測することにどんな進展が見られるかに期待しています。\n",
    "\n",
    "人体には約37兆個の細胞が存在し、それぞれが異なる行動や機能を有しています。一つのゲノムがどのようにして多様な細胞状態を生み出すのかを理解することは、健康や病気において組織がどのように機能し、どのように誤作動を起こすのかをメカニズム的に理解するための鍵となります。あなたは、この単一細胞生物学の基本的な課題の解決に貢献することができます。予測問題を長期にわたって解くことができれば、血液や免疫細胞の成熟に伴う分化に遺伝子制御がどのように影響するかについて、新たな知見を得ることができるかもしれません。\n",
    "\n",
    "\n",
    "## 評価\n",
    "\n",
    "投稿の順位付けには、ピアソン相関係数を使用しています。Multiomeデータセットの各オブザベーションについて、グランドトゥルース遺伝子発現と予測される遺伝子発現の相関を計算します。CITEseqデータセットの各オブザベーションについて、ground-truthの表面タンパク質レベルと予測される表面タンパク質レベルの間の相関を計算します。総合スコアは、各サンプルの相関スコアの平均値です。あるサンプルの予測値がすべて同じであった場合、そのサンプルの相関は-1.0としてスコア化されます。\n",
    "\n",
    "\n",
    "## 提出ファイル\n",
    "\n",
    "評価セット内の各idについて、そのrow_idの ターゲット値を予測する必要があります。提出物はヘッダーを含み、以下のフォーマットである必要があります。\n",
    "\n",
    "\n",
    "\n",
    "```\n",
    "row_id,target\n",
    "0,0.0\n",
    "1,0.0\n",
    "2,0.0\n",
    "3,0.0\n",
    "...\n",
    "```\n",
    "\n",
    "提出ファイルは、テストセットのオブザベーションのサブセットのみを含む必要があります。含まれるべき特定の ID については、データ説明を参照してください。\n",
    "\n",
    "\n",
    "\n",
    "\n",
    "## データ\n",
    "\n",
    "このコンペティションのデータセットは、4人の健康なヒトドナーから分離した動員末梢CD34+造血幹細胞および前駆細胞（HSPCs）から収集したシングルセルマルチオミクスデータから構成されています。細胞の詳細については、ベンダーのウェブサイトをご覧ください。\n",
    "\n",
    "測定は10日間にわたり、5つの時点で行われた。各時点の各プレートから、2種類のシングルセルアッセイで測定するために細胞を採取した。1つ目は10x Chromium Single Cell Multiome ATAC + Gene Expressiontechnology（Multiome）、2つ目は10x Genomics Single Cell Gene Expression with Feature Barcodingtechnologyで、TotalSeq™-B Human Universal Cocktail, V1.0(CITEseq) を使用したもの。\n",
    "\n",
    "このデータ型を扱ったことがない方は、この説明の一番下にいくつかのリンクを載せています。\n",
    "\n",
    "各アッセイ技術では、2つのモダリティを測定します。Multiomeキットはクロマチンアクセシビリティ（DNA）と遺伝子発現（RNA）を、CITEseqキットは遺伝子発現（RNA）と表面タンパク質のレベルを測定します。\n",
    "\n",
    "分子生物学のセントラルドグマに従うとDNA→RNA→タンパク質という分子生物学のセントラルドグマに従って、あなたの仕事は次の通りです。\n",
    "\n",
    "- Multiomeサンプルの場合：クロマチンアクセシビリティが与えられた場合、遺伝子発現を予測する。\n",
    "- CITEseqサンプルについて：遺伝子発現が与えられた場合、タンパク質量を予測する。\n",
    "\n",
    "### 細胞の種類\n",
    "\n",
    "解析の参考のため、以下の論文の情報を用いて、RNA 遺伝子発現に基づく予備的な細胞タイプアノテーションを行った： https://www.nature.com/articles/ncb3493 .細胞タイプのアノテーションは不正確な技術であり、連続データに離散的なラベルを割り当てるという概念には固有の限界があることに注意してください。これらのラベルを予測に使用する必要はなく、主に探索的な解析のガイドとして提供されている。このデータでは、以下のような細胞タイプがある。\n",
    "\n",
    "- MasP= マスト細胞プロジェニター\n",
    "- MkP＝メガカリョク細胞プロジェニター\n",
    "- NeuP= 好中球プロジェニター\n",
    "- MoP= Monocyte Progenitor（単球前駆体）。\n",
    "- EryP= 赤血球前駆体（Erythrocyte Progenitor）。\n",
    "- HSC= Hematoploetic Stem Cell（造血幹細胞）。\n",
    "- BP= B細胞プロジェニター\n",
    "\n",
    "\n",
    "### ファイルおよびフィールドの説明\n",
    "\n",
    "- metadata.csv\n",
    "    - cell_id- 観測された各セルに対する一意の識別子．\n",
    "    - donor- 4人の細胞ドナーの識別子。\n",
    "    - day- 観察が行われた実験の日。\n",
    "    - 技術-citeseqか multiomeのどちらか。\n",
    "    - cell_type- 上記のセルタイプの1つ，あるいは非表示．\n",
    "\n",
    "実験観測はいくつかの大きなアレイに含まれています。これらのアレイはHDF5フォーマットで提供されます。\n",
    "\n",
    "\n",
    "#### マルチオーム\n",
    "\n",
    "- `train/test_multi_inputs.h5`- ATAC-seq peak counts をTF-IDFで変換し、デフォルトのlog(TF) * log(IDF)output (chromatin accessibility)を使用。行は細胞、列はアクセスレベルを測定したゲノムの位置（ここでは 10xReferences - 2020-A (July 7, 2020) で提供された参照ゲノム GRCh38 のゲノム座標により特定）に相当します。\n",
    "- `train_multi_targets.h5`- RNA遺伝子発現レベル（同一細胞のライブラリサイズ正規化およびlog1p変換カウントとして）。\n",
    "\n",
    "\n",
    "#### CITEseq\n",
    "\n",
    "- `train/test_cite_inputs.h5`- RNAライブラリサイズで正規化、log1p変換したカウント値（遺伝子発現レベル）、行は{gene_name}_{gene_ensemble-ids}で指定したセル、列は遺伝子に対応。\n",
    "- `train_cite_targets.h5`-dsbで正規化された同じ細胞の表面タンパク質レベル。\n",
    "\n",
    "\n",
    "#### データ分割\n",
    "\n",
    "データ分割は以下のように整理されている。\n",
    "\n",
    "- トレーニングセットは、13176、31800、32606のドナーからのサンプルだけから構成される。公開テストセットは、ドナー27678からのサンプルだけから構成される。プライベートテストセットは、4人のドナーすべてからのサンプルで構成される。\n",
    "- Multiomeサンプルについては、トレーニングセットは2日目、3日目、4日目、7日目のサンプルのみで構成されています。公開テストセットは、2日目、3日目、7日目のデータのみから構成される。プライベートテストセットは、10日目のデータのみから構成される。\n",
    "- CITEseqサンプルについては、トレーニングセットは2日目、3日目、4日目のサンプルのみから構成されています。公開テストセットも2日目、3日目、4日目のみのサンプルから構成される。プライベートテストセットは、7日目のサンプルだけから構成されます。どの分割においても、10日目のCITEseqサンプルは存在しない。\n",
    "\n",
    "![data-split](https://user-images.githubusercontent.com/1638500/186604139-c3269f74-9b8c-4521-80f2-7930b6e607cb.jpg)\n",
    "\n",
    "\n",
    "あなたの課題は、テストセットの入力に対応するラベルを予測することです。提出物の採点を容易にするため、マルチオームデータのサブセットに対する予測のみを要求します。このサブセットは、Multiomeの行の30%、各行に対して列の15%をサンプリングして作成されています。列のサンプルは行ごとに異なります。CITEseqラベルは全てスコア化されています。\n",
    "\n",
    "- `evaluation_ids.csv`- 評価対象のテストセットからラベルを特定する。ラベルマトリックスのcell_id/gene_id識別子から、提出ファイルに必要なrow_idへの結合キーが提供されます。\n",
    "- `sample_submission.csv`- 正しい形式の投稿ファイルのサンプルです。詳しくは、評価のページをご覧ください。\n",
    "\n",
    "### 学習リソース\n",
    "\n",
    "- Open Problems - マルチモーダル単一細胞データについて- マルチモーダルデータを初めて見る人に説明するために昨年作成した情報ページです。\n",
    "  https://openproblems.bio/neurips_docs/data/about_multimodal/\n",
    "- モデル、推論、アルゴリズム - マルチモーダル単一細胞解析で競争するために団結する- コンペティションの背景と動機を提供するBroad Institutes Models, Inferences, and Algorithmsセミナーでコンペティション主催者によって発表された講演です。\n"
   ]
  },
  {
   "cell_type": "markdown",
   "id": "b33a8df5-96de-4890-92be-b6fa408e4f23",
   "metadata": {},
   "source": [
    "## Discussion メモ\n",
    "\n"
   ]
  },
  {
   "cell_type": "markdown",
   "id": "a4507d9d-e0b8-4a96-b21e-41089147df24",
   "metadata": {},
   "source": [
    "### Welcome to the Open Problems Multimodal Single-Cell Integration challenge!\n",
    "\n",
    "https://www.kaggle.com/competitions/open-problems-multimodal/discussion/344607\n",
    "\n",
    "このコンペティションは、単一細胞で同時に測定された異なる遺伝子測定値（DNA、RNA、タンパク質）間の関係を予測することをテーマとしています。生物医学の分野では、シングルセル技術によって、人体に存在する37兆個の細胞の多様性や、これらの細胞の種類が健康と病気の間でどのように異なるかについて、爆発的に新しい知見が得られてきています。しかし、この分野にはまだいくつかの壮大な課題が残されており、細胞状態のダイナミクスのモデリングは最大の未解決問題の一つである（Genome Biology 2020）。\n",
    "\n",
    "このコンペティションでOpen Problemsは、細胞中心の創薬企業であるCellarity社と提携し、細胞の状態変化を時系列で捉えることができるアルゴリズムの進歩を促すために設計された、世界初のベンチマークデータセットを作成しました。我々は、2つの異なるマルチモーダル単一細胞技術を用いて、4人の健康なヒトドナーのCD34+造血幹細胞および前駆細胞（HSPCs）を5つの時点で測定しました。あなたの課題は、これらのモダリティ間の関係を学び、データセット内の後の未知の時点において、一方から他方へ予測する方法を学ぶことです。\n",
    "\n",
    "\n"
   ]
  },
  {
   "cell_type": "markdown",
   "id": "8d627b9d-7165-45bb-b9cb-1761e6c73a1d",
   "metadata": {},
   "source": [
    "\n",
    "### Understanding the Competition + Some Domain Knowledge\n",
    "\n",
    "https://www.kaggle.com/competitions/open-problems-multimodal/discussion/346888\n",
    "\n",
    "- このコンペティションは2つのパートに分かれていると考えることができます。MultiomeとCITEseqです。\n",
    "- どちらのパートでも、ベクトル入力が与えられたときにベクトル予測を行うモデルが必要です。\n",
    "- 各セルIDはサンプルを表します。\n",
    "- Multiomeでは、変換された数値DNAデータを使って、変換された数値RNAデータを予測する必要があります。\n",
    "- CITEseqでは、変換された数値RNAデータを用いて、変換された数値Proteinデータを予測する必要があります。\n",
    "\n",
    "<img alt=\"inbox_6537187_bf8c54a125ecfd986cd30c5ecc0724a2_central_dogma2\" src=\"https://user-images.githubusercontent.com/1638500/186604158-3123609f-bd97-46d5-8193-f9a4012bb8c9.png\">\n",
    "\n",
    "\n",
    "- 予測値をターゲットテーブルと同様にフォーマットする\n",
    "- ラベルマトリックスからcell_id / gene_id のインデックスを作成し、evalations_ids.csv を作成する。\n",
    "- evaulations_ids.csvをsample_submission.csvにrow_idでマッピングする。\n",
    "\n",
    "<img alt=\"inbox_6537187_1997e2ec55923d44b4d0a53221311456_sub_pic\" src=\"https://user-images.githubusercontent.com/1638500/186604154-ba0643d6-5c00-445c-9d2f-28170f000c6e.png\">\n",
    "\n",
    "\n",
    "\n",
    "\n",
    "### セントラルドグマ\n",
    "\n",
    "https://ja.wikipedia.org/wiki/%E3%82%BB%E3%83%B3%E3%83%88%E3%83%A9%E3%83%AB%E3%83%89%E3%82%B0%E3%83%9E\n",
    "\n",
    "セントラルドグマ（英: central dogma）とは、遺伝情報は「DNA→（転写）→mRNA→（翻訳）→タンパク質」の順に伝達される、という、分子生物学の概念である。\n",
    "\n",
    "![220px-Central_Dogma_of_Molecular_Biochemistry_with_Enzymes](https://user-images.githubusercontent.com/1638500/186604150-9b557a15-c668-4891-8d02-09bbe64137ea.jpg)\n",
    "\n",
    "セントラルドグマの流れ。DNAポリメラーゼによって複製されたDNAは、RNAポリメラーゼによって転写されてRNA (mRNA) が合成され、転写されたRNAはリボソームに結合して翻訳され、たんぱく質が合成される\n",
    "\n",
    "\n",
    "#### 遺伝情報の発現\n",
    "\n",
    "真核生物におけるセントラルドグマの過程は次のとおりである。まず、RNAポリメラーゼIIの働きにより、DNAの遺伝情報はmRNAに転写される。次に、mRNAが核膜の孔を通って核から細胞質基質に出ると、細胞質基質中のリボソームに結合する。リボソームにおいては、アミノ酸を運んできたtRNAが、mRNAの3つずつの塩基配列（コドン）に対応して結合し、運ばれてきたアミノ酸が繋がってペプチドを作る。RNAからタンパク質を作ることを翻訳と呼ぶ。この、DNAからタンパク質が出来る流れの概念がセントラルドグマである。\n",
    "\n",
    "通常、遺伝情報はこのようにDNAからタンパク質に一方的に伝達され発現するのであるが、例外がある。RNAを遺伝子としているウイルスの一部（レトロウイルス）は、宿主細胞内でRNAをDNAに変換するセントラルドグマの逆反応を行う。その後に、セントラルドグマに従ってDNAからRNAの転写を経てタンパク質へ翻訳され、ウイルスが作成される。\n",
    "\n",
    "#### 遺伝情報の複製\n",
    "\n",
    "生物の遺伝情報はゲノムDNAに保存されている。生物の基本単位である細胞が同じ遺伝情報を持った二つの細胞に分裂するためには、細胞が分裂する前に親細胞と同じ遺伝情報をもう一揃え合成する必要がある。この遺伝情報の複製はDNA複製によって行われる。また親から子への遺伝もDNA複製によって行なわれるが、有性生殖を行う生物は減数分裂によって染色体の選択が行われた接合子が接合する事で両親の遺伝情報の半分ずつを受け継ぐ。\n",
    "\n",
    "複製は 極めて高い精度で行われるが、それでも10e-9程度の割合で合成ミスが起こる。また紫外線や放射線、化学物質によってDNAが傷つき、突然変異が生じることもある。\n",
    "\n",
    "\n",
    "\n"
   ]
  },
  {
   "cell_type": "markdown",
   "id": "009c6445-93de-4d81-9a46-afc54394b43c",
   "metadata": {},
   "source": [
    "## EDA メモ\n",
    "\n",
    "- すべてのデータの読み込みに 40分 ほど必要  \n",
    "  ![data-loading-time](https://user-images.githubusercontent.com/1638500/186604130-2c1004be-e8ed-4042-9663-123dd641a80b.png)\n",
    "\n",
    "\n",
    "\n"
   ]
  },
  {
   "cell_type": "code",
   "execution_count": 5,
   "id": "972c88a8-8053-43bc-bb93-9368ceafcdf8",
   "metadata": {},
   "outputs": [
    {
     "name": "stderr",
     "output_type": "stream",
     "text": [
      "2022-08-24 22:11:19,322 [INFO] [load_data] Load feather file. path: ../input/evaluation_ids.f\n",
      "2022-08-24 22:11:26,123 [INFO] [utils] Mem. usage decreased to 125Mb: 16% reduction\n",
      "2022-08-24 22:11:26,472 [INFO] [load_data] Load feather file. path: ../input/metadata.f\n",
      "2022-08-24 22:11:26,592 [INFO] [utils] Mem. usage decreased to 7.2Mb: 32% reduction\n",
      "2022-08-24 22:11:26,597 [INFO] [load_data] Load feather file. path: ../input/sample_submission.f\n",
      "2022-08-24 22:11:28,929 [INFO] [utils] Mem. usage decreased to 501Mb: 49% reduction\n",
      "2022-08-24 22:11:28,932 [INFO] [load_data] Load original file. path: ../input/test_cite_inputs.h5\n",
      "2022-08-24 22:12:33,493 [INFO] [utils] Mem. usage decreased to 409Mb: 0.% reduction\n",
      "2022-08-24 22:12:33,545 [INFO] [load_data] Load original file. path: ../input/test_multi_inputs.h5\n",
      "2022-08-24 22:24:41,921 [INFO] [utils] Mem. usage decreased to 488Mb: 0.% reduction\n",
      "2022-08-24 22:24:42,649 [INFO] [load_data] Load original file. path: ../input/train_cite_inputs.h5\n",
      "2022-08-24 22:26:33,523 [INFO] [utils] Mem. usage decreased to 597Mb: 0.% reduction\n",
      "2022-08-24 22:26:33,600 [INFO] [load_data] Load original file. path: ../input/train_cite_targets.h5\n",
      "2022-08-24 22:26:34,191 [INFO] [utils] Mem. usage decreased to 38.Mb: 0.% reduction\n",
      "2022-08-24 22:26:34,193 [INFO] [load_data] Load original file. path: ../input/train_multi_inputs.h5\n",
      "2022-08-24 22:50:41,494 [INFO] [utils] Mem. usage decreased to 925Mb: 0.% reduction\n",
      "2022-08-24 22:50:42,565 [INFO] [load_data] Load original file. path: ../input/train_multi_targets.h5\n",
      "2022-08-24 22:53:44,363 [INFO] [utils] Mem. usage decreased to 946Mb: 0.% reduction\n"
     ]
    }
   ],
   "source": [
    "c = OmegaConf.load(\"../working/config/main.yaml\")\n",
    "\n",
    "input = InputData(c, use_fold=True, do_preprocess=True)"
   ]
  },
  {
   "cell_type": "code",
   "execution_count": null,
   "id": "c9adcbfe-320d-41f4-8593-edd9e5e4be20",
   "metadata": {},
   "outputs": [],
   "source": []
  },
  {
   "cell_type": "code",
   "execution_count": null,
   "id": "e11a3e82-a89d-4cb8-be4d-b2281f07b0ef",
   "metadata": {},
   "outputs": [],
   "source": []
  },
  {
   "cell_type": "code",
   "execution_count": null,
   "id": "4627fca7-ec97-4d24-a0a0-40d05fb102cc",
   "metadata": {},
   "outputs": [],
   "source": []
  },
  {
   "cell_type": "markdown",
   "id": "4bc5af1a-29ad-4b80-a725-ca5164df85bf",
   "metadata": {
    "tags": []
   },
   "source": [
    "## Metadata\n",
    "\n"
   ]
  },
  {
   "cell_type": "code",
   "execution_count": 7,
   "id": "a74f78af-6eff-4fb9-92f7-3f6bcca30338",
   "metadata": {},
   "outputs": [
    {
     "name": "stdout",
     "output_type": "stream",
     "text": [
      "<class 'pandas.core.frame.DataFrame'>\n",
      "RangeIndex: 281528 entries, 0 to 281527\n",
      "Data columns (total 5 columns):\n",
      " #   Column      Non-Null Count   Dtype \n",
      "---  ------      --------------   ----- \n",
      " 0   cell_id     281528 non-null  object\n",
      " 1   day         281528 non-null  int8  \n",
      " 2   donor       281528 non-null  int16 \n",
      " 3   cell_type   281528 non-null  object\n",
      " 4   technology  281528 non-null  object\n",
      "dtypes: int16(1), int8(1), object(3)\n",
      "memory usage: 7.2+ MB\n"
     ]
    }
   ],
   "source": [
    "input.metadata.info()"
   ]
  },
  {
   "cell_type": "code",
   "execution_count": 8,
   "id": "ca664400-2fef-469c-9698-76000acee6a3",
   "metadata": {},
   "outputs": [
    {
     "data": {
      "text/html": [
       "<div>\n",
       "<style scoped>\n",
       "    .dataframe tbody tr th:only-of-type {\n",
       "        vertical-align: middle;\n",
       "    }\n",
       "\n",
       "    .dataframe tbody tr th {\n",
       "        vertical-align: top;\n",
       "    }\n",
       "\n",
       "    .dataframe thead th {\n",
       "        text-align: right;\n",
       "    }\n",
       "</style>\n",
       "<table border=\"1\" class=\"dataframe\">\n",
       "  <thead>\n",
       "    <tr style=\"text-align: right;\">\n",
       "      <th></th>\n",
       "      <th>cell_id</th>\n",
       "      <th>day</th>\n",
       "      <th>donor</th>\n",
       "      <th>cell_type</th>\n",
       "      <th>technology</th>\n",
       "    </tr>\n",
       "  </thead>\n",
       "  <tbody>\n",
       "    <tr>\n",
       "      <th>0</th>\n",
       "      <td>c2150f55becb</td>\n",
       "      <td>2</td>\n",
       "      <td>27678</td>\n",
       "      <td>HSC</td>\n",
       "      <td>citeseq</td>\n",
       "    </tr>\n",
       "    <tr>\n",
       "      <th>1</th>\n",
       "      <td>65b7edf8a4da</td>\n",
       "      <td>2</td>\n",
       "      <td>27678</td>\n",
       "      <td>HSC</td>\n",
       "      <td>citeseq</td>\n",
       "    </tr>\n",
       "    <tr>\n",
       "      <th>2</th>\n",
       "      <td>c1b26cb1057b</td>\n",
       "      <td>2</td>\n",
       "      <td>27678</td>\n",
       "      <td>EryP</td>\n",
       "      <td>citeseq</td>\n",
       "    </tr>\n",
       "    <tr>\n",
       "      <th>3</th>\n",
       "      <td>917168fa6f83</td>\n",
       "      <td>2</td>\n",
       "      <td>27678</td>\n",
       "      <td>NeuP</td>\n",
       "      <td>citeseq</td>\n",
       "    </tr>\n",
       "    <tr>\n",
       "      <th>4</th>\n",
       "      <td>2b29feeca86d</td>\n",
       "      <td>2</td>\n",
       "      <td>27678</td>\n",
       "      <td>EryP</td>\n",
       "      <td>citeseq</td>\n",
       "    </tr>\n",
       "  </tbody>\n",
       "</table>\n",
       "</div>"
      ],
      "text/plain": [
       "        cell_id  day  donor cell_type technology\n",
       "0  c2150f55becb    2  27678       HSC    citeseq\n",
       "1  65b7edf8a4da    2  27678       HSC    citeseq\n",
       "2  c1b26cb1057b    2  27678      EryP    citeseq\n",
       "3  917168fa6f83    2  27678      NeuP    citeseq\n",
       "4  2b29feeca86d    2  27678      EryP    citeseq"
      ]
     },
     "execution_count": 8,
     "metadata": {},
     "output_type": "execute_result"
    }
   ],
   "source": [
    "input.metadata.head()"
   ]
  },
  {
   "cell_type": "code",
   "execution_count": 9,
   "id": "0977dabc-95a4-495c-b101-5eac39e0dffb",
   "metadata": {},
   "outputs": [
    {
     "data": {
      "text/html": [
       "<div>\n",
       "<style scoped>\n",
       "    .dataframe tbody tr th:only-of-type {\n",
       "        vertical-align: middle;\n",
       "    }\n",
       "\n",
       "    .dataframe tbody tr th {\n",
       "        vertical-align: top;\n",
       "    }\n",
       "\n",
       "    .dataframe thead th {\n",
       "        text-align: right;\n",
       "    }\n",
       "</style>\n",
       "<table border=\"1\" class=\"dataframe\">\n",
       "  <thead>\n",
       "    <tr style=\"text-align: right;\">\n",
       "      <th></th>\n",
       "      <th>cell_id</th>\n",
       "      <th>day</th>\n",
       "      <th>donor</th>\n",
       "      <th>cell_type</th>\n",
       "      <th>technology</th>\n",
       "    </tr>\n",
       "  </thead>\n",
       "  <tbody>\n",
       "    <tr>\n",
       "      <th>281523</th>\n",
       "      <td>96a60b026659</td>\n",
       "      <td>10</td>\n",
       "      <td>31800</td>\n",
       "      <td>hidden</td>\n",
       "      <td>multiome</td>\n",
       "    </tr>\n",
       "    <tr>\n",
       "      <th>281524</th>\n",
       "      <td>d493e546991e</td>\n",
       "      <td>10</td>\n",
       "      <td>31800</td>\n",
       "      <td>hidden</td>\n",
       "      <td>multiome</td>\n",
       "    </tr>\n",
       "    <tr>\n",
       "      <th>281525</th>\n",
       "      <td>05666c99aa48</td>\n",
       "      <td>10</td>\n",
       "      <td>31800</td>\n",
       "      <td>hidden</td>\n",
       "      <td>multiome</td>\n",
       "    </tr>\n",
       "    <tr>\n",
       "      <th>281526</th>\n",
       "      <td>121f946642b5</td>\n",
       "      <td>10</td>\n",
       "      <td>31800</td>\n",
       "      <td>hidden</td>\n",
       "      <td>multiome</td>\n",
       "    </tr>\n",
       "    <tr>\n",
       "      <th>281527</th>\n",
       "      <td>b847ba21f59f</td>\n",
       "      <td>10</td>\n",
       "      <td>31800</td>\n",
       "      <td>hidden</td>\n",
       "      <td>multiome</td>\n",
       "    </tr>\n",
       "  </tbody>\n",
       "</table>\n",
       "</div>"
      ],
      "text/plain": [
       "             cell_id  day  donor cell_type technology\n",
       "281523  96a60b026659   10  31800    hidden   multiome\n",
       "281524  d493e546991e   10  31800    hidden   multiome\n",
       "281525  05666c99aa48   10  31800    hidden   multiome\n",
       "281526  121f946642b5   10  31800    hidden   multiome\n",
       "281527  b847ba21f59f   10  31800    hidden   multiome"
      ]
     },
     "execution_count": 9,
     "metadata": {},
     "output_type": "execute_result"
    }
   ],
   "source": [
    "input.metadata.tail()"
   ]
  },
  {
   "cell_type": "code",
   "execution_count": 10,
   "id": "04429ce4-78aa-4000-988f-dc1919881813",
   "metadata": {},
   "outputs": [
    {
     "data": {
      "text/html": [
       "<div>\n",
       "<style scoped>\n",
       "    .dataframe tbody tr th:only-of-type {\n",
       "        vertical-align: middle;\n",
       "    }\n",
       "\n",
       "    .dataframe tbody tr th {\n",
       "        vertical-align: top;\n",
       "    }\n",
       "\n",
       "    .dataframe thead th {\n",
       "        text-align: right;\n",
       "    }\n",
       "</style>\n",
       "<table border=\"1\" class=\"dataframe\">\n",
       "  <thead>\n",
       "    <tr style=\"text-align: right;\">\n",
       "      <th></th>\n",
       "      <th>day</th>\n",
       "      <th>donor</th>\n",
       "    </tr>\n",
       "  </thead>\n",
       "  <tbody>\n",
       "    <tr>\n",
       "      <th>count</th>\n",
       "      <td>281528.000000</td>\n",
       "      <td>281528.000000</td>\n",
       "    </tr>\n",
       "    <tr>\n",
       "      <th>mean</th>\n",
       "      <td>4.606348</td>\n",
       "      <td>26270.952445</td>\n",
       "    </tr>\n",
       "    <tr>\n",
       "      <th>std</th>\n",
       "      <td>2.570123</td>\n",
       "      <td>7967.233157</td>\n",
       "    </tr>\n",
       "    <tr>\n",
       "      <th>min</th>\n",
       "      <td>2.000000</td>\n",
       "      <td>13176.000000</td>\n",
       "    </tr>\n",
       "    <tr>\n",
       "      <th>25%</th>\n",
       "      <td>3.000000</td>\n",
       "      <td>13176.000000</td>\n",
       "    </tr>\n",
       "    <tr>\n",
       "      <th>50%</th>\n",
       "      <td>4.000000</td>\n",
       "      <td>31800.000000</td>\n",
       "    </tr>\n",
       "    <tr>\n",
       "      <th>75%</th>\n",
       "      <td>7.000000</td>\n",
       "      <td>32606.000000</td>\n",
       "    </tr>\n",
       "    <tr>\n",
       "      <th>max</th>\n",
       "      <td>10.000000</td>\n",
       "      <td>32606.000000</td>\n",
       "    </tr>\n",
       "  </tbody>\n",
       "</table>\n",
       "</div>"
      ],
      "text/plain": [
       "                 day          donor\n",
       "count  281528.000000  281528.000000\n",
       "mean        4.606348   26270.952445\n",
       "std         2.570123    7967.233157\n",
       "min         2.000000   13176.000000\n",
       "25%         3.000000   13176.000000\n",
       "50%         4.000000   31800.000000\n",
       "75%         7.000000   32606.000000\n",
       "max        10.000000   32606.000000"
      ]
     },
     "execution_count": 10,
     "metadata": {},
     "output_type": "execute_result"
    }
   ],
   "source": [
    "input.metadata.describe()"
   ]
  },
  {
   "cell_type": "code",
   "execution_count": 11,
   "id": "f13ef9c5-6e95-48ca-8c4f-b832babedc74",
   "metadata": {},
   "outputs": [
    {
     "data": {
      "text/html": [
       "<div>\n",
       "<style scoped>\n",
       "    .dataframe tbody tr th:only-of-type {\n",
       "        vertical-align: middle;\n",
       "    }\n",
       "\n",
       "    .dataframe tbody tr th {\n",
       "        vertical-align: top;\n",
       "    }\n",
       "\n",
       "    .dataframe thead th {\n",
       "        text-align: right;\n",
       "    }\n",
       "</style>\n",
       "<table border=\"1\" class=\"dataframe\">\n",
       "  <thead>\n",
       "    <tr style=\"text-align: right;\">\n",
       "      <th></th>\n",
       "      <th>カラム名</th>\n",
       "      <th>ユニーク値数</th>\n",
       "      <th>最頻値</th>\n",
       "      <th>最頻値の出現回数</th>\n",
       "      <th>最頻値の割合</th>\n",
       "      <th>欠損値の数</th>\n",
       "      <th>欠損値の割合</th>\n",
       "      <th>タイプ</th>\n",
       "    </tr>\n",
       "  </thead>\n",
       "  <tbody>\n",
       "    <tr>\n",
       "      <th>0</th>\n",
       "      <td>cell_id</td>\n",
       "      <td>281528</td>\n",
       "      <td>c2150f55becb</td>\n",
       "      <td>1</td>\n",
       "      <td>0.000355</td>\n",
       "      <td>0</td>\n",
       "      <td>0.0</td>\n",
       "      <td>object</td>\n",
       "    </tr>\n",
       "    <tr>\n",
       "      <th>1</th>\n",
       "      <td>day</td>\n",
       "      <td>5</td>\n",
       "      <td>4</td>\n",
       "      <td>67111</td>\n",
       "      <td>23.838126</td>\n",
       "      <td>0</td>\n",
       "      <td>0.0</td>\n",
       "      <td>int8</td>\n",
       "    </tr>\n",
       "    <tr>\n",
       "      <th>2</th>\n",
       "      <td>donor</td>\n",
       "      <td>4</td>\n",
       "      <td>31800</td>\n",
       "      <td>74963</td>\n",
       "      <td>26.627192</td>\n",
       "      <td>0</td>\n",
       "      <td>0.0</td>\n",
       "      <td>int16</td>\n",
       "    </tr>\n",
       "    <tr>\n",
       "      <th>3</th>\n",
       "      <td>cell_type</td>\n",
       "      <td>8</td>\n",
       "      <td>HSC</td>\n",
       "      <td>77535</td>\n",
       "      <td>27.540777</td>\n",
       "      <td>0</td>\n",
       "      <td>0.0</td>\n",
       "      <td>object</td>\n",
       "    </tr>\n",
       "    <tr>\n",
       "      <th>4</th>\n",
       "      <td>technology</td>\n",
       "      <td>2</td>\n",
       "      <td>multiome</td>\n",
       "      <td>161877</td>\n",
       "      <td>57.499432</td>\n",
       "      <td>0</td>\n",
       "      <td>0.0</td>\n",
       "      <td>object</td>\n",
       "    </tr>\n",
       "  </tbody>\n",
       "</table>\n",
       "</div>"
      ],
      "text/plain": [
       "         カラム名  ユニーク値数           最頻値  最頻値の出現回数     最頻値の割合  欠損値の数  欠損値の割合  \\\n",
       "0     cell_id  281528  c2150f55becb         1   0.000355      0     0.0   \n",
       "1         day       5             4     67111  23.838126      0     0.0   \n",
       "2       donor       4         31800     74963  26.627192      0     0.0   \n",
       "3   cell_type       8           HSC     77535  27.540777      0     0.0   \n",
       "4  technology       2      multiome    161877  57.499432      0     0.0   \n",
       "\n",
       "      タイプ  \n",
       "0  object  \n",
       "1    int8  \n",
       "2   int16  \n",
       "3  object  \n",
       "4  object  "
      ]
     },
     "execution_count": 11,
     "metadata": {},
     "output_type": "execute_result"
    }
   ],
   "source": [
    "df_stats(input.metadata)"
   ]
  },
  {
   "cell_type": "code",
   "execution_count": null,
   "id": "7bb8f7c9-8afb-4bd4-aa4f-98778fb48dc0",
   "metadata": {},
   "outputs": [],
   "source": []
  },
  {
   "cell_type": "markdown",
   "id": "f282e083-808e-4a88-8fe4-77d82449b172",
   "metadata": {
    "tags": []
   },
   "source": [
    "### データ分布\n"
   ]
  },
  {
   "cell_type": "code",
   "execution_count": 12,
   "id": "9a0be47a-282a-48d5-8034-b46182265866",
   "metadata": {},
   "outputs": [
    {
     "data": {
      "text/plain": [
       "4     67111\n",
       "3     64154\n",
       "2     62250\n",
       "7     56240\n",
       "10    31773\n",
       "Name: day, dtype: int64"
      ]
     },
     "execution_count": 12,
     "metadata": {},
     "output_type": "execute_result"
    }
   ],
   "source": [
    "input.metadata[\"day\"].value_counts()"
   ]
  },
  {
   "cell_type": "code",
   "execution_count": 13,
   "id": "3b5ec35c-5ed0-4289-b398-bf9272f9cf51",
   "metadata": {},
   "outputs": [
    {
     "data": {
      "text/plain": [
       "<AxesSubplot:xlabel='day', ylabel='Count'>"
      ]
     },
     "execution_count": 13,
     "metadata": {},
     "output_type": "execute_result"
    },
    {
     "data": {
      "image/png": "[encoded data removed]",
      "text/plain": [
       "<Figure size 432x288 with 1 Axes>"
      ]
     },
     "metadata": {
      "needs_background": "light"
     },
     "output_type": "display_data"
    }
   ],
   "source": [
    "sns.histplot(input.metadata[\"day\"])"
   ]
  },
  {
   "cell_type": "code",
   "execution_count": 14,
   "id": "bb889e7b-ced7-46aa-bcc9-7529099e5889",
   "metadata": {},
   "outputs": [
    {
     "data": {
      "text/plain": [
       "31800    74963\n",
       "13176    73211\n",
       "32606    72359\n",
       "27678    60995\n",
       "Name: donor, dtype: int64"
      ]
     },
     "execution_count": 14,
     "metadata": {},
     "output_type": "execute_result"
    }
   ],
   "source": [
    "input.metadata[\"donor\"].value_counts()"
   ]
  },
  {
   "cell_type": "code",
   "execution_count": 15,
   "id": "3c81621d-2cb7-4855-976b-acaf8c391c7d",
   "metadata": {},
   "outputs": [
    {
     "data": {
      "text/plain": [
       "HSC       77535\n",
       "hidden    55935\n",
       "NeuP      42979\n",
       "EryP      41479\n",
       "MasP      34827\n",
       "MkP       24021\n",
       "MoP        3883\n",
       "BP          869\n",
       "Name: cell_type, dtype: int64"
      ]
     },
     "execution_count": 15,
     "metadata": {},
     "output_type": "execute_result"
    }
   ],
   "source": [
    "input.metadata[\"cell_type\"].value_counts()"
   ]
  },
  {
   "cell_type": "code",
   "execution_count": 16,
   "id": "f059d753-4811-4203-ae44-0088f7fd1a1c",
   "metadata": {},
   "outputs": [
    {
     "data": {
      "text/plain": [
       "<AxesSubplot:xlabel='cell_type', ylabel='Count'>"
      ]
     },
     "execution_count": 16,
     "metadata": {},
     "output_type": "execute_result"
    },
    {
     "data": {
      "image/png": "[encoded data removed]",
      "text/plain": [
       "<Figure size 432x288 with 1 Axes>"
      ]
     },
     "metadata": {
      "needs_background": "light"
     },
     "output_type": "display_data"
    }
   ],
   "source": [
    "sns.histplot(input.metadata[\"cell_type\"])"
   ]
  },
  {
   "cell_type": "code",
   "execution_count": 17,
   "id": "beb803db-48c2-429d-9e6b-95dc82cd2c75",
   "metadata": {},
   "outputs": [
    {
     "data": {
      "text/plain": [
       "multiome    161877\n",
       "citeseq     119651\n",
       "Name: technology, dtype: int64"
      ]
     },
     "execution_count": 17,
     "metadata": {},
     "output_type": "execute_result"
    }
   ],
   "source": [
    "input.metadata[\"technology\"].value_counts()"
   ]
  },
  {
   "cell_type": "code",
   "execution_count": null,
   "id": "ebd4cf23-51ed-44d6-b6b2-c71d7510e9cb",
   "metadata": {},
   "outputs": [],
   "source": []
  },
  {
   "cell_type": "code",
   "execution_count": null,
   "id": "f7b3c7f5-3890-4be0-ad9c-b44a6dab0804",
   "metadata": {},
   "outputs": [],
   "source": []
  },
  {
   "cell_type": "markdown",
   "id": "99af2206-26ca-4dd5-9655-c727abc31b56",
   "metadata": {
    "tags": []
   },
   "source": [
    "## Evaluation IDs\n",
    "\n"
   ]
  },
  {
   "cell_type": "code",
   "execution_count": 18,
   "id": "3413156d-e581-4923-9f2d-29210cc34762",
   "metadata": {},
   "outputs": [
    {
     "name": "stdout",
     "output_type": "stream",
     "text": [
      "<class 'pandas.core.frame.DataFrame'>\n",
      "RangeIndex: 65744180 entries, 0 to 65744179\n",
      "Data columns (total 3 columns):\n",
      " #   Column   Dtype \n",
      "---  ------   ----- \n",
      " 0   row_id   int32 \n",
      " 1   cell_id  object\n",
      " 2   gene_id  object\n",
      "dtypes: int32(1), object(2)\n",
      "memory usage: 1.2+ GB\n"
     ]
    }
   ],
   "source": [
    "input.evaluation_ids.info()"
   ]
  },
  {
   "cell_type": "code",
   "execution_count": 19,
   "id": "7f668f15-fddf-4192-981b-9b2a3a71f09d",
   "metadata": {},
   "outputs": [
    {
     "data": {
      "text/html": [
       "<div>\n",
       "<style scoped>\n",
       "    .dataframe tbody tr th:only-of-type {\n",
       "        vertical-align: middle;\n",
       "    }\n",
       "\n",
       "    .dataframe tbody tr th {\n",
       "        vertical-align: top;\n",
       "    }\n",
       "\n",
       "    .dataframe thead th {\n",
       "        text-align: right;\n",
       "    }\n",
       "</style>\n",
       "<table border=\"1\" class=\"dataframe\">\n",
       "  <thead>\n",
       "    <tr style=\"text-align: right;\">\n",
       "      <th></th>\n",
       "      <th>row_id</th>\n",
       "      <th>cell_id</th>\n",
       "      <th>gene_id</th>\n",
       "    </tr>\n",
       "  </thead>\n",
       "  <tbody>\n",
       "    <tr>\n",
       "      <th>0</th>\n",
       "      <td>0</td>\n",
       "      <td>c2150f55becb</td>\n",
       "      <td>CD86</td>\n",
       "    </tr>\n",
       "    <tr>\n",
       "      <th>1</th>\n",
       "      <td>1</td>\n",
       "      <td>c2150f55becb</td>\n",
       "      <td>CD274</td>\n",
       "    </tr>\n",
       "    <tr>\n",
       "      <th>2</th>\n",
       "      <td>2</td>\n",
       "      <td>c2150f55becb</td>\n",
       "      <td>CD270</td>\n",
       "    </tr>\n",
       "    <tr>\n",
       "      <th>3</th>\n",
       "      <td>3</td>\n",
       "      <td>c2150f55becb</td>\n",
       "      <td>CD155</td>\n",
       "    </tr>\n",
       "    <tr>\n",
       "      <th>4</th>\n",
       "      <td>4</td>\n",
       "      <td>c2150f55becb</td>\n",
       "      <td>CD112</td>\n",
       "    </tr>\n",
       "  </tbody>\n",
       "</table>\n",
       "</div>"
      ],
      "text/plain": [
       "   row_id       cell_id gene_id\n",
       "0       0  c2150f55becb    CD86\n",
       "1       1  c2150f55becb   CD274\n",
       "2       2  c2150f55becb   CD270\n",
       "3       3  c2150f55becb   CD155\n",
       "4       4  c2150f55becb   CD112"
      ]
     },
     "execution_count": 19,
     "metadata": {},
     "output_type": "execute_result"
    }
   ],
   "source": [
    "input.evaluation_ids.head()"
   ]
  },
  {
   "cell_type": "code",
   "execution_count": 20,
   "id": "cc573b7d-51f9-4e59-ba49-c28ad2c1f7f5",
   "metadata": {},
   "outputs": [
    {
     "data": {
      "text/html": [
       "<div>\n",
       "<style scoped>\n",
       "    .dataframe tbody tr th:only-of-type {\n",
       "        vertical-align: middle;\n",
       "    }\n",
       "\n",
       "    .dataframe tbody tr th {\n",
       "        vertical-align: top;\n",
       "    }\n",
       "\n",
       "    .dataframe thead th {\n",
       "        text-align: right;\n",
       "    }\n",
       "</style>\n",
       "<table border=\"1\" class=\"dataframe\">\n",
       "  <thead>\n",
       "    <tr style=\"text-align: right;\">\n",
       "      <th></th>\n",
       "      <th>row_id</th>\n",
       "      <th>cell_id</th>\n",
       "      <th>gene_id</th>\n",
       "    </tr>\n",
       "  </thead>\n",
       "  <tbody>\n",
       "    <tr>\n",
       "      <th>65744175</th>\n",
       "      <td>65744175</td>\n",
       "      <td>2c53aa67933d</td>\n",
       "      <td>ENSG00000134419</td>\n",
       "    </tr>\n",
       "    <tr>\n",
       "      <th>65744176</th>\n",
       "      <td>65744176</td>\n",
       "      <td>2c53aa67933d</td>\n",
       "      <td>ENSG00000186862</td>\n",
       "    </tr>\n",
       "    <tr>\n",
       "      <th>65744177</th>\n",
       "      <td>65744177</td>\n",
       "      <td>2c53aa67933d</td>\n",
       "      <td>ENSG00000170959</td>\n",
       "    </tr>\n",
       "    <tr>\n",
       "      <th>65744178</th>\n",
       "      <td>65744178</td>\n",
       "      <td>2c53aa67933d</td>\n",
       "      <td>ENSG00000107874</td>\n",
       "    </tr>\n",
       "    <tr>\n",
       "      <th>65744179</th>\n",
       "      <td>65744179</td>\n",
       "      <td>2c53aa67933d</td>\n",
       "      <td>ENSG00000166012</td>\n",
       "    </tr>\n",
       "  </tbody>\n",
       "</table>\n",
       "</div>"
      ],
      "text/plain": [
       "            row_id       cell_id          gene_id\n",
       "65744175  65744175  2c53aa67933d  ENSG00000134419\n",
       "65744176  65744176  2c53aa67933d  ENSG00000186862\n",
       "65744177  65744177  2c53aa67933d  ENSG00000170959\n",
       "65744178  65744178  2c53aa67933d  ENSG00000107874\n",
       "65744179  65744179  2c53aa67933d  ENSG00000166012"
      ]
     },
     "execution_count": 20,
     "metadata": {},
     "output_type": "execute_result"
    }
   ],
   "source": [
    "input.evaluation_ids.tail()"
   ]
  },
  {
   "cell_type": "code",
   "execution_count": 21,
   "id": "345140d2-1081-44e1-b5fc-c76e5989212f",
   "metadata": {},
   "outputs": [
    {
     "data": {
      "text/html": [
       "<div>\n",
       "<style scoped>\n",
       "    .dataframe tbody tr th:only-of-type {\n",
       "        vertical-align: middle;\n",
       "    }\n",
       "\n",
       "    .dataframe tbody tr th {\n",
       "        vertical-align: top;\n",
       "    }\n",
       "\n",
       "    .dataframe thead th {\n",
       "        text-align: right;\n",
       "    }\n",
       "</style>\n",
       "<table border=\"1\" class=\"dataframe\">\n",
       "  <thead>\n",
       "    <tr style=\"text-align: right;\">\n",
       "      <th></th>\n",
       "      <th>row_id</th>\n",
       "    </tr>\n",
       "  </thead>\n",
       "  <tbody>\n",
       "    <tr>\n",
       "      <th>count</th>\n",
       "      <td>6.574418e+07</td>\n",
       "    </tr>\n",
       "    <tr>\n",
       "      <th>mean</th>\n",
       "      <td>3.287209e+07</td>\n",
       "    </tr>\n",
       "    <tr>\n",
       "      <th>std</th>\n",
       "      <td>1.897871e+07</td>\n",
       "    </tr>\n",
       "    <tr>\n",
       "      <th>min</th>\n",
       "      <td>0.000000e+00</td>\n",
       "    </tr>\n",
       "    <tr>\n",
       "      <th>25%</th>\n",
       "      <td>1.643604e+07</td>\n",
       "    </tr>\n",
       "    <tr>\n",
       "      <th>50%</th>\n",
       "      <td>3.287209e+07</td>\n",
       "    </tr>\n",
       "    <tr>\n",
       "      <th>75%</th>\n",
       "      <td>4.930813e+07</td>\n",
       "    </tr>\n",
       "    <tr>\n",
       "      <th>max</th>\n",
       "      <td>6.574418e+07</td>\n",
       "    </tr>\n",
       "  </tbody>\n",
       "</table>\n",
       "</div>"
      ],
      "text/plain": [
       "             row_id\n",
       "count  6.574418e+07\n",
       "mean   3.287209e+07\n",
       "std    1.897871e+07\n",
       "min    0.000000e+00\n",
       "25%    1.643604e+07\n",
       "50%    3.287209e+07\n",
       "75%    4.930813e+07\n",
       "max    6.574418e+07"
      ]
     },
     "execution_count": 21,
     "metadata": {},
     "output_type": "execute_result"
    }
   ],
   "source": [
    "input.evaluation_ids.describe()"
   ]
  },
  {
   "cell_type": "code",
   "execution_count": 22,
   "id": "1bdae120-1005-41df-80a7-3068fa6bb831",
   "metadata": {},
   "outputs": [
    {
     "data": {
      "text/html": [
       "<div>\n",
       "<style scoped>\n",
       "    .dataframe tbody tr th:only-of-type {\n",
       "        vertical-align: middle;\n",
       "    }\n",
       "\n",
       "    .dataframe tbody tr th {\n",
       "        vertical-align: top;\n",
       "    }\n",
       "\n",
       "    .dataframe thead th {\n",
       "        text-align: right;\n",
       "    }\n",
       "</style>\n",
       "<table border=\"1\" class=\"dataframe\">\n",
       "  <thead>\n",
       "    <tr style=\"text-align: right;\">\n",
       "      <th></th>\n",
       "      <th>カラム名</th>\n",
       "      <th>ユニーク値数</th>\n",
       "      <th>最頻値</th>\n",
       "      <th>最頻値の出現回数</th>\n",
       "      <th>最頻値の割合</th>\n",
       "      <th>欠損値の数</th>\n",
       "      <th>欠損値の割合</th>\n",
       "      <th>タイプ</th>\n",
       "    </tr>\n",
       "  </thead>\n",
       "  <tbody>\n",
       "    <tr>\n",
       "      <th>0</th>\n",
       "      <td>row_id</td>\n",
       "      <td>65744180</td>\n",
       "      <td>0</td>\n",
       "      <td>1</td>\n",
       "      <td>0.000002</td>\n",
       "      <td>0</td>\n",
       "      <td>0.0</td>\n",
       "      <td>int32</td>\n",
       "    </tr>\n",
       "    <tr>\n",
       "      <th>1</th>\n",
       "      <td>cell_id</td>\n",
       "      <td>65443</td>\n",
       "      <td>2c53aa67933d</td>\n",
       "      <td>3512</td>\n",
       "      <td>0.005342</td>\n",
       "      <td>0</td>\n",
       "      <td>0.0</td>\n",
       "      <td>object</td>\n",
       "    </tr>\n",
       "    <tr>\n",
       "      <th>2</th>\n",
       "      <td>gene_id</td>\n",
       "      <td>23558</td>\n",
       "      <td>CD86</td>\n",
       "      <td>48663</td>\n",
       "      <td>0.074019</td>\n",
       "      <td>0</td>\n",
       "      <td>0.0</td>\n",
       "      <td>object</td>\n",
       "    </tr>\n",
       "  </tbody>\n",
       "</table>\n",
       "</div>"
      ],
      "text/plain": [
       "      カラム名    ユニーク値数           最頻値  最頻値の出現回数    最頻値の割合  欠損値の数  欠損値の割合     タイプ\n",
       "0   row_id  65744180             0         1  0.000002      0     0.0   int32\n",
       "1  cell_id     65443  2c53aa67933d      3512  0.005342      0     0.0  object\n",
       "2  gene_id     23558          CD86     48663  0.074019      0     0.0  object"
      ]
     },
     "execution_count": 22,
     "metadata": {},
     "output_type": "execute_result"
    }
   ],
   "source": [
    "df_stats(input.evaluation_ids)"
   ]
  },
  {
   "cell_type": "code",
   "execution_count": 36,
   "id": "34657455-aa78-40c7-b2fa-f5146576b634",
   "metadata": {},
   "outputs": [],
   "source": [
    "gene_ids = input.evaluation_ids[\"gene_id\"].unique()"
   ]
  },
  {
   "cell_type": "code",
   "execution_count": 37,
   "id": "baa3bdd2-f818-4568-875f-6ab0f1244e18",
   "metadata": {},
   "outputs": [
    {
     "data": {
      "text/plain": [
       "array(['CD86', 'CD274', 'CD270', ..., 'ENSG00000188800',\n",
       "       'ENSG00000114650', 'ENSG00000125686'], dtype=object)"
      ]
     },
     "execution_count": 37,
     "metadata": {},
     "output_type": "execute_result"
    }
   ],
   "source": [
    "gene_ids"
   ]
  },
  {
   "cell_type": "code",
   "execution_count": 38,
   "id": "d1bf84ba-73c2-4b82-8a67-cd57292e22a3",
   "metadata": {},
   "outputs": [
    {
     "data": {
      "text/plain": [
       "23558"
      ]
     },
     "execution_count": 38,
     "metadata": {},
     "output_type": "execute_result"
    }
   ],
   "source": [
    "len(gene_ids)"
   ]
  },
  {
   "cell_type": "code",
   "execution_count": 49,
   "id": "0426d225-26d2-48ae-824e-7b1e5e48398d",
   "metadata": {},
   "outputs": [],
   "source": [
    "cell_ids = input.evaluation_ids[\"cell_id\"].unique()"
   ]
  },
  {
   "cell_type": "code",
   "execution_count": 50,
   "id": "4153d5c2-9d13-4f11-b963-019d2d95f4c7",
   "metadata": {},
   "outputs": [
    {
     "data": {
      "text/plain": [
       "array(['c2150f55becb', '65b7edf8a4da', 'c1b26cb1057b', ...,\n",
       "       '0ddfc0ba4098', '31b078475100', '2c53aa67933d'], dtype=object)"
      ]
     },
     "execution_count": 50,
     "metadata": {},
     "output_type": "execute_result"
    }
   ],
   "source": [
    "cell_ids"
   ]
  },
  {
   "cell_type": "code",
   "execution_count": 51,
   "id": "65193a72-19b7-46b6-9575-241cda116edb",
   "metadata": {},
   "outputs": [
    {
     "data": {
      "text/plain": [
       "65443"
      ]
     },
     "execution_count": 51,
     "metadata": {},
     "output_type": "execute_result"
    }
   ],
   "source": [
    "len(cell_ids)"
   ]
  },
  {
   "cell_type": "code",
   "execution_count": null,
   "id": "1eadc032-fa7f-4d7c-819d-64c1ba986b6f",
   "metadata": {},
   "outputs": [],
   "source": []
  },
  {
   "cell_type": "markdown",
   "id": "aceea92d-f930-450e-9e67-9cbe29621066",
   "metadata": {},
   "source": [
    "## Sample Submission\n",
    "\n",
    "\n"
   ]
  },
  {
   "cell_type": "code",
   "execution_count": 23,
   "id": "2df70572-0ba7-495a-bc6c-c619f369d4e9",
   "metadata": {},
   "outputs": [
    {
     "name": "stdout",
     "output_type": "stream",
     "text": [
      "<class 'pandas.core.frame.DataFrame'>\n",
      "RangeIndex: 65744180 entries, 0 to 65744179\n",
      "Data columns (total 2 columns):\n",
      " #   Column  Dtype  \n",
      "---  ------  -----  \n",
      " 0   row_id  int32  \n",
      " 1   target  float32\n",
      "dtypes: float32(1), int32(1)\n",
      "memory usage: 501.6 MB\n"
     ]
    }
   ],
   "source": [
    "input.sample_submission.info()"
   ]
  },
  {
   "cell_type": "code",
   "execution_count": 24,
   "id": "0f7b2bb9-eff5-48ca-af5a-c43ea024df69",
   "metadata": {},
   "outputs": [
    {
     "data": {
      "text/html": [
       "<div>\n",
       "<style scoped>\n",
       "    .dataframe tbody tr th:only-of-type {\n",
       "        vertical-align: middle;\n",
       "    }\n",
       "\n",
       "    .dataframe tbody tr th {\n",
       "        vertical-align: top;\n",
       "    }\n",
       "\n",
       "    .dataframe thead th {\n",
       "        text-align: right;\n",
       "    }\n",
       "</style>\n",
       "<table border=\"1\" class=\"dataframe\">\n",
       "  <thead>\n",
       "    <tr style=\"text-align: right;\">\n",
       "      <th></th>\n",
       "      <th>row_id</th>\n",
       "      <th>target</th>\n",
       "    </tr>\n",
       "  </thead>\n",
       "  <tbody>\n",
       "    <tr>\n",
       "      <th>0</th>\n",
       "      <td>0</td>\n",
       "      <td>0.0</td>\n",
       "    </tr>\n",
       "    <tr>\n",
       "      <th>1</th>\n",
       "      <td>1</td>\n",
       "      <td>0.0</td>\n",
       "    </tr>\n",
       "    <tr>\n",
       "      <th>2</th>\n",
       "      <td>2</td>\n",
       "      <td>0.0</td>\n",
       "    </tr>\n",
       "    <tr>\n",
       "      <th>3</th>\n",
       "      <td>3</td>\n",
       "      <td>0.0</td>\n",
       "    </tr>\n",
       "    <tr>\n",
       "      <th>4</th>\n",
       "      <td>4</td>\n",
       "      <td>0.0</td>\n",
       "    </tr>\n",
       "  </tbody>\n",
       "</table>\n",
       "</div>"
      ],
      "text/plain": [
       "   row_id  target\n",
       "0       0     0.0\n",
       "1       1     0.0\n",
       "2       2     0.0\n",
       "3       3     0.0\n",
       "4       4     0.0"
      ]
     },
     "execution_count": 24,
     "metadata": {},
     "output_type": "execute_result"
    }
   ],
   "source": [
    "input.sample_submission.head()"
   ]
  },
  {
   "cell_type": "code",
   "execution_count": null,
   "id": "127d3ab4-dc5d-45d4-b3ea-5622c6dc3782",
   "metadata": {},
   "outputs": [],
   "source": []
  },
  {
   "cell_type": "code",
   "execution_count": null,
   "id": "60dbe123-d056-4756-b593-e4501a57bd3d",
   "metadata": {},
   "outputs": [],
   "source": []
  },
  {
   "cell_type": "markdown",
   "id": "03c0a207-a60b-4832-9de3-1cb58071d2c8",
   "metadata": {},
   "source": [
    "## CITE data"
   ]
  },
  {
   "cell_type": "code",
   "execution_count": 25,
   "id": "2161d72b-3310-4a29-b956-acf94c7fc4dd",
   "metadata": {},
   "outputs": [
    {
     "name": "stdout",
     "output_type": "stream",
     "text": [
      "<class 'pandas.core.frame.DataFrame'>\n",
      "Index: 70988 entries, 45006fe3e4c8 to c91b6b2ccd3d\n",
      "Columns: 22050 entries, ENSG00000121410_A1BG to ENSG00000074755_ZZEF1\n",
      "dtypes: float32(22050)\n",
      "memory usage: 5.8+ GB\n"
     ]
    }
   ],
   "source": [
    "input.train_cite_inputs.info()"
   ]
  },
  {
   "cell_type": "code",
   "execution_count": 27,
   "id": "597f827f-b846-42c9-8cac-f2ee9e756bb2",
   "metadata": {},
   "outputs": [
    {
     "name": "stdout",
     "output_type": "stream",
     "text": [
      "<class 'pandas.core.frame.DataFrame'>\n",
      "Index: 70988 entries, 45006fe3e4c8 to c91b6b2ccd3d\n",
      "Columns: 140 entries, CD86 to CD224\n",
      "dtypes: float32(140)\n",
      "memory usage: 38.5+ MB\n"
     ]
    }
   ],
   "source": [
    "input.train_cite_targets.info()"
   ]
  },
  {
   "cell_type": "code",
   "execution_count": 34,
   "id": "9783ca60-7fcb-4193-8279-475832bb6816",
   "metadata": {},
   "outputs": [
    {
     "data": {
      "text/plain": [
       "Index(['CD86', 'CD274', 'CD270', 'CD155', 'CD112', 'CD47', 'CD48', 'CD40',\n",
       "       'CD154', 'CD52',\n",
       "       ...\n",
       "       'CD94', 'CD162', 'CD85j', 'CD23', 'CD328', 'HLA-E', 'CD82', 'CD101',\n",
       "       'CD88', 'CD224'],\n",
       "      dtype='object', length=140)"
      ]
     },
     "execution_count": 34,
     "metadata": {},
     "output_type": "execute_result"
    }
   ],
   "source": [
    "input.train_cite_targets.columns"
   ]
  },
  {
   "cell_type": "code",
   "execution_count": null,
   "id": "de519ff3-a0b9-42ed-94d6-45d02cbe6926",
   "metadata": {},
   "outputs": [],
   "source": []
  },
  {
   "cell_type": "code",
   "execution_count": 30,
   "id": "8a1e4ed5-35c1-4fa3-aeba-16b7d64a428b",
   "metadata": {},
   "outputs": [
    {
     "name": "stdout",
     "output_type": "stream",
     "text": [
      "<class 'pandas.core.frame.DataFrame'>\n",
      "Index: 48663 entries, c2150f55becb to ad5a949989b2\n",
      "Columns: 22050 entries, ENSG00000121410_A1BG to ENSG00000074755_ZZEF1\n",
      "dtypes: float32(22050)\n",
      "memory usage: 4.0+ GB\n"
     ]
    }
   ],
   "source": [
    "input.test_cite_inputs.info()"
   ]
  },
  {
   "cell_type": "code",
   "execution_count": 35,
   "id": "407a214c-0589-403d-be63-95888bb8a381",
   "metadata": {},
   "outputs": [
    {
     "data": {
      "text/plain": [
       "Index(['ENSG00000121410_A1BG', 'ENSG00000268895_A1BG-AS1',\n",
       "       'ENSG00000175899_A2M', 'ENSG00000245105_A2M-AS1',\n",
       "       'ENSG00000166535_A2ML1', 'ENSG00000128274_A4GALT',\n",
       "       'ENSG00000094914_AAAS', 'ENSG00000081760_AACS', 'ENSG00000109576_AADAT',\n",
       "       'ENSG00000103591_AAGAB',\n",
       "       ...\n",
       "       'ENSG00000153975_ZUP1', 'ENSG00000086827_ZW10',\n",
       "       'ENSG00000174442_ZWILCH', 'ENSG00000122952_ZWINT',\n",
       "       'ENSG00000198205_ZXDA', 'ENSG00000198455_ZXDB', 'ENSG00000070476_ZXDC',\n",
       "       'ENSG00000162378_ZYG11B', 'ENSG00000159840_ZYX',\n",
       "       'ENSG00000074755_ZZEF1'],\n",
       "      dtype='object', length=22050)"
      ]
     },
     "execution_count": 35,
     "metadata": {},
     "output_type": "execute_result"
    }
   ],
   "source": [
    "input.test_cite_inputs.columns"
   ]
  },
  {
   "cell_type": "code",
   "execution_count": 47,
   "id": "ecb605e0-13f4-46aa-be80-23c4e53f3a3e",
   "metadata": {},
   "outputs": [
    {
     "data": {
      "text/plain": [
       "Index(['c2150f55becb', '65b7edf8a4da', 'c1b26cb1057b', '917168fa6f83',\n",
       "       '2b29feeca86d', '0fd801488185', '526647a698f8', 'ab8f207a3dec',\n",
       "       '57f730249c87', '08df3dcce25c',\n",
       "       ...\n",
       "       '87644788920d', '4b759a227f82', '294b63574ccd', 'd4876939c837',\n",
       "       '0b0479644c65', 'a9b4d99f1f50', '0e2c1d0782af', 'a3cbc5aa0ec3',\n",
       "       '75b350243add', 'ad5a949989b2'],\n",
       "      dtype='object', name='cell_id', length=48663)"
      ]
     },
     "execution_count": 47,
     "metadata": {},
     "output_type": "execute_result"
    }
   ],
   "source": [
    "input.test_cite_inputs.index"
   ]
  },
  {
   "cell_type": "code",
   "execution_count": null,
   "id": "842836d2-6487-463c-be52-e99537ce6dad",
   "metadata": {},
   "outputs": [],
   "source": []
  },
  {
   "cell_type": "markdown",
   "id": "26db1208-a0af-46df-b5cd-a8044ae310ae",
   "metadata": {},
   "source": [
    "## Multiome data"
   ]
  },
  {
   "cell_type": "code",
   "execution_count": 28,
   "id": "6402e047-40ee-44aa-b244-a60b11be0a2d",
   "metadata": {},
   "outputs": [
    {
     "name": "stdout",
     "output_type": "stream",
     "text": [
      "<class 'pandas.core.frame.DataFrame'>\n",
      "Index: 105942 entries, 56390cf1b95e to 193992d571a5\n",
      "Columns: 228942 entries, GL000194.1:114519-115365 to chrY:7873814-7874709\n",
      "dtypes: float32(228942)\n",
      "memory usage: 90.4+ GB\n"
     ]
    }
   ],
   "source": [
    "input.train_multi_inputs.info()"
   ]
  },
  {
   "cell_type": "code",
   "execution_count": 29,
   "id": "b9861009-9b35-4e95-af53-1c8e5e8e3c05",
   "metadata": {},
   "outputs": [
    {
     "name": "stdout",
     "output_type": "stream",
     "text": [
      "<class 'pandas.core.frame.DataFrame'>\n",
      "Index: 105942 entries, 56390cf1b95e to 193992d571a5\n",
      "Columns: 23418 entries, ENSG00000121410 to ENSG00000074755\n",
      "dtypes: float32(23418)\n",
      "memory usage: 9.2+ GB\n"
     ]
    }
   ],
   "source": [
    "input.train_multi_targets.info()"
   ]
  },
  {
   "cell_type": "code",
   "execution_count": 33,
   "id": "851cbc02-d029-4d6e-ae9a-17d2f0aebd00",
   "metadata": {},
   "outputs": [
    {
     "data": {
      "text/plain": [
       "Index(['ENSG00000121410', 'ENSG00000268895', 'ENSG00000175899',\n",
       "       'ENSG00000245105', 'ENSG00000166535', 'ENSG00000256661',\n",
       "       'ENSG00000184389', 'ENSG00000128274', 'ENSG00000094914',\n",
       "       'ENSG00000081760',\n",
       "       ...\n",
       "       'ENSG00000086827', 'ENSG00000174442', 'ENSG00000122952',\n",
       "       'ENSG00000198205', 'ENSG00000198455', 'ENSG00000070476',\n",
       "       'ENSG00000203995', 'ENSG00000162378', 'ENSG00000159840',\n",
       "       'ENSG00000074755'],\n",
       "      dtype='object', length=23418)"
      ]
     },
     "execution_count": 33,
     "metadata": {},
     "output_type": "execute_result"
    }
   ],
   "source": [
    "input.train_multi_targets.columns"
   ]
  },
  {
   "cell_type": "code",
   "execution_count": null,
   "id": "060725ce-e49f-4a1a-baf9-a259e9d28df1",
   "metadata": {},
   "outputs": [],
   "source": []
  },
  {
   "cell_type": "code",
   "execution_count": 31,
   "id": "d76f54e1-3228-4991-939f-a6915af683da",
   "metadata": {},
   "outputs": [
    {
     "name": "stdout",
     "output_type": "stream",
     "text": [
      "<class 'pandas.core.frame.DataFrame'>\n",
      "Index: 55935 entries, 458c2ae2c9b1 to b847ba21f59f\n",
      "Columns: 228942 entries, GL000194.1:114519-115365 to chrY:7873814-7874709\n",
      "dtypes: float32(228942)\n",
      "memory usage: 47.7+ GB\n"
     ]
    }
   ],
   "source": [
    "input.test_multi_inputs.info()"
   ]
  },
  {
   "cell_type": "code",
   "execution_count": 32,
   "id": "0fe68d22-f124-4a9c-9abc-184443ab1a8d",
   "metadata": {},
   "outputs": [
    {
     "data": {
      "text/plain": [
       "Index(['GL000194.1:114519-115365', 'GL000194.1:55758-56597',\n",
       "       'GL000194.1:58217-58957', 'GL000194.1:59535-60431',\n",
       "       'GL000195.1:119766-120427', 'GL000195.1:120736-121603',\n",
       "       'GL000195.1:137437-138345', 'GL000195.1:15901-16653',\n",
       "       'GL000195.1:22357-23209', 'GL000195.1:23751-24619',\n",
       "       ...\n",
       "       'chrY:7722278-7723128', 'chrY:7723971-7724880', 'chrY:7729854-7730772',\n",
       "       'chrY:7731785-7732664', 'chrY:7810142-7811040', 'chrY:7814107-7815018',\n",
       "       'chrY:7818751-7819626', 'chrY:7836768-7837671', 'chrY:7869454-7870371',\n",
       "       'chrY:7873814-7874709'],\n",
       "      dtype='object', length=228942)"
      ]
     },
     "execution_count": 32,
     "metadata": {},
     "output_type": "execute_result"
    }
   ],
   "source": [
    "input.test_multi_inputs.columns"
   ]
  },
  {
   "cell_type": "code",
   "execution_count": 48,
   "id": "63163b7c-1568-4b3b-8ab4-938823174d18",
   "metadata": {},
   "outputs": [
    {
     "data": {
      "text/plain": [
       "Index(['458c2ae2c9b1', '01a0659b0710', '028a8bc3f2ba', '7ec0ca8bb863',\n",
       "       'caa0b0022cdc', 'e0bc46450106', '632ae0df4dcd', '852044b3a2c9',\n",
       "       'fc09f456158f', '6e3df813cfcf',\n",
       "       ...\n",
       "       '9be27f116147', 'f4a9f986da93', '6f5eced93605', 'e04bd990dfaa',\n",
       "       'd8b95b8379a0', '96a60b026659', 'd493e546991e', '05666c99aa48',\n",
       "       '121f946642b5', 'b847ba21f59f'],\n",
       "      dtype='object', name='cell_id', length=55935)"
      ]
     },
     "execution_count": 48,
     "metadata": {},
     "output_type": "execute_result"
    }
   ],
   "source": [
    "input.test_multi_inputs.index"
   ]
  },
  {
   "cell_type": "code",
   "execution_count": null,
   "id": "8e089365-c0a7-4357-95ee-849ffdb8b30b",
   "metadata": {},
   "outputs": [],
   "source": []
  },
  {
   "cell_type": "markdown",
   "id": "30350bdf-fbbb-4f79-a173-7ce6b7851b9d",
   "metadata": {},
   "source": [
    "## EDA"
   ]
  },
  {
   "cell_type": "code",
   "execution_count": 46,
   "id": "044d416b-61e5-4f9a-9b72-d03fb61f84a3",
   "metadata": {},
   "outputs": [
    {
     "data": {
      "text/plain": [
       "(140, 23418, 23558)"
      ]
     },
     "execution_count": 46,
     "metadata": {},
     "output_type": "execute_result"
    }
   ],
   "source": [
    "# Train と Test の target の差分がないかチェック\n",
    "\n",
    "len(input.train_cite_targets.columns), len(input.train_multi_targets.columns), len(gene_ids)"
   ]
  },
  {
   "cell_type": "code",
   "execution_count": 52,
   "id": "34d9264d-e486-47eb-889f-91b7fd2c1208",
   "metadata": {},
   "outputs": [
    {
     "data": {
      "text/plain": [
       "(48663, 55935, 65443)"
      ]
     },
     "execution_count": 52,
     "metadata": {},
     "output_type": "execute_result"
    }
   ],
   "source": [
    "# Test の cell_id の数をチェック\n",
    "# → テストデータのすべてのIDが evaluation_ids にあるわけではないようだ。\n",
    "\n",
    "len(input.test_cite_inputs.index), len(input.test_multi_inputs.index), len(cell_ids)"
   ]
  },
  {
   "cell_type": "code",
   "execution_count": 54,
   "id": "d5ee930c-2961-4cd0-8cfb-9e39864141e3",
   "metadata": {},
   "outputs": [
    {
     "data": {
      "text/plain": [
       "104598"
      ]
     },
     "execution_count": 54,
     "metadata": {},
     "output_type": "execute_result"
    }
   ],
   "source": [
    "len(input.test_cite_inputs.index) + len(input.test_multi_inputs.index)"
   ]
  },
  {
   "cell_type": "code",
   "execution_count": 53,
   "id": "ac16b325-5938-4579-a931-fced78248955",
   "metadata": {},
   "outputs": [
    {
     "data": {
      "text/plain": [
       "104598"
      ]
     },
     "execution_count": 53,
     "metadata": {},
     "output_type": "execute_result"
    }
   ],
   "source": [
    "len(set(list(input.test_cite_inputs.index) + list(input.test_multi_inputs.index)))"
   ]
  },
  {
   "cell_type": "code",
   "execution_count": null,
   "id": "0a48b03f-53ce-4901-b8ad-a5530061cfcc",
   "metadata": {},
   "outputs": [],
   "source": []
  },
  {
   "cell_type": "code",
   "execution_count": null,
   "id": "eacdd24d-1752-489b-b9bf-6ee4be36befc",
   "metadata": {},
   "outputs": [],
   "source": []
  },
  {
   "cell_type": "markdown",
   "id": "2f9830c1-c469-4597-9b5a-69879ac4da83",
   "metadata": {},
   "source": [
    "## Preprocess\n",
    "\n"
   ]
  },
  {
   "cell_type": "code",
   "execution_count": null,
   "id": "d1451b72-027e-4acc-b63d-31151d22cc5b",
   "metadata": {},
   "outputs": [],
   "source": []
  },
  {
   "cell_type": "code",
   "execution_count": null,
   "id": "b10f00a9-9ad5-4be9-b667-5d3570d92a40",
   "metadata": {},
   "outputs": [],
   "source": []
  },
  {
   "cell_type": "markdown",
   "id": "d17104da-1652-4f65-a9eb-d32d51c896ad",
   "metadata": {},
   "source": [
    "## Dataset"
   ]
  },
  {
   "cell_type": "code",
   "execution_count": null,
   "id": "6d349784-6dee-4d3a-aaa0-ec39416fbb8e",
   "metadata": {},
   "outputs": [],
   "source": [
    "# ds = BaseDataset(c, input.metadata)\n",
    "ds = BaseDataset(c, pd.concat([input.metadata, input.evaluation_ids]))\n",
    "\n",
    "for i in range(1):\n",
    "    image, label = ds[i]\n",
    "    plt.imshow(image)\n",
    "    plt.title(f\"label: {label}\")\n",
    "    plt.show()"
   ]
  },
  {
   "cell_type": "code",
   "execution_count": null,
   "id": "2baaea9d-3957-4ed4-a052-40de8184b00a",
   "metadata": {},
   "outputs": [],
   "source": [
    "# ds = BaseDataset(c, input.metadata, transform=get_transforms(c, \"light\"))\n",
    "ds = BaseDataset(c, pd.concat([input.metadata, input.evaluation_ids]), transform=get_transforms(c, \"light\"))\n",
    "\n",
    "for i in range(1):\n",
    "    image, label = ds[i]\n",
    "    plt.imshow(image[0])\n",
    "    plt.title(f\"label: {label}\")\n",
    "    plt.show()"
   ]
  },
  {
   "cell_type": "code",
   "execution_count": null,
   "id": "29d3c96f-4f5c-4e22-987b-9d28e536471b",
   "metadata": {},
   "outputs": [],
   "source": []
  },
  {
   "cell_type": "markdown",
   "id": "3903b3c0-a7fd-4c00-8e4e-2b06736c96bc",
   "metadata": {},
   "source": [
    "## Model"
   ]
  },
  {
   "cell_type": "code",
   "execution_count": null,
   "id": "ed4a9451-acb4-4926-bfd2-1c25cccaf5c8",
   "metadata": {
    "tags": []
   },
   "outputs": [],
   "source": [
    "model = ImageBaseModel(c)\n",
    "model"
   ]
  },
  {
   "cell_type": "code",
   "execution_count": null,
   "id": "230f0b2c-0aff-42f4-b422-ef0939fe6c7b",
   "metadata": {},
   "outputs": [],
   "source": [
    "# ds = BaseDataset(c, input.metadata, transform=get_transforms(c, \"light\"))\n",
    "ds = BaseDataset(c, pd.concat([input.metadata, input.evaluation_ids]), transform=get_transforms(c, \"light\"))\n",
    "loader = DataLoader(ds, batch_size=4, shuffle=True, num_workers=4, pin_memory=True, drop_last=True)\n",
    "\n",
    "for image, label in loader:\n",
    "    output = model(image)\n",
    "    print(output)\n",
    "    break"
   ]
  },
  {
   "cell_type": "code",
   "execution_count": null,
   "id": "d55f6866-bd98-46b9-8659-0ef5df8fcd42",
   "metadata": {},
   "outputs": [],
   "source": []
  },
  {
   "cell_type": "code",
   "execution_count": null,
   "id": "ca689936-4364-4410-b3a4-421bbd0b4488",
   "metadata": {},
   "outputs": [],
   "source": []
  },
  {
   "cell_type": "code",
   "execution_count": null,
   "id": "fbc62b37-b040-4ce2-9094-bac053fd30f4",
   "metadata": {},
   "outputs": [],
   "source": []
  },
  {
   "cell_type": "code",
   "execution_count": null,
   "id": "a7aabdcd-8a96-4e7c-8414-1dc820a1078f",
   "metadata": {},
   "outputs": [],
   "source": []
  }
 ],
 "metadata": {
  "kernelspec": {
   "display_name": "develop (with Rapids)",
   "language": "python",
   "name": "develop-rapids"
  },
  "language_info": {
   "codemirror_mode": {
    "name": "ipython",
    "version": 3
   },
   "file_extension": ".py",
   "mimetype": "text/x-python",
   "name": "python",
   "nbconvert_exporter": "python",
   "pygments_lexer": "ipython3",
   "version": "3.9.12"
  },
  "toc-autonumbering": true,
  "toc-showcode": false,
  "toc-showmarkdowntxt": false,
  "toc-showtags": true
 },
 "nbformat": 4,
 "nbformat_minor": 5
}
