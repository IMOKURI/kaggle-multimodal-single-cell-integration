{
 "cells": [
  {
   "cell_type": "markdown",
   "id": "348892fa-ab4d-4da2-b0f6-e98e3eba93fc",
   "metadata": {},
   "source": [
    "# Open Problems - Multimodal Single-Cell Integration"
   ]
  },
  {
   "cell_type": "markdown",
   "id": "7f6e7f16-85dc-4f48-8681-2fd0dcbbcdc5",
   "metadata": {
    "tags": []
   },
   "source": [
    "## Setup"
   ]
  },
  {
   "cell_type": "code",
   "execution_count": 1,
   "id": "ddd3c482-9afb-46bb-982d-77df2233b0fa",
   "metadata": {},
   "outputs": [],
   "source": [
    "import sys\n",
    "\n",
    "sys.path.append(\"../working\")"
   ]
  },
  {
   "cell_type": "code",
   "execution_count": 2,
   "id": "037dfadb-933a-4c42-bd60-f182d5c5cfe3",
   "metadata": {},
   "outputs": [],
   "source": [
    "import logging\n",
    "\n",
    "logging.basicConfig(\n",
    "    # filename=__file__.replace('.py', '.log'),\n",
    "    level=logging.getLevelName(\"INFO\"),\n",
    "    format=\"%(asctime)s [%(levelname)s] [%(module)s] %(message)s\",\n",
    ")\n",
    "\n",
    "log = logging.getLogger(__name__)"
   ]
  },
  {
   "cell_type": "code",
   "execution_count": 3,
   "id": "30441340-4b9c-4ece-bebc-86aa4efab101",
   "metadata": {},
   "outputs": [
    {
     "name": "stderr",
     "output_type": "stream",
     "text": [
      "2022-09-01 21:49:40,092 [INFO] [utils] Note: detected 88 virtual cores but NumExpr set to maximum of 64, check \"NUMEXPR_MAX_THREADS\" environment variable.\n",
      "2022-09-01 21:49:40,093 [INFO] [utils] Note: NumExpr detected 88 cores but \"NUMEXPR_MAX_THREADS\" not set, so enforcing safe limit of 8.\n",
      "2022-09-01 21:49:40,093 [INFO] [utils] NumExpr defaulting to 8 threads.\n"
     ]
    }
   ],
   "source": [
    "import glob\n",
    "import os\n",
    "import re\n",
    "\n",
    "import matplotlib.pyplot as plt\n",
    "import numpy as np\n",
    "import pandas as pd\n",
    "import scipy.stats as stats\n",
    "import seaborn as sns\n",
    "from omegaconf import OmegaConf\n",
    "\n",
    "# from src.get_score import get_score\n",
    "from src.load_data import PostprocessData, PreprocessData\n",
    "\n",
    "# from src.make_dataset import BaseDataset, get_transforms\n",
    "# from src.make_model import ImageBaseModel\n",
    "from src.utils import df_stats\n",
    "\n",
    "# from torch.utils.data import DataLoader\n",
    "\n",
    "pd.set_option(\"display.max_rows\", None)\n",
    "pd.set_option(\"display.max_columns\", None)\n",
    "pd.set_option(\"display.max_colwidth\", None)"
   ]
  },
  {
   "cell_type": "code",
   "execution_count": 4,
   "id": "459de3b6-ddc1-4aa0-8215-8e2cd425ff7b",
   "metadata": {},
   "outputs": [],
   "source": [
    "# Competition specific library\n",
    "import math\n",
    "\n",
    "import scipy.stats as stats"
   ]
  },
  {
   "cell_type": "markdown",
   "id": "78bfa3df-3efe-415c-9f49-be80c14333d2",
   "metadata": {
    "tags": []
   },
   "source": [
    "## 目的\n",
    "\n",
    "このコンペティションの目的は、骨髄幹細胞がより成熟した血液細胞へと成長する過程で、DNA、RNA、タンパク質の測定値が単一細胞内でどのように共変動するかを予測することである。このコンペティションのために、細胞中心の創薬企業であるCellarity社が作成した、4人のヒトドナーのCD34+造血幹・前駆細胞（HSPC）の5時点の30万細胞の時間経過データセットのサブセットを用いて、トレーニングしたモデルを開発することになります。\n",
    "\n",
    "テストセットでは、データセット内の未知の遅い時点から取得され、競技者は1つのモダリティを与えられ、同じセルで測定された対のモダリティを予測することを課される。このコンペティションの課題は、テストデータがトレーニングデータのどの時点のものよりも遅い時点のものであることである。\n",
    "\n",
    "あなたの研究は、細胞の状態を何層にも分けて遺伝情報をマッピングする方法の技術革新を加速させるでしょう。もし、ある様式を別の様式から予測することができれば、これらの複雑な制御過程を支配する規則についての理解を深めることができるかもしれません。\n",
    "\n",
    "![predict](https://user-images.githubusercontent.com/1638500/186604146-0dfcb9b7-87a3-466c-b2a5-e297b93cef87.png)\n",
    "\n",
    "過去10年間、シングルセルゲノミクスの登場により、単一細胞内のDNA、RNA、タンパク質の測定が可能になった。これらの技術により、前例のないスケールと解像度で生物学を研究することが可能になった。その結果、ヒトの初期胚発生の詳細なマップ、新しい疾患関連細胞の発見、細胞を標的とした治療介入などが実現しました。さらに、最近の実験技術の進歩により、同一細胞内の複数のゲノムモダリティを測定することが可能になった。\n",
    "\n",
    "マルチモーダルなシングルセルデータがますます利用できるようになる一方で、データ解析手法はまだ不足しています。単一細胞は体積が小さいため、測定値はまばらでノイズが多い。細胞間の分子サンプリング深さの違い（シーケンシング深さ）や、バッチで細胞を扱うことによる技術的効果（バッチ効果）は、しばしば生物学的な差異を圧倒することがあります。マルチモーダルデータを解析する場合、異なる特徴空間、モダリティ間およびバッチ間の共有および固有の変動を考慮する必要があります。さらに、現在の単一細胞データ解析のパイプラインは、たとえその下にダイナミックな生物学的プロセスがあったとしても、細胞を静的なスナップショットとして扱っている。時間経過に伴う状態の変化と同時に時間的なダイナミクスを考慮することは、シングルセルデータサイエンスにおける未解決の課題である。\n",
    "\n",
    "一般に、遺伝情報はDNA→RNA→タンパク質と流れる。RNA（GEXデータ）を生成するためにはDNAにアクセスできなければならず（ATACデータ）、RNAはタンパク質を生成するための鋳型として利用される（ADTデータ）。これらのプロセスは、フィードバックによって制御されています。例えば、タンパク質がDNAと結合することで、より多くのRNAが生成されるのを防ぐことができます。このような遺伝子の制御が、生物が発展し、環境の変化に適応していくためのダイナミックな細胞プロセスの基盤となっているのです。単一細胞データ科学では、動的プロセスは、生物学的プロセスの進行を捕らえる、いわゆる擬似時間アルゴリズムによってモデル化されてきた。しかし、これらのアルゴリズムを一般化し、擬似時間と実時間の両方を考慮することは、まだ未解決の問題である。\n",
    "\n",
    "コンペティション主催のOpen Problems in Single-Cell Analysisは、シングルセル解析手法のベンチマークを標準化するための、オープンソースかつコミュニティ主導の取り組みです。Open Problemsの中核となる取り組みには、既存の課題を測定可能なタスクに形式化すること、高品質のデータセットを収集すること、コミュニティから提供された手法のベンチマークを集中的に行うこと、多様な手法開発者を集めてシングルセルのアルゴリズムを改善するコミュニティに焦点を当てたイベントを開催することなどがあります。彼らは、Cellarity、Chan Zuckerbeg Biohub、Chan Zuckerberg Initiative、Helmholtz Munich、Yaleと提携し、学際的なコラボレーションを通じて、遺伝的ダイナミックスの時間的変化を予測することにどんな進展が見られるかに期待しています。\n",
    "\n",
    "人体には約37兆個の細胞が存在し、それぞれが異なる行動や機能を有しています。一つのゲノムがどのようにして多様な細胞状態を生み出すのかを理解することは、健康や病気において組織がどのように機能し、どのように誤作動を起こすのかをメカニズム的に理解するための鍵となります。あなたは、この単一細胞生物学の基本的な課題の解決に貢献することができます。予測問題を長期にわたって解くことができれば、血液や免疫細胞の成熟に伴う分化に遺伝子制御がどのように影響するかについて、新たな知見を得ることができるかもしれません。\n",
    "\n",
    "\n",
    "## 評価\n",
    "\n",
    "投稿の順位付けには、ピアソン相関係数を使用しています。Multiomeデータセットの各オブザベーションについて、グランドトゥルース遺伝子発現と予測される遺伝子発現の相関を計算します。CITEseqデータセットの各オブザベーションについて、ground-truthの表面タンパク質レベルと予測される表面タンパク質レベルの間の相関を計算します。総合スコアは、各サンプルの相関スコアの平均値です。あるサンプルの予測値がすべて同じであった場合、そのサンプルの相関は-1.0としてスコア化されます。\n",
    "\n",
    "\n",
    "## 提出ファイル\n",
    "\n",
    "評価セット内の各idについて、そのrow_idの ターゲット値を予測する必要があります。提出物はヘッダーを含み、以下のフォーマットである必要があります。\n",
    "\n",
    "\n",
    "\n",
    "```\n",
    "row_id,target\n",
    "0,0.0\n",
    "1,0.0\n",
    "2,0.0\n",
    "3,0.0\n",
    "...\n",
    "```\n",
    "\n",
    "提出ファイルは、テストセットのオブザベーションのサブセットのみを含む必要があります。含まれるべき特定の ID については、データ説明を参照してください。\n",
    "\n",
    "\n",
    "\n",
    "\n",
    "## データ\n",
    "\n",
    "このコンペティションのデータセットは、4人の健康なヒトドナーから分離した動員末梢CD34+造血幹細胞および前駆細胞（HSPCs）から収集したシングルセルマルチオミクスデータから構成されています。細胞の詳細については、ベンダーのウェブサイトをご覧ください。\n",
    "\n",
    "測定は10日間にわたり、5つの時点で行われた。各時点の各プレートから、2種類のシングルセルアッセイで測定するために細胞を採取した。1つ目は10x Chromium Single Cell Multiome ATAC + Gene Expressiontechnology（Multiome）、2つ目は10x Genomics Single Cell Gene Expression with Feature Barcodingtechnologyで、TotalSeq™-B Human Universal Cocktail, V1.0(CITEseq) を使用したもの。\n",
    "\n",
    "このデータ型を扱ったことがない方は、この説明の一番下にいくつかのリンクを載せています。\n",
    "\n",
    "各アッセイ技術では、2つのモダリティを測定します。Multiomeキットはクロマチンアクセシビリティ（DNA）と遺伝子発現（RNA）を、CITEseqキットは遺伝子発現（RNA）と表面タンパク質のレベルを測定します。\n",
    "\n",
    "分子生物学のセントラルドグマに従うとDNA→RNA→タンパク質という分子生物学のセントラルドグマに従って、あなたの仕事は次の通りです。\n",
    "\n",
    "- Multiomeサンプルの場合：クロマチンアクセシビリティが与えられた場合、遺伝子発現を予測する。\n",
    "- CITEseqサンプルについて：遺伝子発現が与えられた場合、タンパク質量を予測する。\n",
    "\n",
    "### 細胞の種類\n",
    "\n",
    "解析の参考のため、以下の論文の情報を用いて、RNA 遺伝子発現に基づく予備的な細胞タイプアノテーションを行った： https://www.nature.com/articles/ncb3493 .細胞タイプのアノテーションは不正確な技術であり、連続データに離散的なラベルを割り当てるという概念には固有の限界があることに注意してください。これらのラベルを予測に使用する必要はなく、主に探索的な解析のガイドとして提供されている。このデータでは、以下のような細胞タイプがある。\n",
    "\n",
    "- MasP= マスト細胞プロジェニター\n",
    "- MkP＝メガカリョク細胞プロジェニター\n",
    "- NeuP= 好中球プロジェニター\n",
    "- MoP= Monocyte Progenitor（単球前駆体）。\n",
    "- EryP= 赤血球前駆体（Erythrocyte Progenitor）。\n",
    "- HSC= Hematoploetic Stem Cell（造血幹細胞）。\n",
    "- BP= B細胞プロジェニター\n",
    "\n",
    "\n",
    "### ファイルおよびフィールドの説明\n",
    "\n",
    "- metadata.csv\n",
    "    - cell_id- 観測された各セルに対する一意の識別子．\n",
    "    - donor- 4人の細胞ドナーの識別子。\n",
    "    - day- 観察が行われた実験の日。\n",
    "    - 技術-citeseqか multiomeのどちらか。\n",
    "    - cell_type- 上記のセルタイプの1つ，あるいは非表示．\n",
    "\n",
    "実験観測はいくつかの大きなアレイに含まれています。これらのアレイはHDF5フォーマットで提供されます。\n",
    "\n",
    "\n",
    "#### マルチオーム\n",
    "\n",
    "- `train/test_multi_inputs.h5`- ATAC-seq peak counts をTF-IDFで変換し、デフォルトのlog(TF) * log(IDF)output (chromatin accessibility)を使用。行は細胞、列はアクセスレベルを測定したゲノムの位置（ここでは 10xReferences - 2020-A (July 7, 2020) で提供された参照ゲノム GRCh38 のゲノム座標により特定）に相当します。\n",
    "- `train_multi_targets.h5`- RNA遺伝子発現レベル（同一細胞のライブラリサイズ正規化およびlog1p変換カウントとして）。\n",
    "\n",
    "\n",
    "#### CITEseq\n",
    "\n",
    "- `train/test_cite_inputs.h5`- RNAライブラリサイズで正規化、log1p変換したカウント値（遺伝子発現レベル）、行は{gene_name}_{gene_ensemble-ids}で指定したセル、列は遺伝子に対応。\n",
    "- `train_cite_targets.h5`-dsbで正規化された同じ細胞の表面タンパク質レベル。\n",
    "\n",
    "\n",
    "#### データ分割\n",
    "\n",
    "データ分割は以下のように整理されている。\n",
    "\n",
    "- トレーニングセットは、13176、31800、32606のドナーからのサンプルだけから構成される。公開テストセットは、ドナー27678からのサンプルだけから構成される。プライベートテストセットは、4人のドナーすべてからのサンプルで構成される。\n",
    "- Multiomeサンプルについては、トレーニングセットは2日目、3日目、4日目、7日目のサンプルのみで構成されています。公開テストセットは、2日目、3日目、7日目のデータのみから構成される。プライベートテストセットは、10日目のデータのみから構成される。\n",
    "- CITEseqサンプルについては、トレーニングセットは2日目、3日目、4日目のサンプルのみから構成されています。公開テストセットも2日目、3日目、4日目のみのサンプルから構成される。プライベートテストセットは、7日目のサンプルだけから構成されます。どの分割においても、10日目のCITEseqサンプルは存在しない。\n",
    "\n",
    "![data-split](https://user-images.githubusercontent.com/1638500/186604139-c3269f74-9b8c-4521-80f2-7930b6e607cb.jpg)\n",
    "\n",
    "\n",
    "あなたの課題は、テストセットの入力に対応するラベルを予測することです。提出物の採点を容易にするため、マルチオームデータのサブセットに対する予測のみを要求します。このサブセットは、Multiomeの行の30%、各行に対して列の15%をサンプリングして作成されています。列のサンプルは行ごとに異なります。CITEseqラベルは全てスコア化されています。\n",
    "\n",
    "- `evaluation_ids.csv`- 評価対象のテストセットからラベルを特定する。ラベルマトリックスのcell_id/gene_id識別子から、提出ファイルに必要なrow_idへの結合キーが提供されます。\n",
    "- `sample_submission.csv`- 正しい形式の投稿ファイルのサンプルです。詳しくは、評価のページをご覧ください。\n",
    "\n",
    "### 学習リソース\n",
    "\n",
    "- Open Problems - マルチモーダル単一細胞データについて- マルチモーダルデータを初めて見る人に説明するために昨年作成した情報ページです。\n",
    "  https://openproblems.bio/neurips_docs/data/about_multimodal/\n",
    "- モデル、推論、アルゴリズム - マルチモーダル単一細胞解析で競争するために団結する- コンペティションの背景と動機を提供するBroad Institutes Models, Inferences, and Algorithmsセミナーでコンペティション主催者によって発表された講演です。\n"
   ]
  },
  {
   "cell_type": "markdown",
   "id": "b33a8df5-96de-4890-92be-b6fa408e4f23",
   "metadata": {},
   "source": [
    "## Discussion メモ\n",
    "\n"
   ]
  },
  {
   "cell_type": "markdown",
   "id": "a4507d9d-e0b8-4a96-b21e-41089147df24",
   "metadata": {},
   "source": [
    "### Welcome to the Open Problems Multimodal Single-Cell Integration challenge!\n",
    "\n",
    "https://www.kaggle.com/competitions/open-problems-multimodal/discussion/344607\n",
    "\n",
    "このコンペティションは、単一細胞で同時に測定された異なる遺伝子測定値（DNA、RNA、タンパク質）間の関係を予測することをテーマとしています。生物医学の分野では、シングルセル技術によって、人体に存在する37兆個の細胞の多様性や、これらの細胞の種類が健康と病気の間でどのように異なるかについて、爆発的に新しい知見が得られてきています。しかし、この分野にはまだいくつかの壮大な課題が残されており、細胞状態のダイナミクスのモデリングは最大の未解決問題の一つである（Genome Biology 2020）。\n",
    "\n",
    "このコンペティションでOpen Problemsは、細胞中心の創薬企業であるCellarity社と提携し、細胞の状態変化を時系列で捉えることができるアルゴリズムの進歩を促すために設計された、世界初のベンチマークデータセットを作成しました。我々は、2つの異なるマルチモーダル単一細胞技術を用いて、4人の健康なヒトドナーのCD34+造血幹細胞および前駆細胞（HSPCs）を5つの時点で測定しました。あなたの課題は、これらのモダリティ間の関係を学び、データセット内の後の未知の時点において、一方から他方へ予測する方法を学ぶことです。\n",
    "\n",
    "\n"
   ]
  },
  {
   "cell_type": "markdown",
   "id": "8d627b9d-7165-45bb-b9cb-1761e6c73a1d",
   "metadata": {},
   "source": [
    "\n",
    "### Understanding the Competition + Some Domain Knowledge\n",
    "\n",
    "https://www.kaggle.com/competitions/open-problems-multimodal/discussion/346888\n",
    "\n",
    "- このコンペティションは2つのパートに分かれていると考えることができます。MultiomeとCITEseqです。\n",
    "- どちらのパートでも、ベクトル入力が与えられたときにベクトル予測を行うモデルが必要です。\n",
    "- 各セルIDはサンプルを表します。\n",
    "- Multiomeでは、変換された数値DNAデータを使って、変換された数値RNAデータを予測する必要があります。\n",
    "- CITEseqでは、変換された数値RNAデータを用いて、変換された数値Proteinデータを予測する必要があります。\n",
    "\n",
    "<img alt=\"inbox_6537187_bf8c54a125ecfd986cd30c5ecc0724a2_central_dogma2\" src=\"https://user-images.githubusercontent.com/1638500/186604158-3123609f-bd97-46d5-8193-f9a4012bb8c9.png\">\n",
    "\n",
    "\n",
    "- 予測値をターゲットテーブルと同様にフォーマットする\n",
    "- ラベルマトリックスからcell_id / gene_id のインデックスを作成し、evalations_ids.csv を作成する。\n",
    "- evaulations_ids.csvをsample_submission.csvにrow_idでマッピングする。\n",
    "\n",
    "<img alt=\"inbox_6537187_1997e2ec55923d44b4d0a53221311456_sub_pic\" src=\"https://user-images.githubusercontent.com/1638500/186604154-ba0643d6-5c00-445c-9d2f-28170f000c6e.png\">\n",
    "\n",
    "\n",
    "\n",
    "\n",
    "### セントラルドグマ\n",
    "\n",
    "https://ja.wikipedia.org/wiki/%E3%82%BB%E3%83%B3%E3%83%88%E3%83%A9%E3%83%AB%E3%83%89%E3%82%B0%E3%83%9E\n",
    "\n",
    "セントラルドグマ（英: central dogma）とは、遺伝情報は「DNA→（転写）→mRNA→（翻訳）→タンパク質」の順に伝達される、という、分子生物学の概念である。\n",
    "\n",
    "![220px-Central_Dogma_of_Molecular_Biochemistry_with_Enzymes](https://user-images.githubusercontent.com/1638500/186604150-9b557a15-c668-4891-8d02-09bbe64137ea.jpg)\n",
    "\n",
    "セントラルドグマの流れ。DNAポリメラーゼによって複製されたDNAは、RNAポリメラーゼによって転写されてRNA (mRNA) が合成され、転写されたRNAはリボソームに結合して翻訳され、たんぱく質が合成される\n",
    "\n",
    "\n",
    "#### 遺伝情報の発現\n",
    "\n",
    "真核生物におけるセントラルドグマの過程は次のとおりである。まず、RNAポリメラーゼIIの働きにより、DNAの遺伝情報はmRNAに転写される。次に、mRNAが核膜の孔を通って核から細胞質基質に出ると、細胞質基質中のリボソームに結合する。リボソームにおいては、アミノ酸を運んできたtRNAが、mRNAの3つずつの塩基配列（コドン）に対応して結合し、運ばれてきたアミノ酸が繋がってペプチドを作る。RNAからタンパク質を作ることを翻訳と呼ぶ。この、DNAからタンパク質が出来る流れの概念がセントラルドグマである。\n",
    "\n",
    "通常、遺伝情報はこのようにDNAからタンパク質に一方的に伝達され発現するのであるが、例外がある。RNAを遺伝子としているウイルスの一部（レトロウイルス）は、宿主細胞内でRNAをDNAに変換するセントラルドグマの逆反応を行う。その後に、セントラルドグマに従ってDNAからRNAの転写を経てタンパク質へ翻訳され、ウイルスが作成される。\n",
    "\n",
    "#### 遺伝情報の複製\n",
    "\n",
    "生物の遺伝情報はゲノムDNAに保存されている。生物の基本単位である細胞が同じ遺伝情報を持った二つの細胞に分裂するためには、細胞が分裂する前に親細胞と同じ遺伝情報をもう一揃え合成する必要がある。この遺伝情報の複製はDNA複製によって行われる。また親から子への遺伝もDNA複製によって行なわれるが、有性生殖を行う生物は減数分裂によって染色体の選択が行われた接合子が接合する事で両親の遺伝情報の半分ずつを受け継ぐ。\n",
    "\n",
    "複製は 極めて高い精度で行われるが、それでも10e-9程度の割合で合成ミスが起こる。また紫外線や放射線、化学物質によってDNAが傷つき、突然変異が生じることもある。\n",
    "\n",
    "\n",
    "\n"
   ]
  },
  {
   "cell_type": "markdown",
   "id": "009c6445-93de-4d81-9a46-afc54394b43c",
   "metadata": {},
   "source": [
    "## EDA メモ\n",
    "\n",
    "- ...\n",
    "\n",
    "\n"
   ]
  },
  {
   "cell_type": "code",
   "execution_count": 5,
   "id": "972c88a8-8053-43bc-bb93-9368ceafcdf8",
   "metadata": {},
   "outputs": [],
   "source": [
    "c = OmegaConf.load(\"../working/config/main.yaml\")\n",
    "\n",
    "c.global_params.data = \"all\""
   ]
  },
  {
   "cell_type": "code",
   "execution_count": 6,
   "id": "c9adcbfe-320d-41f4-8593-edd9e5e4be20",
   "metadata": {},
   "outputs": [
    {
     "name": "stderr",
     "output_type": "stream",
     "text": [
      "2022-09-01 20:30:11,862 [INFO] [load_data] Load pickle file. path: ../input/test_cite_inputs.pickle\n",
      "2022-09-01 20:30:18,677 [INFO] [load_data] Load pickle file. path: ../input/train_cite_inputs.pickle\n",
      "2022-09-01 20:30:25,761 [INFO] [load_data] Load pickle file. path: ../input/train_cite_targets.pickle\n",
      "2022-09-01 20:30:25,791 [INFO] [load_data] Load pickle file. path: ../input/train_multi_targets.pickle\n"
     ]
    }
   ],
   "source": [
    "input = PreprocessData(c, do_preprocess=False)"
   ]
  },
  {
   "cell_type": "code",
   "execution_count": null,
   "id": "4627fca7-ec97-4d24-a0a0-40d05fb102cc",
   "metadata": {},
   "outputs": [],
   "source": []
  },
  {
   "cell_type": "markdown",
   "id": "4bc5af1a-29ad-4b80-a725-ca5164df85bf",
   "metadata": {
    "tags": []
   },
   "source": [
    "## Metadata\n",
    "\n"
   ]
  },
  {
   "cell_type": "code",
   "execution_count": 7,
   "id": "a74f78af-6eff-4fb9-92f7-3f6bcca30338",
   "metadata": {},
   "outputs": [
    {
     "name": "stdout",
     "output_type": "stream",
     "text": [
      "<class 'pandas.core.frame.DataFrame'>\n",
      "RangeIndex: 281528 entries, 0 to 281527\n",
      "Data columns (total 5 columns):\n",
      " #   Column      Non-Null Count   Dtype \n",
      "---  ------      --------------   ----- \n",
      " 0   cell_id     281528 non-null  object\n",
      " 1   day         281528 non-null  int8  \n",
      " 2   donor       281528 non-null  int16 \n",
      " 3   cell_type   281528 non-null  object\n",
      " 4   technology  281528 non-null  object\n",
      "dtypes: int16(1), int8(1), object(3)\n",
      "memory usage: 7.2+ MB\n"
     ]
    }
   ],
   "source": [
    "input.metadata.info()"
   ]
  },
  {
   "cell_type": "code",
   "execution_count": 8,
   "id": "ca664400-2fef-469c-9698-76000acee6a3",
   "metadata": {},
   "outputs": [
    {
     "data": {
      "text/html": [
       "<div>\n",
       "<style scoped>\n",
       "    .dataframe tbody tr th:only-of-type {\n",
       "        vertical-align: middle;\n",
       "    }\n",
       "\n",
       "    .dataframe tbody tr th {\n",
       "        vertical-align: top;\n",
       "    }\n",
       "\n",
       "    .dataframe thead th {\n",
       "        text-align: right;\n",
       "    }\n",
       "</style>\n",
       "<table border=\"1\" class=\"dataframe\">\n",
       "  <thead>\n",
       "    <tr style=\"text-align: right;\">\n",
       "      <th></th>\n",
       "      <th>cell_id</th>\n",
       "      <th>day</th>\n",
       "      <th>donor</th>\n",
       "      <th>cell_type</th>\n",
       "      <th>technology</th>\n",
       "    </tr>\n",
       "  </thead>\n",
       "  <tbody>\n",
       "    <tr>\n",
       "      <th>0</th>\n",
       "      <td>c2150f55becb</td>\n",
       "      <td>2</td>\n",
       "      <td>27678</td>\n",
       "      <td>HSC</td>\n",
       "      <td>citeseq</td>\n",
       "    </tr>\n",
       "    <tr>\n",
       "      <th>1</th>\n",
       "      <td>65b7edf8a4da</td>\n",
       "      <td>2</td>\n",
       "      <td>27678</td>\n",
       "      <td>HSC</td>\n",
       "      <td>citeseq</td>\n",
       "    </tr>\n",
       "    <tr>\n",
       "      <th>2</th>\n",
       "      <td>c1b26cb1057b</td>\n",
       "      <td>2</td>\n",
       "      <td>27678</td>\n",
       "      <td>EryP</td>\n",
       "      <td>citeseq</td>\n",
       "    </tr>\n",
       "    <tr>\n",
       "      <th>3</th>\n",
       "      <td>917168fa6f83</td>\n",
       "      <td>2</td>\n",
       "      <td>27678</td>\n",
       "      <td>NeuP</td>\n",
       "      <td>citeseq</td>\n",
       "    </tr>\n",
       "    <tr>\n",
       "      <th>4</th>\n",
       "      <td>2b29feeca86d</td>\n",
       "      <td>2</td>\n",
       "      <td>27678</td>\n",
       "      <td>EryP</td>\n",
       "      <td>citeseq</td>\n",
       "    </tr>\n",
       "  </tbody>\n",
       "</table>\n",
       "</div>"
      ],
      "text/plain": [
       "        cell_id  day  donor cell_type technology\n",
       "0  c2150f55becb    2  27678       HSC    citeseq\n",
       "1  65b7edf8a4da    2  27678       HSC    citeseq\n",
       "2  c1b26cb1057b    2  27678      EryP    citeseq\n",
       "3  917168fa6f83    2  27678      NeuP    citeseq\n",
       "4  2b29feeca86d    2  27678      EryP    citeseq"
      ]
     },
     "execution_count": 8,
     "metadata": {},
     "output_type": "execute_result"
    }
   ],
   "source": [
    "input.metadata.head()"
   ]
  },
  {
   "cell_type": "code",
   "execution_count": 9,
   "id": "0977dabc-95a4-495c-b101-5eac39e0dffb",
   "metadata": {},
   "outputs": [
    {
     "data": {
      "text/html": [
       "<div>\n",
       "<style scoped>\n",
       "    .dataframe tbody tr th:only-of-type {\n",
       "        vertical-align: middle;\n",
       "    }\n",
       "\n",
       "    .dataframe tbody tr th {\n",
       "        vertical-align: top;\n",
       "    }\n",
       "\n",
       "    .dataframe thead th {\n",
       "        text-align: right;\n",
       "    }\n",
       "</style>\n",
       "<table border=\"1\" class=\"dataframe\">\n",
       "  <thead>\n",
       "    <tr style=\"text-align: right;\">\n",
       "      <th></th>\n",
       "      <th>cell_id</th>\n",
       "      <th>day</th>\n",
       "      <th>donor</th>\n",
       "      <th>cell_type</th>\n",
       "      <th>technology</th>\n",
       "    </tr>\n",
       "  </thead>\n",
       "  <tbody>\n",
       "    <tr>\n",
       "      <th>281523</th>\n",
       "      <td>96a60b026659</td>\n",
       "      <td>10</td>\n",
       "      <td>31800</td>\n",
       "      <td>hidden</td>\n",
       "      <td>multiome</td>\n",
       "    </tr>\n",
       "    <tr>\n",
       "      <th>281524</th>\n",
       "      <td>d493e546991e</td>\n",
       "      <td>10</td>\n",
       "      <td>31800</td>\n",
       "      <td>hidden</td>\n",
       "      <td>multiome</td>\n",
       "    </tr>\n",
       "    <tr>\n",
       "      <th>281525</th>\n",
       "      <td>05666c99aa48</td>\n",
       "      <td>10</td>\n",
       "      <td>31800</td>\n",
       "      <td>hidden</td>\n",
       "      <td>multiome</td>\n",
       "    </tr>\n",
       "    <tr>\n",
       "      <th>281526</th>\n",
       "      <td>121f946642b5</td>\n",
       "      <td>10</td>\n",
       "      <td>31800</td>\n",
       "      <td>hidden</td>\n",
       "      <td>multiome</td>\n",
       "    </tr>\n",
       "    <tr>\n",
       "      <th>281527</th>\n",
       "      <td>b847ba21f59f</td>\n",
       "      <td>10</td>\n",
       "      <td>31800</td>\n",
       "      <td>hidden</td>\n",
       "      <td>multiome</td>\n",
       "    </tr>\n",
       "  </tbody>\n",
       "</table>\n",
       "</div>"
      ],
      "text/plain": [
       "             cell_id  day  donor cell_type technology\n",
       "281523  96a60b026659   10  31800    hidden   multiome\n",
       "281524  d493e546991e   10  31800    hidden   multiome\n",
       "281525  05666c99aa48   10  31800    hidden   multiome\n",
       "281526  121f946642b5   10  31800    hidden   multiome\n",
       "281527  b847ba21f59f   10  31800    hidden   multiome"
      ]
     },
     "execution_count": 9,
     "metadata": {},
     "output_type": "execute_result"
    }
   ],
   "source": [
    "input.metadata.tail()"
   ]
  },
  {
   "cell_type": "code",
   "execution_count": 10,
   "id": "04429ce4-78aa-4000-988f-dc1919881813",
   "metadata": {},
   "outputs": [
    {
     "data": {
      "text/html": [
       "<div>\n",
       "<style scoped>\n",
       "    .dataframe tbody tr th:only-of-type {\n",
       "        vertical-align: middle;\n",
       "    }\n",
       "\n",
       "    .dataframe tbody tr th {\n",
       "        vertical-align: top;\n",
       "    }\n",
       "\n",
       "    .dataframe thead th {\n",
       "        text-align: right;\n",
       "    }\n",
       "</style>\n",
       "<table border=\"1\" class=\"dataframe\">\n",
       "  <thead>\n",
       "    <tr style=\"text-align: right;\">\n",
       "      <th></th>\n",
       "      <th>day</th>\n",
       "      <th>donor</th>\n",
       "    </tr>\n",
       "  </thead>\n",
       "  <tbody>\n",
       "    <tr>\n",
       "      <th>count</th>\n",
       "      <td>281528.000000</td>\n",
       "      <td>281528.000000</td>\n",
       "    </tr>\n",
       "    <tr>\n",
       "      <th>mean</th>\n",
       "      <td>4.606348</td>\n",
       "      <td>26270.952445</td>\n",
       "    </tr>\n",
       "    <tr>\n",
       "      <th>std</th>\n",
       "      <td>2.570123</td>\n",
       "      <td>7967.233157</td>\n",
       "    </tr>\n",
       "    <tr>\n",
       "      <th>min</th>\n",
       "      <td>2.000000</td>\n",
       "      <td>13176.000000</td>\n",
       "    </tr>\n",
       "    <tr>\n",
       "      <th>25%</th>\n",
       "      <td>3.000000</td>\n",
       "      <td>13176.000000</td>\n",
       "    </tr>\n",
       "    <tr>\n",
       "      <th>50%</th>\n",
       "      <td>4.000000</td>\n",
       "      <td>31800.000000</td>\n",
       "    </tr>\n",
       "    <tr>\n",
       "      <th>75%</th>\n",
       "      <td>7.000000</td>\n",
       "      <td>32606.000000</td>\n",
       "    </tr>\n",
       "    <tr>\n",
       "      <th>max</th>\n",
       "      <td>10.000000</td>\n",
       "      <td>32606.000000</td>\n",
       "    </tr>\n",
       "  </tbody>\n",
       "</table>\n",
       "</div>"
      ],
      "text/plain": [
       "                 day          donor\n",
       "count  281528.000000  281528.000000\n",
       "mean        4.606348   26270.952445\n",
       "std         2.570123    7967.233157\n",
       "min         2.000000   13176.000000\n",
       "25%         3.000000   13176.000000\n",
       "50%         4.000000   31800.000000\n",
       "75%         7.000000   32606.000000\n",
       "max        10.000000   32606.000000"
      ]
     },
     "execution_count": 10,
     "metadata": {},
     "output_type": "execute_result"
    }
   ],
   "source": [
    "input.metadata.describe()"
   ]
  },
  {
   "cell_type": "code",
   "execution_count": 11,
   "id": "f13ef9c5-6e95-48ca-8c4f-b832babedc74",
   "metadata": {},
   "outputs": [
    {
     "data": {
      "text/html": [
       "<div>\n",
       "<style scoped>\n",
       "    .dataframe tbody tr th:only-of-type {\n",
       "        vertical-align: middle;\n",
       "    }\n",
       "\n",
       "    .dataframe tbody tr th {\n",
       "        vertical-align: top;\n",
       "    }\n",
       "\n",
       "    .dataframe thead th {\n",
       "        text-align: right;\n",
       "    }\n",
       "</style>\n",
       "<table border=\"1\" class=\"dataframe\">\n",
       "  <thead>\n",
       "    <tr style=\"text-align: right;\">\n",
       "      <th></th>\n",
       "      <th>カラム名</th>\n",
       "      <th>ユニーク値数</th>\n",
       "      <th>最頻値</th>\n",
       "      <th>最頻値の出現回数</th>\n",
       "      <th>最頻値の割合</th>\n",
       "      <th>欠損値の数</th>\n",
       "      <th>欠損値の割合</th>\n",
       "      <th>タイプ</th>\n",
       "    </tr>\n",
       "  </thead>\n",
       "  <tbody>\n",
       "    <tr>\n",
       "      <th>0</th>\n",
       "      <td>cell_id</td>\n",
       "      <td>281528</td>\n",
       "      <td>c2150f55becb</td>\n",
       "      <td>1</td>\n",
       "      <td>0.000355</td>\n",
       "      <td>0</td>\n",
       "      <td>0.0</td>\n",
       "      <td>object</td>\n",
       "    </tr>\n",
       "    <tr>\n",
       "      <th>1</th>\n",
       "      <td>day</td>\n",
       "      <td>5</td>\n",
       "      <td>4</td>\n",
       "      <td>67111</td>\n",
       "      <td>23.838126</td>\n",
       "      <td>0</td>\n",
       "      <td>0.0</td>\n",
       "      <td>int8</td>\n",
       "    </tr>\n",
       "    <tr>\n",
       "      <th>2</th>\n",
       "      <td>donor</td>\n",
       "      <td>4</td>\n",
       "      <td>31800</td>\n",
       "      <td>74963</td>\n",
       "      <td>26.627192</td>\n",
       "      <td>0</td>\n",
       "      <td>0.0</td>\n",
       "      <td>int16</td>\n",
       "    </tr>\n",
       "    <tr>\n",
       "      <th>3</th>\n",
       "      <td>cell_type</td>\n",
       "      <td>8</td>\n",
       "      <td>HSC</td>\n",
       "      <td>77535</td>\n",
       "      <td>27.540777</td>\n",
       "      <td>0</td>\n",
       "      <td>0.0</td>\n",
       "      <td>object</td>\n",
       "    </tr>\n",
       "    <tr>\n",
       "      <th>4</th>\n",
       "      <td>technology</td>\n",
       "      <td>2</td>\n",
       "      <td>multiome</td>\n",
       "      <td>161877</td>\n",
       "      <td>57.499432</td>\n",
       "      <td>0</td>\n",
       "      <td>0.0</td>\n",
       "      <td>object</td>\n",
       "    </tr>\n",
       "  </tbody>\n",
       "</table>\n",
       "</div>"
      ],
      "text/plain": [
       "         カラム名  ユニーク値数           最頻値  最頻値の出現回数     最頻値の割合  欠損値の数  欠損値の割合  \\\n",
       "0     cell_id  281528  c2150f55becb         1   0.000355      0     0.0   \n",
       "1         day       5             4     67111  23.838126      0     0.0   \n",
       "2       donor       4         31800     74963  26.627192      0     0.0   \n",
       "3   cell_type       8           HSC     77535  27.540777      0     0.0   \n",
       "4  technology       2      multiome    161877  57.499432      0     0.0   \n",
       "\n",
       "      タイプ  \n",
       "0  object  \n",
       "1    int8  \n",
       "2   int16  \n",
       "3  object  \n",
       "4  object  "
      ]
     },
     "execution_count": 11,
     "metadata": {},
     "output_type": "execute_result"
    }
   ],
   "source": [
    "df_stats(input.metadata)"
   ]
  },
  {
   "cell_type": "code",
   "execution_count": null,
   "id": "7bb8f7c9-8afb-4bd4-aa4f-98778fb48dc0",
   "metadata": {},
   "outputs": [],
   "source": []
  },
  {
   "cell_type": "markdown",
   "id": "f282e083-808e-4a88-8fe4-77d82449b172",
   "metadata": {
    "tags": []
   },
   "source": [
    "### データ分布\n"
   ]
  },
  {
   "cell_type": "code",
   "execution_count": 12,
   "id": "9a0be47a-282a-48d5-8034-b46182265866",
   "metadata": {},
   "outputs": [
    {
     "data": {
      "text/plain": [
       "4     67111\n",
       "3     64154\n",
       "2     62250\n",
       "7     56240\n",
       "10    31773\n",
       "Name: day, dtype: int64"
      ]
     },
     "execution_count": 12,
     "metadata": {},
     "output_type": "execute_result"
    }
   ],
   "source": [
    "input.metadata[\"day\"].value_counts()"
   ]
  },
  {
   "cell_type": "code",
   "execution_count": 13,
   "id": "3b5ec35c-5ed0-4289-b398-bf9272f9cf51",
   "metadata": {},
   "outputs": [
    {
     "data": {
      "text/plain": [
       "<AxesSubplot:xlabel='day', ylabel='Count'>"
      ]
     },
     "execution_count": 13,
     "metadata": {},
     "output_type": "execute_result"
    },
    {
     "data": {
      "image/png": "[encoded data removed]",
      "text/plain": [
       "<Figure size 432x288 with 1 Axes>"
      ]
     },
     "metadata": {
      "needs_background": "light"
     },
     "output_type": "display_data"
    }
   ],
   "source": [
    "sns.histplot(input.metadata[\"day\"])"
   ]
  },
  {
   "cell_type": "code",
   "execution_count": 14,
   "id": "bb889e7b-ced7-46aa-bcc9-7529099e5889",
   "metadata": {},
   "outputs": [
    {
     "data": {
      "text/plain": [
       "31800    74963\n",
       "13176    73211\n",
       "32606    72359\n",
       "27678    60995\n",
       "Name: donor, dtype: int64"
      ]
     },
     "execution_count": 14,
     "metadata": {},
     "output_type": "execute_result"
    }
   ],
   "source": [
    "input.metadata[\"donor\"].value_counts()"
   ]
  },
  {
   "cell_type": "code",
   "execution_count": 15,
   "id": "3c81621d-2cb7-4855-976b-acaf8c391c7d",
   "metadata": {},
   "outputs": [
    {
     "data": {
      "text/plain": [
       "HSC       77535\n",
       "hidden    55935\n",
       "NeuP      42979\n",
       "EryP      41479\n",
       "MasP      34827\n",
       "MkP       24021\n",
       "MoP        3883\n",
       "BP          869\n",
       "Name: cell_type, dtype: int64"
      ]
     },
     "execution_count": 15,
     "metadata": {},
     "output_type": "execute_result"
    }
   ],
   "source": [
    "input.metadata[\"cell_type\"].value_counts()"
   ]
  },
  {
   "cell_type": "code",
   "execution_count": 16,
   "id": "f059d753-4811-4203-ae44-0088f7fd1a1c",
   "metadata": {},
   "outputs": [
    {
     "data": {
      "text/plain": [
       "<AxesSubplot:xlabel='cell_type', ylabel='Count'>"
      ]
     },
     "execution_count": 16,
     "metadata": {},
     "output_type": "execute_result"
    },
    {
     "data": {
      "image/png": "[encoded data removed]",
      "text/plain": [
       "<Figure size 432x288 with 1 Axes>"
      ]
     },
     "metadata": {
      "needs_background": "light"
     },
     "output_type": "display_data"
    }
   ],
   "source": [
    "sns.histplot(input.metadata[\"cell_type\"])"
   ]
  },
  {
   "cell_type": "code",
   "execution_count": 17,
   "id": "beb803db-48c2-429d-9e6b-95dc82cd2c75",
   "metadata": {},
   "outputs": [
    {
     "data": {
      "text/plain": [
       "multiome    161877\n",
       "citeseq     119651\n",
       "Name: technology, dtype: int64"
      ]
     },
     "execution_count": 17,
     "metadata": {},
     "output_type": "execute_result"
    }
   ],
   "source": [
    "input.metadata[\"technology\"].value_counts()"
   ]
  },
  {
   "cell_type": "code",
   "execution_count": null,
   "id": "55f23fd5-2a3c-463b-882c-59ff98b3ffd2",
   "metadata": {},
   "outputs": [],
   "source": []
  },
  {
   "cell_type": "code",
   "execution_count": 55,
   "id": "f2da21d4-86a1-4dff-b3fd-af9592e7dc3f",
   "metadata": {},
   "outputs": [],
   "source": [
    "metadata_cite = input.metadata[input.metadata[\"technology\"] == \"citeseq\"]\n",
    "metadata_multi = input.metadata[input.metadata[\"technology\"] == \"multiome\"]"
   ]
  },
  {
   "cell_type": "code",
   "execution_count": 56,
   "id": "b38ddf74-145f-4a73-bbf8-ef6bf216553e",
   "metadata": {},
   "outputs": [
    {
     "data": {
      "text/plain": [
       "4    35977\n",
       "2    29418\n",
       "3    27389\n",
       "7    26867\n",
       "Name: day, dtype: int64"
      ]
     },
     "execution_count": 56,
     "metadata": {},
     "output_type": "execute_result"
    }
   ],
   "source": [
    "metadata_cite[\"day\"].value_counts()"
   ]
  },
  {
   "cell_type": "code",
   "execution_count": 57,
   "id": "c897e208-0eb3-4c5e-aabb-6dcc54892777",
   "metadata": {},
   "outputs": [
    {
     "data": {
      "text/plain": [
       "3     36765\n",
       "2     32832\n",
       "10    31773\n",
       "4     31134\n",
       "7     29373\n",
       "Name: day, dtype: int64"
      ]
     },
     "execution_count": 57,
     "metadata": {},
     "output_type": "execute_result"
    }
   ],
   "source": [
    "metadata_multi[\"day\"].value_counts()"
   ]
  },
  {
   "cell_type": "markdown",
   "id": "af3057b4-6e91-4ec8-a010-848597c868d7",
   "metadata": {},
   "source": [
    "ドナー別、各日のデータ件数\n",
    "\n",
    "![__results___16_0](https://user-images.githubusercontent.com/1638500/186607595-5c247cab-5e5a-4a84-aefb-d6c855c6d705.png)\n"
   ]
  },
  {
   "cell_type": "code",
   "execution_count": null,
   "id": "350e06e1-f6a7-4b1a-822a-a63330c0bdac",
   "metadata": {},
   "outputs": [],
   "source": []
  },
  {
   "cell_type": "code",
   "execution_count": null,
   "id": "d5b59d5c-6133-4cdc-af1b-24dbcb7357b4",
   "metadata": {},
   "outputs": [],
   "source": []
  },
  {
   "cell_type": "code",
   "execution_count": null,
   "id": "ebd4cf23-51ed-44d6-b6b2-c71d7510e9cb",
   "metadata": {},
   "outputs": [],
   "source": []
  },
  {
   "cell_type": "code",
   "execution_count": null,
   "id": "f7b3c7f5-3890-4be0-ad9c-b44a6dab0804",
   "metadata": {},
   "outputs": [],
   "source": []
  },
  {
   "cell_type": "markdown",
   "id": "99af2206-26ca-4dd5-9655-c727abc31b56",
   "metadata": {
    "tags": []
   },
   "source": [
    "## Evaluation IDs\n",
    "\n"
   ]
  },
  {
   "cell_type": "code",
   "execution_count": 18,
   "id": "3413156d-e581-4923-9f2d-29210cc34762",
   "metadata": {},
   "outputs": [
    {
     "name": "stdout",
     "output_type": "stream",
     "text": [
      "<class 'pandas.core.frame.DataFrame'>\n",
      "RangeIndex: 65744180 entries, 0 to 65744179\n",
      "Data columns (total 3 columns):\n",
      " #   Column   Dtype \n",
      "---  ------   ----- \n",
      " 0   row_id   int32 \n",
      " 1   cell_id  object\n",
      " 2   gene_id  object\n",
      "dtypes: int32(1), object(2)\n",
      "memory usage: 1.2+ GB\n"
     ]
    }
   ],
   "source": [
    "input.evaluation_ids.info()"
   ]
  },
  {
   "cell_type": "code",
   "execution_count": 19,
   "id": "7f668f15-fddf-4192-981b-9b2a3a71f09d",
   "metadata": {},
   "outputs": [
    {
     "data": {
      "text/html": [
       "<div>\n",
       "<style scoped>\n",
       "    .dataframe tbody tr th:only-of-type {\n",
       "        vertical-align: middle;\n",
       "    }\n",
       "\n",
       "    .dataframe tbody tr th {\n",
       "        vertical-align: top;\n",
       "    }\n",
       "\n",
       "    .dataframe thead th {\n",
       "        text-align: right;\n",
       "    }\n",
       "</style>\n",
       "<table border=\"1\" class=\"dataframe\">\n",
       "  <thead>\n",
       "    <tr style=\"text-align: right;\">\n",
       "      <th></th>\n",
       "      <th>row_id</th>\n",
       "      <th>cell_id</th>\n",
       "      <th>gene_id</th>\n",
       "    </tr>\n",
       "  </thead>\n",
       "  <tbody>\n",
       "    <tr>\n",
       "      <th>0</th>\n",
       "      <td>0</td>\n",
       "      <td>c2150f55becb</td>\n",
       "      <td>CD86</td>\n",
       "    </tr>\n",
       "    <tr>\n",
       "      <th>1</th>\n",
       "      <td>1</td>\n",
       "      <td>c2150f55becb</td>\n",
       "      <td>CD274</td>\n",
       "    </tr>\n",
       "    <tr>\n",
       "      <th>2</th>\n",
       "      <td>2</td>\n",
       "      <td>c2150f55becb</td>\n",
       "      <td>CD270</td>\n",
       "    </tr>\n",
       "    <tr>\n",
       "      <th>3</th>\n",
       "      <td>3</td>\n",
       "      <td>c2150f55becb</td>\n",
       "      <td>CD155</td>\n",
       "    </tr>\n",
       "    <tr>\n",
       "      <th>4</th>\n",
       "      <td>4</td>\n",
       "      <td>c2150f55becb</td>\n",
       "      <td>CD112</td>\n",
       "    </tr>\n",
       "  </tbody>\n",
       "</table>\n",
       "</div>"
      ],
      "text/plain": [
       "   row_id       cell_id gene_id\n",
       "0       0  c2150f55becb    CD86\n",
       "1       1  c2150f55becb   CD274\n",
       "2       2  c2150f55becb   CD270\n",
       "3       3  c2150f55becb   CD155\n",
       "4       4  c2150f55becb   CD112"
      ]
     },
     "execution_count": 19,
     "metadata": {},
     "output_type": "execute_result"
    }
   ],
   "source": [
    "input.evaluation_ids.head()"
   ]
  },
  {
   "cell_type": "code",
   "execution_count": 20,
   "id": "cc573b7d-51f9-4e59-ba49-c28ad2c1f7f5",
   "metadata": {},
   "outputs": [
    {
     "data": {
      "text/html": [
       "<div>\n",
       "<style scoped>\n",
       "    .dataframe tbody tr th:only-of-type {\n",
       "        vertical-align: middle;\n",
       "    }\n",
       "\n",
       "    .dataframe tbody tr th {\n",
       "        vertical-align: top;\n",
       "    }\n",
       "\n",
       "    .dataframe thead th {\n",
       "        text-align: right;\n",
       "    }\n",
       "</style>\n",
       "<table border=\"1\" class=\"dataframe\">\n",
       "  <thead>\n",
       "    <tr style=\"text-align: right;\">\n",
       "      <th></th>\n",
       "      <th>row_id</th>\n",
       "      <th>cell_id</th>\n",
       "      <th>gene_id</th>\n",
       "    </tr>\n",
       "  </thead>\n",
       "  <tbody>\n",
       "    <tr>\n",
       "      <th>65744175</th>\n",
       "      <td>65744175</td>\n",
       "      <td>2c53aa67933d</td>\n",
       "      <td>ENSG00000134419</td>\n",
       "    </tr>\n",
       "    <tr>\n",
       "      <th>65744176</th>\n",
       "      <td>65744176</td>\n",
       "      <td>2c53aa67933d</td>\n",
       "      <td>ENSG00000186862</td>\n",
       "    </tr>\n",
       "    <tr>\n",
       "      <th>65744177</th>\n",
       "      <td>65744177</td>\n",
       "      <td>2c53aa67933d</td>\n",
       "      <td>ENSG00000170959</td>\n",
       "    </tr>\n",
       "    <tr>\n",
       "      <th>65744178</th>\n",
       "      <td>65744178</td>\n",
       "      <td>2c53aa67933d</td>\n",
       "      <td>ENSG00000107874</td>\n",
       "    </tr>\n",
       "    <tr>\n",
       "      <th>65744179</th>\n",
       "      <td>65744179</td>\n",
       "      <td>2c53aa67933d</td>\n",
       "      <td>ENSG00000166012</td>\n",
       "    </tr>\n",
       "  </tbody>\n",
       "</table>\n",
       "</div>"
      ],
      "text/plain": [
       "            row_id       cell_id          gene_id\n",
       "65744175  65744175  2c53aa67933d  ENSG00000134419\n",
       "65744176  65744176  2c53aa67933d  ENSG00000186862\n",
       "65744177  65744177  2c53aa67933d  ENSG00000170959\n",
       "65744178  65744178  2c53aa67933d  ENSG00000107874\n",
       "65744179  65744179  2c53aa67933d  ENSG00000166012"
      ]
     },
     "execution_count": 20,
     "metadata": {},
     "output_type": "execute_result"
    }
   ],
   "source": [
    "input.evaluation_ids.tail()"
   ]
  },
  {
   "cell_type": "code",
   "execution_count": 21,
   "id": "345140d2-1081-44e1-b5fc-c76e5989212f",
   "metadata": {},
   "outputs": [
    {
     "data": {
      "text/html": [
       "<div>\n",
       "<style scoped>\n",
       "    .dataframe tbody tr th:only-of-type {\n",
       "        vertical-align: middle;\n",
       "    }\n",
       "\n",
       "    .dataframe tbody tr th {\n",
       "        vertical-align: top;\n",
       "    }\n",
       "\n",
       "    .dataframe thead th {\n",
       "        text-align: right;\n",
       "    }\n",
       "</style>\n",
       "<table border=\"1\" class=\"dataframe\">\n",
       "  <thead>\n",
       "    <tr style=\"text-align: right;\">\n",
       "      <th></th>\n",
       "      <th>row_id</th>\n",
       "    </tr>\n",
       "  </thead>\n",
       "  <tbody>\n",
       "    <tr>\n",
       "      <th>count</th>\n",
       "      <td>6.574418e+07</td>\n",
       "    </tr>\n",
       "    <tr>\n",
       "      <th>mean</th>\n",
       "      <td>3.287209e+07</td>\n",
       "    </tr>\n",
       "    <tr>\n",
       "      <th>std</th>\n",
       "      <td>1.897871e+07</td>\n",
       "    </tr>\n",
       "    <tr>\n",
       "      <th>min</th>\n",
       "      <td>0.000000e+00</td>\n",
       "    </tr>\n",
       "    <tr>\n",
       "      <th>25%</th>\n",
       "      <td>1.643604e+07</td>\n",
       "    </tr>\n",
       "    <tr>\n",
       "      <th>50%</th>\n",
       "      <td>3.287209e+07</td>\n",
       "    </tr>\n",
       "    <tr>\n",
       "      <th>75%</th>\n",
       "      <td>4.930813e+07</td>\n",
       "    </tr>\n",
       "    <tr>\n",
       "      <th>max</th>\n",
       "      <td>6.574418e+07</td>\n",
       "    </tr>\n",
       "  </tbody>\n",
       "</table>\n",
       "</div>"
      ],
      "text/plain": [
       "             row_id\n",
       "count  6.574418e+07\n",
       "mean   3.287209e+07\n",
       "std    1.897871e+07\n",
       "min    0.000000e+00\n",
       "25%    1.643604e+07\n",
       "50%    3.287209e+07\n",
       "75%    4.930813e+07\n",
       "max    6.574418e+07"
      ]
     },
     "execution_count": 21,
     "metadata": {},
     "output_type": "execute_result"
    }
   ],
   "source": [
    "input.evaluation_ids.describe()"
   ]
  },
  {
   "cell_type": "code",
   "execution_count": 22,
   "id": "1bdae120-1005-41df-80a7-3068fa6bb831",
   "metadata": {},
   "outputs": [
    {
     "data": {
      "text/html": [
       "<div>\n",
       "<style scoped>\n",
       "    .dataframe tbody tr th:only-of-type {\n",
       "        vertical-align: middle;\n",
       "    }\n",
       "\n",
       "    .dataframe tbody tr th {\n",
       "        vertical-align: top;\n",
       "    }\n",
       "\n",
       "    .dataframe thead th {\n",
       "        text-align: right;\n",
       "    }\n",
       "</style>\n",
       "<table border=\"1\" class=\"dataframe\">\n",
       "  <thead>\n",
       "    <tr style=\"text-align: right;\">\n",
       "      <th></th>\n",
       "      <th>カラム名</th>\n",
       "      <th>ユニーク値数</th>\n",
       "      <th>最頻値</th>\n",
       "      <th>最頻値の出現回数</th>\n",
       "      <th>最頻値の割合</th>\n",
       "      <th>欠損値の数</th>\n",
       "      <th>欠損値の割合</th>\n",
       "      <th>タイプ</th>\n",
       "    </tr>\n",
       "  </thead>\n",
       "  <tbody>\n",
       "    <tr>\n",
       "      <th>0</th>\n",
       "      <td>row_id</td>\n",
       "      <td>65744180</td>\n",
       "      <td>0</td>\n",
       "      <td>1</td>\n",
       "      <td>0.000002</td>\n",
       "      <td>0</td>\n",
       "      <td>0.0</td>\n",
       "      <td>int32</td>\n",
       "    </tr>\n",
       "    <tr>\n",
       "      <th>1</th>\n",
       "      <td>cell_id</td>\n",
       "      <td>65443</td>\n",
       "      <td>2c53aa67933d</td>\n",
       "      <td>3512</td>\n",
       "      <td>0.005342</td>\n",
       "      <td>0</td>\n",
       "      <td>0.0</td>\n",
       "      <td>object</td>\n",
       "    </tr>\n",
       "    <tr>\n",
       "      <th>2</th>\n",
       "      <td>gene_id</td>\n",
       "      <td>23558</td>\n",
       "      <td>CD86</td>\n",
       "      <td>48663</td>\n",
       "      <td>0.074019</td>\n",
       "      <td>0</td>\n",
       "      <td>0.0</td>\n",
       "      <td>object</td>\n",
       "    </tr>\n",
       "  </tbody>\n",
       "</table>\n",
       "</div>"
      ],
      "text/plain": [
       "      カラム名    ユニーク値数           最頻値  最頻値の出現回数    最頻値の割合  欠損値の数  欠損値の割合     タイプ\n",
       "0   row_id  65744180             0         1  0.000002      0     0.0   int32\n",
       "1  cell_id     65443  2c53aa67933d      3512  0.005342      0     0.0  object\n",
       "2  gene_id     23558          CD86     48663  0.074019      0     0.0  object"
      ]
     },
     "execution_count": 22,
     "metadata": {},
     "output_type": "execute_result"
    }
   ],
   "source": [
    "df_stats(input.evaluation_ids)"
   ]
  },
  {
   "cell_type": "code",
   "execution_count": 36,
   "id": "34657455-aa78-40c7-b2fa-f5146576b634",
   "metadata": {},
   "outputs": [],
   "source": [
    "gene_ids = input.evaluation_ids[\"gene_id\"].unique()"
   ]
  },
  {
   "cell_type": "code",
   "execution_count": 37,
   "id": "baa3bdd2-f818-4568-875f-6ab0f1244e18",
   "metadata": {},
   "outputs": [
    {
     "data": {
      "text/plain": [
       "array(['CD86', 'CD274', 'CD270', ..., 'ENSG00000188800',\n",
       "       'ENSG00000114650', 'ENSG00000125686'], dtype=object)"
      ]
     },
     "execution_count": 37,
     "metadata": {},
     "output_type": "execute_result"
    }
   ],
   "source": [
    "gene_ids"
   ]
  },
  {
   "cell_type": "code",
   "execution_count": 38,
   "id": "d1bf84ba-73c2-4b82-8a67-cd57292e22a3",
   "metadata": {},
   "outputs": [
    {
     "data": {
      "text/plain": [
       "23558"
      ]
     },
     "execution_count": 38,
     "metadata": {},
     "output_type": "execute_result"
    }
   ],
   "source": [
    "len(gene_ids)"
   ]
  },
  {
   "cell_type": "code",
   "execution_count": 49,
   "id": "0426d225-26d2-48ae-824e-7b1e5e48398d",
   "metadata": {},
   "outputs": [],
   "source": [
    "cell_ids = input.evaluation_ids[\"cell_id\"].unique()"
   ]
  },
  {
   "cell_type": "code",
   "execution_count": 50,
   "id": "4153d5c2-9d13-4f11-b963-019d2d95f4c7",
   "metadata": {},
   "outputs": [
    {
     "data": {
      "text/plain": [
       "array(['c2150f55becb', '65b7edf8a4da', 'c1b26cb1057b', ...,\n",
       "       '0ddfc0ba4098', '31b078475100', '2c53aa67933d'], dtype=object)"
      ]
     },
     "execution_count": 50,
     "metadata": {},
     "output_type": "execute_result"
    }
   ],
   "source": [
    "cell_ids"
   ]
  },
  {
   "cell_type": "code",
   "execution_count": 51,
   "id": "65193a72-19b7-46b6-9575-241cda116edb",
   "metadata": {},
   "outputs": [
    {
     "data": {
      "text/plain": [
       "65443"
      ]
     },
     "execution_count": 51,
     "metadata": {},
     "output_type": "execute_result"
    }
   ],
   "source": [
    "len(cell_ids)"
   ]
  },
  {
   "cell_type": "code",
   "execution_count": null,
   "id": "1eadc032-fa7f-4d7c-819d-64c1ba986b6f",
   "metadata": {},
   "outputs": [],
   "source": []
  },
  {
   "cell_type": "markdown",
   "id": "aceea92d-f930-450e-9e67-9cbe29621066",
   "metadata": {
    "tags": []
   },
   "source": [
    "## Sample Submission\n",
    "\n",
    "\n"
   ]
  },
  {
   "cell_type": "code",
   "execution_count": 23,
   "id": "2df70572-0ba7-495a-bc6c-c619f369d4e9",
   "metadata": {},
   "outputs": [
    {
     "name": "stdout",
     "output_type": "stream",
     "text": [
      "<class 'pandas.core.frame.DataFrame'>\n",
      "RangeIndex: 65744180 entries, 0 to 65744179\n",
      "Data columns (total 2 columns):\n",
      " #   Column  Dtype  \n",
      "---  ------  -----  \n",
      " 0   row_id  int32  \n",
      " 1   target  float32\n",
      "dtypes: float32(1), int32(1)\n",
      "memory usage: 501.6 MB\n"
     ]
    }
   ],
   "source": [
    "input.sample_submission.info()"
   ]
  },
  {
   "cell_type": "code",
   "execution_count": 24,
   "id": "0f7b2bb9-eff5-48ca-af5a-c43ea024df69",
   "metadata": {},
   "outputs": [
    {
     "data": {
      "text/html": [
       "<div>\n",
       "<style scoped>\n",
       "    .dataframe tbody tr th:only-of-type {\n",
       "        vertical-align: middle;\n",
       "    }\n",
       "\n",
       "    .dataframe tbody tr th {\n",
       "        vertical-align: top;\n",
       "    }\n",
       "\n",
       "    .dataframe thead th {\n",
       "        text-align: right;\n",
       "    }\n",
       "</style>\n",
       "<table border=\"1\" class=\"dataframe\">\n",
       "  <thead>\n",
       "    <tr style=\"text-align: right;\">\n",
       "      <th></th>\n",
       "      <th>row_id</th>\n",
       "      <th>target</th>\n",
       "    </tr>\n",
       "  </thead>\n",
       "  <tbody>\n",
       "    <tr>\n",
       "      <th>0</th>\n",
       "      <td>0</td>\n",
       "      <td>0.0</td>\n",
       "    </tr>\n",
       "    <tr>\n",
       "      <th>1</th>\n",
       "      <td>1</td>\n",
       "      <td>0.0</td>\n",
       "    </tr>\n",
       "    <tr>\n",
       "      <th>2</th>\n",
       "      <td>2</td>\n",
       "      <td>0.0</td>\n",
       "    </tr>\n",
       "    <tr>\n",
       "      <th>3</th>\n",
       "      <td>3</td>\n",
       "      <td>0.0</td>\n",
       "    </tr>\n",
       "    <tr>\n",
       "      <th>4</th>\n",
       "      <td>4</td>\n",
       "      <td>0.0</td>\n",
       "    </tr>\n",
       "  </tbody>\n",
       "</table>\n",
       "</div>"
      ],
      "text/plain": [
       "   row_id  target\n",
       "0       0     0.0\n",
       "1       1     0.0\n",
       "2       2     0.0\n",
       "3       3     0.0\n",
       "4       4     0.0"
      ]
     },
     "execution_count": 24,
     "metadata": {},
     "output_type": "execute_result"
    }
   ],
   "source": [
    "input.sample_submission.head()"
   ]
  },
  {
   "cell_type": "code",
   "execution_count": null,
   "id": "127d3ab4-dc5d-45d4-b3ea-5622c6dc3782",
   "metadata": {},
   "outputs": [],
   "source": []
  },
  {
   "cell_type": "code",
   "execution_count": null,
   "id": "60dbe123-d056-4756-b593-e4501a57bd3d",
   "metadata": {},
   "outputs": [],
   "source": []
  },
  {
   "cell_type": "markdown",
   "id": "03c0a207-a60b-4832-9de3-1cb58071d2c8",
   "metadata": {
    "tags": []
   },
   "source": [
    "## CITE data"
   ]
  },
  {
   "cell_type": "code",
   "execution_count": 7,
   "id": "2161d72b-3310-4a29-b956-acf94c7fc4dd",
   "metadata": {},
   "outputs": [
    {
     "name": "stdout",
     "output_type": "stream",
     "text": [
      "<class 'pandas.core.frame.DataFrame'>\n",
      "Index: 70988 entries, 45006fe3e4c8 to c91b6b2ccd3d\n",
      "Columns: 22050 entries, ENSG00000121410_A1BG to ENSG00000074755_ZZEF1\n",
      "dtypes: float32(22050)\n",
      "memory usage: 5.8+ GB\n"
     ]
    }
   ],
   "source": [
    "input.train_cite_inputs.info()"
   ]
  },
  {
   "cell_type": "code",
   "execution_count": 8,
   "id": "3d0c3e71-1cb6-4b37-9be7-504811530ddc",
   "metadata": {},
   "outputs": [
    {
     "data": {
      "text/plain": [
       "Index(['45006fe3e4c8', 'd02759a80ba2', 'c016c6b0efa5', 'ba7f733a4f75',\n",
       "       'fbcf2443ffb2', 'd80d84ca8e89', '1ac2049b4c98', '33fb0c29e2e4',\n",
       "       'b329261bd0ee', '703762287e88',\n",
       "       ...\n",
       "       'f901120ab887', 'e3780c598532', '663da056425f', '10b466d6898b',\n",
       "       '4d22a430b2b8', '650ee456f0f3', 'cc506e7707f5', 'a91f1b55a520',\n",
       "       '3a9882c98205', 'c91b6b2ccd3d'],\n",
       "      dtype='object', name='cell_id', length=70988)"
      ]
     },
     "execution_count": 8,
     "metadata": {},
     "output_type": "execute_result"
    }
   ],
   "source": [
    "input.train_cite_inputs.index"
   ]
  },
  {
   "cell_type": "code",
   "execution_count": 9,
   "id": "2e0911b0-22eb-406f-8592-e0f05b007bfe",
   "metadata": {},
   "outputs": [],
   "source": [
    "sum_by_row = (input.train_cite_inputs).sum(axis=1)"
   ]
  },
  {
   "cell_type": "code",
   "execution_count": 10,
   "id": "712997dd-a259-414d-9fc5-685496a53893",
   "metadata": {},
   "outputs": [
    {
     "data": {
      "text/plain": [
       "<AxesSubplot:ylabel='Count'>"
      ]
     },
     "execution_count": 10,
     "metadata": {},
     "output_type": "execute_result"
    },
    {
     "data": {
      "image/png": "[encoded data removed]",
      "text/plain": [
       "<Figure size 432x288 with 1 Axes>"
      ]
     },
     "metadata": {
      "needs_background": "light"
     },
     "output_type": "display_data"
    }
   ],
   "source": [
    "sns.histplot(sum_by_row)"
   ]
  },
  {
   "cell_type": "code",
   "execution_count": 11,
   "id": "9d2855c5-24ff-4faf-acdd-d10c4f81f70e",
   "metadata": {},
   "outputs": [
    {
     "data": {
      "text/plain": [
       "((array([-4.27021482, -4.06807987, -3.95801325, ...,  3.95801325,\n",
       "          4.06807987,  4.27021482]),\n",
       "  array([ 9790.84 ,  9805.122,  9951.249, ..., 31012.842, 31181.262,\n",
       "         31341.75 ], dtype=float32)),\n",
       " (3538.220631817486, 21548.107421875, 0.9958790545051819))"
      ]
     },
     "execution_count": 11,
     "metadata": {},
     "output_type": "execute_result"
    },
    {
     "data": {
      "image/png": "[encoded data removed]",
      "text/plain": [
       "<Figure size 432x288 with 1 Axes>"
      ]
     },
     "metadata": {
      "needs_background": "light"
     },
     "output_type": "display_data"
    }
   ],
   "source": [
    "stats.probplot(sum_by_row, dist=\"norm\", plot=plt)"
   ]
  },
  {
   "cell_type": "code",
   "execution_count": null,
   "id": "9e95bd58-ea40-4301-8ab8-b9a588fd71e7",
   "metadata": {},
   "outputs": [],
   "source": []
  },
  {
   "cell_type": "code",
   "execution_count": null,
   "id": "da91088c-b2c2-4a3b-b0f1-e3cf3902a8d2",
   "metadata": {},
   "outputs": [],
   "source": []
  },
  {
   "cell_type": "code",
   "execution_count": null,
   "id": "934c5485-e290-47d3-8873-fa67b3073c7a",
   "metadata": {},
   "outputs": [],
   "source": []
  },
  {
   "cell_type": "code",
   "execution_count": 8,
   "id": "597f827f-b846-42c9-8cac-f2ee9e756bb2",
   "metadata": {},
   "outputs": [
    {
     "name": "stdout",
     "output_type": "stream",
     "text": [
      "<class 'pandas.core.frame.DataFrame'>\n",
      "Index: 70988 entries, 45006fe3e4c8 to c91b6b2ccd3d\n",
      "Columns: 140 entries, CD86 to CD224\n",
      "dtypes: float32(140)\n",
      "memory usage: 38.5+ MB\n"
     ]
    }
   ],
   "source": [
    "input.train_cite_targets.info()"
   ]
  },
  {
   "cell_type": "code",
   "execution_count": 9,
   "id": "9783ca60-7fcb-4193-8279-475832bb6816",
   "metadata": {},
   "outputs": [
    {
     "data": {
      "text/plain": [
       "Index(['CD86', 'CD274', 'CD270', 'CD155', 'CD112', 'CD47', 'CD48', 'CD40',\n",
       "       'CD154', 'CD52',\n",
       "       ...\n",
       "       'CD94', 'CD162', 'CD85j', 'CD23', 'CD328', 'HLA-E', 'CD82', 'CD101',\n",
       "       'CD88', 'CD224'],\n",
       "      dtype='object', name='gene_id', length=140)"
      ]
     },
     "execution_count": 9,
     "metadata": {},
     "output_type": "execute_result"
    }
   ],
   "source": [
    "input.train_cite_targets.columns"
   ]
  },
  {
   "cell_type": "code",
   "execution_count": null,
   "id": "5ca90bac-ad44-49f7-a087-d5d2f6277607",
   "metadata": {},
   "outputs": [],
   "source": []
  },
  {
   "cell_type": "code",
   "execution_count": null,
   "id": "de519ff3-a0b9-42ed-94d6-45d02cbe6926",
   "metadata": {},
   "outputs": [],
   "source": []
  },
  {
   "cell_type": "code",
   "execution_count": 12,
   "id": "8a1e4ed5-35c1-4fa3-aeba-16b7d64a428b",
   "metadata": {},
   "outputs": [
    {
     "name": "stdout",
     "output_type": "stream",
     "text": [
      "<class 'pandas.core.frame.DataFrame'>\n",
      "Index: 48663 entries, c2150f55becb to ad5a949989b2\n",
      "Columns: 22050 entries, ENSG00000121410_A1BG to ENSG00000074755_ZZEF1\n",
      "dtypes: float32(22050)\n",
      "memory usage: 4.0+ GB\n"
     ]
    }
   ],
   "source": [
    "input.test_cite_inputs.info()"
   ]
  },
  {
   "cell_type": "code",
   "execution_count": 13,
   "id": "407a214c-0589-403d-be63-95888bb8a381",
   "metadata": {},
   "outputs": [
    {
     "data": {
      "text/plain": [
       "Index(['ENSG00000121410_A1BG', 'ENSG00000268895_A1BG-AS1',\n",
       "       'ENSG00000175899_A2M', 'ENSG00000245105_A2M-AS1',\n",
       "       'ENSG00000166535_A2ML1', 'ENSG00000128274_A4GALT',\n",
       "       'ENSG00000094914_AAAS', 'ENSG00000081760_AACS', 'ENSG00000109576_AADAT',\n",
       "       'ENSG00000103591_AAGAB',\n",
       "       ...\n",
       "       'ENSG00000153975_ZUP1', 'ENSG00000086827_ZW10',\n",
       "       'ENSG00000174442_ZWILCH', 'ENSG00000122952_ZWINT',\n",
       "       'ENSG00000198205_ZXDA', 'ENSG00000198455_ZXDB', 'ENSG00000070476_ZXDC',\n",
       "       'ENSG00000162378_ZYG11B', 'ENSG00000159840_ZYX',\n",
       "       'ENSG00000074755_ZZEF1'],\n",
       "      dtype='object', name='gene_id', length=22050)"
      ]
     },
     "execution_count": 13,
     "metadata": {},
     "output_type": "execute_result"
    }
   ],
   "source": [
    "# 遺伝子の列のフォーマットは {EnsemblID}_{GeneName} で、EnsemblID は Ensembl Gene ID、GeneName は遺伝子名である。\n",
    "\n",
    "input.test_cite_inputs.columns"
   ]
  },
  {
   "cell_type": "code",
   "execution_count": 14,
   "id": "ecb605e0-13f4-46aa-be80-23c4e53f3a3e",
   "metadata": {},
   "outputs": [
    {
     "data": {
      "text/plain": [
       "Index(['c2150f55becb', '65b7edf8a4da', 'c1b26cb1057b', '917168fa6f83',\n",
       "       '2b29feeca86d', '0fd801488185', '526647a698f8', 'ab8f207a3dec',\n",
       "       '57f730249c87', '08df3dcce25c',\n",
       "       ...\n",
       "       '87644788920d', '4b759a227f82', '294b63574ccd', 'd4876939c837',\n",
       "       '0b0479644c65', 'a9b4d99f1f50', '0e2c1d0782af', 'a3cbc5aa0ec3',\n",
       "       '75b350243add', 'ad5a949989b2'],\n",
       "      dtype='object', name='cell_id', length=48663)"
      ]
     },
     "execution_count": 14,
     "metadata": {},
     "output_type": "execute_result"
    }
   ],
   "source": [
    "input.test_cite_inputs.index"
   ]
  },
  {
   "cell_type": "code",
   "execution_count": 15,
   "id": "2c4b4f18-9a69-46b2-b2d7-3d587c2eeb9d",
   "metadata": {},
   "outputs": [],
   "source": [
    "sum_by_row = (input.test_cite_inputs).sum(axis=1)"
   ]
  },
  {
   "cell_type": "code",
   "execution_count": 16,
   "id": "b5cbd8ea-7de0-4528-85d9-570a99400209",
   "metadata": {},
   "outputs": [
    {
     "data": {
      "text/plain": [
       "<AxesSubplot:ylabel='Count'>"
      ]
     },
     "execution_count": 16,
     "metadata": {},
     "output_type": "execute_result"
    },
    {
     "data": {
      "image/png": "[encoded data removed]",
      "text/plain": [
       "<Figure size 432x288 with 1 Axes>"
      ]
     },
     "metadata": {
      "needs_background": "light"
     },
     "output_type": "display_data"
    }
   ],
   "source": [
    "sns.histplot(sum_by_row)"
   ]
  },
  {
   "cell_type": "code",
   "execution_count": 17,
   "id": "d13eeb34-9f94-4410-ab5b-6fd69ccdecaa",
   "metadata": {},
   "outputs": [
    {
     "data": {
      "text/plain": [
       "((array([-4.18523244, -3.97919665, -3.86685661, ...,  3.86685661,\n",
       "          3.97919665,  4.18523244]),\n",
       "  array([ 9036.192,  9509.457,  9551.618, ..., 32332.74 , 32410.621,\n",
       "         32624.213], dtype=float32)),\n",
       " (3612.6805830637677, 21390.49609375, 0.9966894301387995))"
      ]
     },
     "execution_count": 17,
     "metadata": {},
     "output_type": "execute_result"
    },
    {
     "data": {
      "image/png": "[encoded data removed]",
      "text/plain": [
       "<Figure size 432x288 with 1 Axes>"
      ]
     },
     "metadata": {
      "needs_background": "light"
     },
     "output_type": "display_data"
    }
   ],
   "source": [
    "stats.probplot(sum_by_row, dist=\"norm\", plot=plt)"
   ]
  },
  {
   "cell_type": "code",
   "execution_count": null,
   "id": "749b7fbb-485d-4dc8-854c-e78c27dd515b",
   "metadata": {},
   "outputs": [],
   "source": []
  },
  {
   "cell_type": "code",
   "execution_count": null,
   "id": "a1b29737-9176-4a08-991c-f372bbddc35a",
   "metadata": {},
   "outputs": [],
   "source": []
  },
  {
   "cell_type": "code",
   "execution_count": null,
   "id": "da140fbf-bc2d-42ea-b9ab-745f5b303bdc",
   "metadata": {},
   "outputs": [],
   "source": []
  },
  {
   "cell_type": "code",
   "execution_count": 65,
   "id": "8fed2819-77a5-4475-82d0-4daf28ac6a69",
   "metadata": {},
   "outputs": [],
   "source": [
    "cite_inputs = pd.concat([input.train_cite_inputs, input.test_cite_inputs])"
   ]
  },
  {
   "cell_type": "code",
   "execution_count": 66,
   "id": "55e708cb-803f-40f1-b4c6-d6f0fc30136a",
   "metadata": {},
   "outputs": [
    {
     "name": "stdout",
     "output_type": "stream",
     "text": [
      "<class 'pandas.core.frame.DataFrame'>\n",
      "Index: 119651 entries, 45006fe3e4c8 to ad5a949989b2\n",
      "Columns: 22050 entries, ENSG00000121410_A1BG to ENSG00000074755_ZZEF1\n",
      "dtypes: float32(22050)\n",
      "memory usage: 9.8+ GB\n"
     ]
    }
   ],
   "source": [
    "cite_inputs.info()"
   ]
  },
  {
   "cell_type": "code",
   "execution_count": 67,
   "id": "c86d2877-efb4-4148-b75b-1829c1ab5458",
   "metadata": {},
   "outputs": [],
   "source": [
    "cite_inputs_remove_zero = cite_inputs.loc[:, (cite_inputs != 0).any(axis=0)]"
   ]
  },
  {
   "cell_type": "code",
   "execution_count": 68,
   "id": "f0c12041-e171-424f-9a9d-73f8fa45a5bc",
   "metadata": {},
   "outputs": [
    {
     "data": {
      "text/plain": [
       "Index(['ENSG00000121410_A1BG', 'ENSG00000268895_A1BG-AS1',\n",
       "       'ENSG00000175899_A2M', 'ENSG00000245105_A2M-AS1',\n",
       "       'ENSG00000166535_A2ML1', 'ENSG00000128274_A4GALT',\n",
       "       'ENSG00000094914_AAAS', 'ENSG00000081760_AACS', 'ENSG00000109576_AADAT',\n",
       "       'ENSG00000103591_AAGAB',\n",
       "       ...\n",
       "       'ENSG00000153975_ZUP1', 'ENSG00000086827_ZW10',\n",
       "       'ENSG00000174442_ZWILCH', 'ENSG00000122952_ZWINT',\n",
       "       'ENSG00000198205_ZXDA', 'ENSG00000198455_ZXDB', 'ENSG00000070476_ZXDC',\n",
       "       'ENSG00000162378_ZYG11B', 'ENSG00000159840_ZYX',\n",
       "       'ENSG00000074755_ZZEF1'],\n",
       "      dtype='object', length=22050)"
      ]
     },
     "execution_count": 68,
     "metadata": {},
     "output_type": "execute_result"
    }
   ],
   "source": [
    "cite_inputs_remove_zero.columns"
   ]
  },
  {
   "cell_type": "code",
   "execution_count": null,
   "id": "842836d2-6487-463c-be52-e99537ce6dad",
   "metadata": {},
   "outputs": [],
   "source": []
  },
  {
   "cell_type": "markdown",
   "id": "26db1208-a0af-46df-b5cd-a8044ae310ae",
   "metadata": {},
   "source": [
    "## Multiome data"
   ]
  },
  {
   "cell_type": "code",
   "execution_count": 6,
   "id": "6402e047-40ee-44aa-b244-a60b11be0a2d",
   "metadata": {},
   "outputs": [
    {
     "name": "stdout",
     "output_type": "stream",
     "text": [
      "<class 'pandas.core.frame.DataFrame'>\n",
      "Index: 105942 entries, 56390cf1b95e to 193992d571a5\n",
      "Columns: 228942 entries, GL000194.1:114519-115365 to chrY:7873814-7874709\n",
      "dtypes: float32(228942)\n",
      "memory usage: 90.4+ GB\n"
     ]
    }
   ],
   "source": [
    "input.train_multi_inputs.info()"
   ]
  },
  {
   "cell_type": "code",
   "execution_count": 10,
   "id": "3861d5bb-4712-4e8a-9295-f6eec45a86dd",
   "metadata": {},
   "outputs": [
    {
     "data": {
      "text/plain": [
       "44"
      ]
     },
     "execution_count": 10,
     "metadata": {},
     "output_type": "execute_result"
    }
   ],
   "source": [
    "cols = [c for c in input.train_multi_inputs.columns if c.startswith(\"GL\")]\n",
    "len(cols)"
   ]
  },
  {
   "cell_type": "code",
   "execution_count": 9,
   "id": "4dce5677-e7ad-4cca-899d-b31bf70b88b5",
   "metadata": {
    "collapsed": true,
    "jupyter": {
     "outputs_hidden": true
    },
    "tags": []
   },
   "outputs": [
    {
     "data": {
      "text/plain": [
       "['GL000194.1:114519-115365',\n",
       " 'GL000194.1:55758-56597',\n",
       " 'GL000194.1:58217-58957',\n",
       " 'GL000194.1:59535-60431',\n",
       " 'GL000195.1:119766-120427',\n",
       " 'GL000195.1:120736-121603',\n",
       " 'GL000195.1:137437-138345',\n",
       " 'GL000195.1:15901-16653',\n",
       " 'GL000195.1:22357-23209',\n",
       " 'GL000195.1:23751-24619',\n",
       " 'GL000195.1:24987-25739',\n",
       " 'GL000195.1:30343-31248',\n",
       " 'GL000195.1:32231-33125',\n",
       " 'GL000195.1:66612-67353',\n",
       " 'GL000195.1:68120-69034',\n",
       " 'GL000195.1:71120-71904',\n",
       " 'GL000195.1:86114-87015',\n",
       " 'GL000205.2:135765-136571',\n",
       " 'GL000205.2:136709-137225',\n",
       " 'GL000205.2:140323-141187',\n",
       " 'GL000205.2:148843-149726',\n",
       " 'GL000205.2:174996-175865',\n",
       " 'GL000205.2:38996-39734',\n",
       " 'GL000205.2:51083-52019',\n",
       " 'GL000205.2:52534-53343',\n",
       " 'GL000205.2:56090-56917',\n",
       " 'GL000205.2:62941-63796',\n",
       " 'GL000205.2:67973-68837',\n",
       " 'GL000205.2:70373-71179',\n",
       " 'GL000205.2:75525-76341',\n",
       " 'GL000205.2:78225-79038',\n",
       " 'GL000205.2:86705-87332',\n",
       " 'GL000205.2:87650-88216',\n",
       " 'GL000205.2:88697-89483',\n",
       " 'GL000218.1:96877-97780',\n",
       " 'GL000219.1:120240-121085',\n",
       " 'GL000219.1:125032-125895',\n",
       " 'GL000219.1:132814-133697',\n",
       " 'GL000219.1:39898-40817',\n",
       " 'GL000219.1:42182-43060',\n",
       " 'GL000219.1:44732-45616',\n",
       " 'GL000219.1:50617-51542',\n",
       " 'GL000219.1:92297-93127',\n",
       " 'GL000219.1:99258-100171']"
      ]
     },
     "execution_count": 9,
     "metadata": {},
     "output_type": "execute_result"
    }
   ],
   "source": [
    "cols"
   ]
  },
  {
   "cell_type": "code",
   "execution_count": 14,
   "id": "01194e60-2967-43fd-a609-6265a920edd6",
   "metadata": {},
   "outputs": [
    {
     "data": {
      "text/plain": [
       "20"
      ]
     },
     "execution_count": 14,
     "metadata": {},
     "output_type": "execute_result"
    }
   ],
   "source": [
    "cols = [c for c in input.train_multi_inputs.columns if c.startswith(\"KI\")]\n",
    "len(cols)"
   ]
  },
  {
   "cell_type": "code",
   "execution_count": 15,
   "id": "13ca9d9a-4699-4805-941c-259f0080a6d0",
   "metadata": {
    "collapsed": true,
    "jupyter": {
     "outputs_hidden": true
    },
    "tags": []
   },
   "outputs": [
    {
     "data": {
      "text/plain": [
       "['KI270711.1:22585-23473',\n",
       " 'KI270711.1:23948-24701',\n",
       " 'KI270713.1:21430-22318',\n",
       " 'KI270713.1:25959-26811',\n",
       " 'KI270713.1:29582-30477',\n",
       " 'KI270713.1:36891-37795',\n",
       " 'KI270721.1:2091-2978',\n",
       " 'KI270721.1:8381-9254',\n",
       " 'KI270726.1:26031-26721',\n",
       " 'KI270726.1:27155-28027',\n",
       " 'KI270726.1:41469-42311',\n",
       " 'KI270727.1:52057-52930',\n",
       " 'KI270727.1:56400-57259',\n",
       " 'KI270728.1:1161557-1162461',\n",
       " 'KI270728.1:1791253-1791946',\n",
       " 'KI270728.1:1792062-1792538',\n",
       " 'KI270728.1:232273-233172',\n",
       " 'KI270731.1:4507-5404',\n",
       " 'KI270734.1:121050-121955',\n",
       " 'KI270734.1:133423-134382']"
      ]
     },
     "execution_count": 15,
     "metadata": {},
     "output_type": "execute_result"
    }
   ],
   "source": [
    "cols"
   ]
  },
  {
   "cell_type": "code",
   "execution_count": 16,
   "id": "35d29fb6-0b8d-4a2c-85f3-ef9dc15942d0",
   "metadata": {},
   "outputs": [
    {
     "data": {
      "text/plain": [
       "6161"
      ]
     },
     "execution_count": 16,
     "metadata": {},
     "output_type": "execute_result"
    }
   ],
   "source": [
    "cols = [c for c in input.train_multi_inputs.columns if c.startswith(\"chrX\")]\n",
    "len(cols)"
   ]
  },
  {
   "cell_type": "code",
   "execution_count": 17,
   "id": "71d45058-73e8-48f0-8ea8-1ccb5c465010",
   "metadata": {},
   "outputs": [
    {
     "data": {
      "text/plain": [
       "['chrX:10003507-10004397',\n",
       " 'chrX:10007358-10008258',\n",
       " 'chrX:10011303-10012198',\n",
       " 'chrX:10014641-10015531',\n",
       " 'chrX:10017666-10018546',\n",
       " 'chrX:10022610-10023509',\n",
       " 'chrX:10029317-10030145',\n",
       " 'chrX:10031868-10032712',\n",
       " 'chrX:10033386-10034273',\n",
       " 'chrX:100409824-100410711']"
      ]
     },
     "execution_count": 17,
     "metadata": {},
     "output_type": "execute_result"
    }
   ],
   "source": [
    "cols[:10]"
   ]
  },
  {
   "cell_type": "code",
   "execution_count": 18,
   "id": "fa73e4ad-0d4a-4f39-bf04-6bfe80e2410b",
   "metadata": {},
   "outputs": [
    {
     "data": {
      "text/plain": [
       "214"
      ]
     },
     "execution_count": 18,
     "metadata": {},
     "output_type": "execute_result"
    }
   ],
   "source": [
    "cols = [c for c in input.train_multi_inputs.columns if c.startswith(\"chrY\")]\n",
    "len(cols)"
   ]
  },
  {
   "cell_type": "code",
   "execution_count": 19,
   "id": "354ef1ac-e2f6-4c43-a8ed-48aed669b414",
   "metadata": {},
   "outputs": [
    {
     "data": {
      "text/plain": [
       "['chrY:11214504-11215406',\n",
       " 'chrY:11292071-11292847',\n",
       " 'chrY:11295158-11295986',\n",
       " 'chrY:11304994-11305551',\n",
       " 'chrY:11306081-11306976',\n",
       " 'chrY:11307519-11308296',\n",
       " 'chrY:11312086-11312917',\n",
       " 'chrY:11314230-11315004',\n",
       " 'chrY:11316022-11316820',\n",
       " 'chrY:11320521-11321372']"
      ]
     },
     "execution_count": 19,
     "metadata": {},
     "output_type": "execute_result"
    }
   ],
   "source": [
    "cols[:10]"
   ]
  },
  {
   "cell_type": "code",
   "execution_count": 36,
   "id": "a91069bb-7370-43bd-b452-0e38237c717c",
   "metadata": {},
   "outputs": [
    {
     "data": {
      "text/plain": [
       "228878"
      ]
     },
     "execution_count": 36,
     "metadata": {},
     "output_type": "execute_result"
    }
   ],
   "source": [
    "cols = [c for c in input.train_multi_inputs.columns if re.match(r\"chr[\\d\\w]+:\", c)]\n",
    "len(cols)"
   ]
  },
  {
   "cell_type": "code",
   "execution_count": 37,
   "id": "e1f63e7e-eef8-43b0-a9d3-7e5073f58b3a",
   "metadata": {},
   "outputs": [],
   "source": [
    "uniq_cols = set(c.split(\":\")[0] for c in cols)"
   ]
  },
  {
   "cell_type": "code",
   "execution_count": 38,
   "id": "faef50d6-63ba-4fe5-b836-6cde44042fd1",
   "metadata": {},
   "outputs": [
    {
     "name": "stderr",
     "output_type": "stream",
     "text": [
      "2022-08-31 10:53:18,205 [INFO] [3799187195] chr22: 4506\n",
      "2022-08-31 10:53:18,235 [INFO] [3799187195] chr13: 6168\n",
      "2022-08-31 10:53:18,264 [INFO] [3799187195] chr16: 6996\n",
      "2022-08-31 10:53:18,294 [INFO] [3799187195] chrY: 214\n",
      "2022-08-31 10:53:18,323 [INFO] [3799187195] chr6: 13826\n",
      "2022-08-31 10:53:18,351 [INFO] [3799187195] chr2: 32551\n",
      "2022-08-31 10:53:18,379 [INFO] [3799187195] chr18: 4969\n",
      "2022-08-31 10:53:18,408 [INFO] [3799187195] chr20: 6223\n",
      "2022-08-31 10:53:18,437 [INFO] [3799187195] chr17: 9674\n",
      "2022-08-31 10:53:18,465 [INFO] [3799187195] chr19: 7391\n",
      "2022-08-31 10:53:18,493 [INFO] [3799187195] chr11: 10889\n",
      "2022-08-31 10:53:18,522 [INFO] [3799187195] chr12: 11354\n",
      "2022-08-31 10:53:18,550 [INFO] [3799187195] chr21: 2751\n",
      "2022-08-31 10:53:18,578 [INFO] [3799187195] chr14: 7299\n",
      "2022-08-31 10:53:18,606 [INFO] [3799187195] chr8: 10361\n",
      "2022-08-31 10:53:18,634 [INFO] [3799187195] chr7: 11976\n",
      "2022-08-31 10:53:18,663 [INFO] [3799187195] chr3: 16018\n",
      "2022-08-31 10:53:18,691 [INFO] [3799187195] chrX: 6161\n",
      "2022-08-31 10:53:18,721 [INFO] [3799187195] chr1: 104996\n",
      "2022-08-31 10:53:18,751 [INFO] [3799187195] chr5: 12306\n",
      "2022-08-31 10:53:18,779 [INFO] [3799187195] chr15: 7541\n",
      "2022-08-31 10:53:18,807 [INFO] [3799187195] chr9: 9349\n",
      "2022-08-31 10:53:18,836 [INFO] [3799187195] chr10: 11009\n",
      "2022-08-31 10:53:18,865 [INFO] [3799187195] chr4: 11120\n"
     ]
    }
   ],
   "source": [
    "for u_col in uniq_cols:\n",
    "    cols = [c for c in input.train_multi_inputs.columns if c.startswith(u_col)]\n",
    "    log.info(f\"{u_col}: {len(cols)}\")"
   ]
  },
  {
   "cell_type": "code",
   "execution_count": null,
   "id": "c5bff141-e3df-43e9-8aec-7b3c8c557c0a",
   "metadata": {},
   "outputs": [],
   "source": []
  },
  {
   "cell_type": "code",
   "execution_count": null,
   "id": "5792d3b7-cd1c-4109-89db-87e4e2d33d56",
   "metadata": {},
   "outputs": [],
   "source": []
  },
  {
   "cell_type": "code",
   "execution_count": 11,
   "id": "b9861009-9b35-4e95-af53-1c8e5e8e3c05",
   "metadata": {},
   "outputs": [
    {
     "name": "stdout",
     "output_type": "stream",
     "text": [
      "<class 'pandas.core.frame.DataFrame'>\n",
      "Index: 105942 entries, 56390cf1b95e to 193992d571a5\n",
      "Columns: 23418 entries, ENSG00000121410 to ENSG00000074755\n",
      "dtypes: float32(23418)\n",
      "memory usage: 9.2+ GB\n"
     ]
    }
   ],
   "source": [
    "input.train_multi_targets.info()"
   ]
  },
  {
   "cell_type": "code",
   "execution_count": 33,
   "id": "851cbc02-d029-4d6e-ae9a-17d2f0aebd00",
   "metadata": {},
   "outputs": [
    {
     "data": {
      "text/plain": [
       "Index(['ENSG00000121410', 'ENSG00000268895', 'ENSG00000175899',\n",
       "       'ENSG00000245105', 'ENSG00000166535', 'ENSG00000256661',\n",
       "       'ENSG00000184389', 'ENSG00000128274', 'ENSG00000094914',\n",
       "       'ENSG00000081760',\n",
       "       ...\n",
       "       'ENSG00000086827', 'ENSG00000174442', 'ENSG00000122952',\n",
       "       'ENSG00000198205', 'ENSG00000198455', 'ENSG00000070476',\n",
       "       'ENSG00000203995', 'ENSG00000162378', 'ENSG00000159840',\n",
       "       'ENSG00000074755'],\n",
       "      dtype='object', length=23418)"
      ]
     },
     "execution_count": 33,
     "metadata": {},
     "output_type": "execute_result"
    }
   ],
   "source": [
    "input.train_multi_targets.columns"
   ]
  },
  {
   "cell_type": "code",
   "execution_count": 12,
   "id": "4d201b0c-b884-403d-ae56-b8968fef2b18",
   "metadata": {},
   "outputs": [
    {
     "data": {
      "text/plain": [
       "0"
      ]
     },
     "execution_count": 12,
     "metadata": {},
     "output_type": "execute_result"
    }
   ],
   "source": [
    "# 負の数は存在しない\n",
    "\n",
    "(input.train_multi_targets < 0).sum().sum()"
   ]
  },
  {
   "cell_type": "code",
   "execution_count": 49,
   "id": "ba744da0-baca-4710-810c-ad60de47a624",
   "metadata": {},
   "outputs": [],
   "source": [
    "sum_by_row = (input.train_multi_targets).sum(axis=1)"
   ]
  },
  {
   "cell_type": "code",
   "execution_count": 50,
   "id": "8074a115-e5d2-4eaa-ac49-1d6c89bc1997",
   "metadata": {},
   "outputs": [
    {
     "data": {
      "text/plain": [
       "<AxesSubplot:ylabel='Count'>"
      ]
     },
     "execution_count": 50,
     "metadata": {},
     "output_type": "execute_result"
    },
    {
     "data": {
      "image/png": "[encoded data removed]",
      "text/plain": [
       "<Figure size 432x288 with 1 Axes>"
      ]
     },
     "metadata": {
      "needs_background": "light"
     },
     "output_type": "display_data"
    }
   ],
   "source": [
    "# target の各行の和は正規分布に従っているようにみえる\n",
    "\n",
    "sns.histplot(sum_by_row)"
   ]
  },
  {
   "cell_type": "code",
   "execution_count": 51,
   "id": "fbe8395e-4d89-4d74-9a0d-449272f6450f",
   "metadata": {},
   "outputs": [
    {
     "data": {
      "text/plain": [
       "((array([-4.35867267, -4.16044685, -4.05264996, ...,  4.05264996,\n",
       "          4.16044685,  4.35867267]),\n",
       "  array([ 7543.3433,  7554.107 ,  7614.933 , ..., 34111.793 , 34355.53  ,\n",
       "         34574.754 ], dtype=float32)),\n",
       " (3939.936584053367, 19578.128906250004, 0.9993414690663519))"
      ]
     },
     "execution_count": 51,
     "metadata": {},
     "output_type": "execute_result"
    },
    {
     "data": {
      "image/png": "[encoded data removed]",
      "text/plain": [
       "<Figure size 432x288 with 1 Axes>"
      ]
     },
     "metadata": {
      "needs_background": "light"
     },
     "output_type": "display_data"
    }
   ],
   "source": [
    "stats.probplot(sum_by_row, dist=\"norm\", plot=plt)"
   ]
  },
  {
   "cell_type": "code",
   "execution_count": null,
   "id": "30b9a9a5-f39a-4d42-b53e-13f81795b369",
   "metadata": {},
   "outputs": [],
   "source": []
  },
  {
   "cell_type": "code",
   "execution_count": null,
   "id": "060725ce-e49f-4a1a-baf9-a259e9d28df1",
   "metadata": {},
   "outputs": [],
   "source": []
  },
  {
   "cell_type": "code",
   "execution_count": 31,
   "id": "d76f54e1-3228-4991-939f-a6915af683da",
   "metadata": {},
   "outputs": [
    {
     "name": "stdout",
     "output_type": "stream",
     "text": [
      "<class 'pandas.core.frame.DataFrame'>\n",
      "Index: 55935 entries, 458c2ae2c9b1 to b847ba21f59f\n",
      "Columns: 228942 entries, GL000194.1:114519-115365 to chrY:7873814-7874709\n",
      "dtypes: float32(228942)\n",
      "memory usage: 47.7+ GB\n"
     ]
    }
   ],
   "source": [
    "input.test_multi_inputs.info()"
   ]
  },
  {
   "cell_type": "code",
   "execution_count": 32,
   "id": "0fe68d22-f124-4a9c-9abc-184443ab1a8d",
   "metadata": {},
   "outputs": [
    {
     "data": {
      "text/plain": [
       "Index(['GL000194.1:114519-115365', 'GL000194.1:55758-56597',\n",
       "       'GL000194.1:58217-58957', 'GL000194.1:59535-60431',\n",
       "       'GL000195.1:119766-120427', 'GL000195.1:120736-121603',\n",
       "       'GL000195.1:137437-138345', 'GL000195.1:15901-16653',\n",
       "       'GL000195.1:22357-23209', 'GL000195.1:23751-24619',\n",
       "       ...\n",
       "       'chrY:7722278-7723128', 'chrY:7723971-7724880', 'chrY:7729854-7730772',\n",
       "       'chrY:7731785-7732664', 'chrY:7810142-7811040', 'chrY:7814107-7815018',\n",
       "       'chrY:7818751-7819626', 'chrY:7836768-7837671', 'chrY:7869454-7870371',\n",
       "       'chrY:7873814-7874709'],\n",
       "      dtype='object', length=228942)"
      ]
     },
     "execution_count": 32,
     "metadata": {},
     "output_type": "execute_result"
    }
   ],
   "source": [
    "input.test_multi_inputs.columns"
   ]
  },
  {
   "cell_type": "code",
   "execution_count": 48,
   "id": "63163b7c-1568-4b3b-8ab4-938823174d18",
   "metadata": {},
   "outputs": [
    {
     "data": {
      "text/plain": [
       "Index(['458c2ae2c9b1', '01a0659b0710', '028a8bc3f2ba', '7ec0ca8bb863',\n",
       "       'caa0b0022cdc', 'e0bc46450106', '632ae0df4dcd', '852044b3a2c9',\n",
       "       'fc09f456158f', '6e3df813cfcf',\n",
       "       ...\n",
       "       '9be27f116147', 'f4a9f986da93', '6f5eced93605', 'e04bd990dfaa',\n",
       "       'd8b95b8379a0', '96a60b026659', 'd493e546991e', '05666c99aa48',\n",
       "       '121f946642b5', 'b847ba21f59f'],\n",
       "      dtype='object', name='cell_id', length=55935)"
      ]
     },
     "execution_count": 48,
     "metadata": {},
     "output_type": "execute_result"
    }
   ],
   "source": [
    "input.test_multi_inputs.index"
   ]
  },
  {
   "cell_type": "code",
   "execution_count": 30,
   "id": "f3d2a34a-26f2-40a0-840e-f51638db3cc0",
   "metadata": {},
   "outputs": [
    {
     "data": {
      "text/plain": [
       "222503"
      ]
     },
     "execution_count": 30,
     "metadata": {},
     "output_type": "execute_result"
    }
   ],
   "source": [
    "cols = [c for c in input.test_multi_inputs.columns if re.match(r\"chr\\d+:\", c)]\n",
    "len(cols)"
   ]
  },
  {
   "cell_type": "code",
   "execution_count": 31,
   "id": "75cac053-5805-4afc-9779-b46b672d8934",
   "metadata": {},
   "outputs": [
    {
     "data": {
      "text/plain": [
       "{'chr1',\n",
       " 'chr10',\n",
       " 'chr11',\n",
       " 'chr12',\n",
       " 'chr13',\n",
       " 'chr14',\n",
       " 'chr15',\n",
       " 'chr16',\n",
       " 'chr17',\n",
       " 'chr18',\n",
       " 'chr19',\n",
       " 'chr2',\n",
       " 'chr20',\n",
       " 'chr21',\n",
       " 'chr22',\n",
       " 'chr3',\n",
       " 'chr4',\n",
       " 'chr5',\n",
       " 'chr6',\n",
       " 'chr7',\n",
       " 'chr8',\n",
       " 'chr9'}"
      ]
     },
     "execution_count": 31,
     "metadata": {},
     "output_type": "execute_result"
    }
   ],
   "source": [
    "set(c.split(\":\")[0] for c in cols)"
   ]
  },
  {
   "cell_type": "code",
   "execution_count": null,
   "id": "9c0305c3-6315-4f6f-8344-353695b2e7d8",
   "metadata": {},
   "outputs": [],
   "source": []
  },
  {
   "cell_type": "code",
   "execution_count": null,
   "id": "8c85480f-62aa-4e59-98e7-ca9791904684",
   "metadata": {},
   "outputs": [],
   "source": []
  },
  {
   "cell_type": "code",
   "execution_count": null,
   "id": "2f5eabc0-ccd1-44c2-b508-2db9f4f20562",
   "metadata": {},
   "outputs": [],
   "source": []
  },
  {
   "cell_type": "code",
   "execution_count": null,
   "id": "87d26f8c-9e60-493b-9a61-58314929bac9",
   "metadata": {},
   "outputs": [],
   "source": [
    "# multi_inputs = pd.concat([input.train_multi_inputs, input.test_multi_inputs])"
   ]
  },
  {
   "cell_type": "code",
   "execution_count": null,
   "id": "47b48d4e-5822-4a64-88c9-88985773c4bb",
   "metadata": {},
   "outputs": [],
   "source": [
    "# multi_inputs.info()"
   ]
  },
  {
   "cell_type": "code",
   "execution_count": null,
   "id": "49aa9b0a-0a63-4045-b660-5553ac6f875c",
   "metadata": {},
   "outputs": [],
   "source": [
    "# multi_inputs_remove_zero = multi_inputs.loc[:, (multi_inputs != 0).any(axis=0)]"
   ]
  },
  {
   "cell_type": "code",
   "execution_count": null,
   "id": "3bdf8f27-2f56-4509-a002-938fb5d730f2",
   "metadata": {},
   "outputs": [],
   "source": [
    "# multi_inputs_remove_zero.columns"
   ]
  },
  {
   "cell_type": "code",
   "execution_count": null,
   "id": "8e089365-c0a7-4357-95ee-849ffdb8b30b",
   "metadata": {},
   "outputs": [],
   "source": []
  },
  {
   "cell_type": "markdown",
   "id": "30350bdf-fbbb-4f79-a173-7ce6b7851b9d",
   "metadata": {},
   "source": [
    "## EDA"
   ]
  },
  {
   "cell_type": "code",
   "execution_count": 46,
   "id": "044d416b-61e5-4f9a-9b72-d03fb61f84a3",
   "metadata": {},
   "outputs": [
    {
     "data": {
      "text/plain": [
       "(140, 23418, 23558)"
      ]
     },
     "execution_count": 46,
     "metadata": {},
     "output_type": "execute_result"
    }
   ],
   "source": [
    "# Train と Test の target の差分がないかチェック\n",
    "\n",
    "len(input.train_cite_targets.columns), len(input.train_multi_targets.columns), len(gene_ids)"
   ]
  },
  {
   "cell_type": "code",
   "execution_count": 52,
   "id": "34d9264d-e486-47eb-889f-91b7fd2c1208",
   "metadata": {},
   "outputs": [
    {
     "data": {
      "text/plain": [
       "(48663, 55935, 65443)"
      ]
     },
     "execution_count": 52,
     "metadata": {},
     "output_type": "execute_result"
    }
   ],
   "source": [
    "# Test の cell_id の数をチェック\n",
    "# → テストデータのすべてのIDが evaluation_ids にあるわけではないようだ。\n",
    "\n",
    "len(input.test_cite_inputs.index), len(input.test_multi_inputs.index), len(cell_ids)"
   ]
  },
  {
   "cell_type": "code",
   "execution_count": 54,
   "id": "d5ee930c-2961-4cd0-8cfb-9e39864141e3",
   "metadata": {},
   "outputs": [
    {
     "data": {
      "text/plain": [
       "104598"
      ]
     },
     "execution_count": 54,
     "metadata": {},
     "output_type": "execute_result"
    }
   ],
   "source": [
    "len(input.test_cite_inputs.index) + len(input.test_multi_inputs.index)"
   ]
  },
  {
   "cell_type": "code",
   "execution_count": 53,
   "id": "ac16b325-5938-4579-a931-fced78248955",
   "metadata": {},
   "outputs": [
    {
     "data": {
      "text/plain": [
       "104598"
      ]
     },
     "execution_count": 53,
     "metadata": {},
     "output_type": "execute_result"
    }
   ],
   "source": [
    "len(set(list(input.test_cite_inputs.index) + list(input.test_multi_inputs.index)))"
   ]
  },
  {
   "cell_type": "code",
   "execution_count": null,
   "id": "0a48b03f-53ce-4901-b8ad-a5530061cfcc",
   "metadata": {},
   "outputs": [],
   "source": []
  },
  {
   "cell_type": "code",
   "execution_count": 58,
   "id": "e67e4603-0be2-4cc3-9361-d550ec8c2123",
   "metadata": {},
   "outputs": [],
   "source": [
    "# input.test_cite_inputs.columns と input.train_multi_targets.columns を比較してみる。"
   ]
  },
  {
   "cell_type": "code",
   "execution_count": null,
   "id": "0eebeb8b-521b-4d02-872a-c9d587f60abd",
   "metadata": {},
   "outputs": [],
   "source": []
  },
  {
   "cell_type": "code",
   "execution_count": null,
   "id": "eacdd24d-1752-489b-b9bf-6ee4be36befc",
   "metadata": {},
   "outputs": [],
   "source": []
  },
  {
   "cell_type": "markdown",
   "id": "2f9830c1-c469-4597-9b5a-69879ac4da83",
   "metadata": {},
   "source": [
    "## Preprocess\n",
    "\n"
   ]
  },
  {
   "cell_type": "code",
   "execution_count": null,
   "id": "d1451b72-027e-4acc-b63d-31151d22cc5b",
   "metadata": {},
   "outputs": [],
   "source": []
  },
  {
   "cell_type": "code",
   "execution_count": null,
   "id": "b10f00a9-9ad5-4be9-b667-5d3570d92a40",
   "metadata": {},
   "outputs": [],
   "source": []
  },
  {
   "cell_type": "markdown",
   "id": "d17104da-1652-4f65-a9eb-d32d51c896ad",
   "metadata": {},
   "source": [
    "## Dataset"
   ]
  },
  {
   "cell_type": "code",
   "execution_count": null,
   "id": "6d349784-6dee-4d3a-aaa0-ec39416fbb8e",
   "metadata": {},
   "outputs": [],
   "source": [
    "# ds = BaseDataset(c, input.metadata)\n",
    "ds = BaseDataset(c, pd.concat([input.metadata, input.evaluation_ids]))\n",
    "\n",
    "for i in range(1):\n",
    "    image, label = ds[i]\n",
    "    plt.imshow(image)\n",
    "    plt.title(f\"label: {label}\")\n",
    "    plt.show()"
   ]
  },
  {
   "cell_type": "code",
   "execution_count": null,
   "id": "2baaea9d-3957-4ed4-a052-40de8184b00a",
   "metadata": {},
   "outputs": [],
   "source": [
    "# ds = BaseDataset(c, input.metadata, transform=get_transforms(c, \"light\"))\n",
    "ds = BaseDataset(c, pd.concat([input.metadata, input.evaluation_ids]), transform=get_transforms(c, \"light\"))\n",
    "\n",
    "for i in range(1):\n",
    "    image, label = ds[i]\n",
    "    plt.imshow(image[0])\n",
    "    plt.title(f\"label: {label}\")\n",
    "    plt.show()"
   ]
  },
  {
   "cell_type": "code",
   "execution_count": null,
   "id": "29d3c96f-4f5c-4e22-987b-9d28e536471b",
   "metadata": {},
   "outputs": [],
   "source": []
  },
  {
   "cell_type": "markdown",
   "id": "3903b3c0-a7fd-4c00-8e4e-2b06736c96bc",
   "metadata": {},
   "source": [
    "## Model"
   ]
  },
  {
   "cell_type": "code",
   "execution_count": null,
   "id": "ed4a9451-acb4-4926-bfd2-1c25cccaf5c8",
   "metadata": {
    "tags": []
   },
   "outputs": [],
   "source": [
    "model = ImageBaseModel(c)\n",
    "model"
   ]
  },
  {
   "cell_type": "code",
   "execution_count": null,
   "id": "230f0b2c-0aff-42f4-b422-ef0939fe6c7b",
   "metadata": {},
   "outputs": [],
   "source": [
    "# ds = BaseDataset(c, input.metadata, transform=get_transforms(c, \"light\"))\n",
    "ds = BaseDataset(c, pd.concat([input.metadata, input.evaluation_ids]), transform=get_transforms(c, \"light\"))\n",
    "loader = DataLoader(ds, batch_size=4, shuffle=True, num_workers=4, pin_memory=True, drop_last=True)\n",
    "\n",
    "for image, label in loader:\n",
    "    output = model(image)\n",
    "    print(output)\n",
    "    break"
   ]
  },
  {
   "cell_type": "code",
   "execution_count": null,
   "id": "d55f6866-bd98-46b9-8659-0ef5df8fcd42",
   "metadata": {},
   "outputs": [],
   "source": []
  },
  {
   "cell_type": "code",
   "execution_count": null,
   "id": "ca689936-4364-4410-b3a4-421bbd0b4488",
   "metadata": {},
   "outputs": [],
   "source": []
  },
  {
   "cell_type": "markdown",
   "id": "f60be7ff-a374-4297-a39c-41d1a363faf4",
   "metadata": {},
   "source": [
    "## Check submission"
   ]
  },
  {
   "cell_type": "code",
   "execution_count": 4,
   "id": "a7aabdcd-8a96-4e7c-8414-1dc820a1078f",
   "metadata": {},
   "outputs": [],
   "source": [
    "sub = pd.read_csv(\"../output/2022-09-01_05-29-58/submission.csv\")"
   ]
  },
  {
   "cell_type": "code",
   "execution_count": 5,
   "id": "ef111be4-dfd8-4c41-98dd-37314f4fa97b",
   "metadata": {},
   "outputs": [
    {
     "name": "stdout",
     "output_type": "stream",
     "text": [
      "<class 'pandas.core.frame.DataFrame'>\n",
      "RangeIndex: 65744180 entries, 0 to 65744179\n",
      "Data columns (total 2 columns):\n",
      " #   Column  Dtype  \n",
      "---  ------  -----  \n",
      " 0   row_id  int64  \n",
      " 1   target  float64\n",
      "dtypes: float64(1), int64(1)\n",
      "memory usage: 1003.2 MB\n"
     ]
    }
   ],
   "source": [
    "sub.info()"
   ]
  },
  {
   "cell_type": "code",
   "execution_count": 6,
   "id": "105d54ed-f77c-4296-a315-d1d74f4d60aa",
   "metadata": {},
   "outputs": [
    {
     "data": {
      "text/html": [
       "<div>\n",
       "<style scoped>\n",
       "    .dataframe tbody tr th:only-of-type {\n",
       "        vertical-align: middle;\n",
       "    }\n",
       "\n",
       "    .dataframe tbody tr th {\n",
       "        vertical-align: top;\n",
       "    }\n",
       "\n",
       "    .dataframe thead th {\n",
       "        text-align: right;\n",
       "    }\n",
       "</style>\n",
       "<table border=\"1\" class=\"dataframe\">\n",
       "  <thead>\n",
       "    <tr style=\"text-align: right;\">\n",
       "      <th></th>\n",
       "      <th>row_id</th>\n",
       "      <th>target</th>\n",
       "    </tr>\n",
       "  </thead>\n",
       "  <tbody>\n",
       "    <tr>\n",
       "      <th>0</th>\n",
       "      <td>0</td>\n",
       "      <td>0.319850</td>\n",
       "    </tr>\n",
       "    <tr>\n",
       "      <th>1</th>\n",
       "      <td>1</td>\n",
       "      <td>0.217554</td>\n",
       "    </tr>\n",
       "    <tr>\n",
       "      <th>2</th>\n",
       "      <td>2</td>\n",
       "      <td>0.556291</td>\n",
       "    </tr>\n",
       "    <tr>\n",
       "      <th>3</th>\n",
       "      <td>3</td>\n",
       "      <td>4.161607</td>\n",
       "    </tr>\n",
       "    <tr>\n",
       "      <th>4</th>\n",
       "      <td>4</td>\n",
       "      <td>4.863530</td>\n",
       "    </tr>\n",
       "  </tbody>\n",
       "</table>\n",
       "</div>"
      ],
      "text/plain": [
       "   row_id    target\n",
       "0       0  0.319850\n",
       "1       1  0.217554\n",
       "2       2  0.556291\n",
       "3       3  4.161607\n",
       "4       4  4.863530"
      ]
     },
     "execution_count": 6,
     "metadata": {},
     "output_type": "execute_result"
    }
   ],
   "source": [
    "sub.head()"
   ]
  },
  {
   "cell_type": "code",
   "execution_count": 7,
   "id": "f82318cb-f959-4b30-bf23-232ecc08e454",
   "metadata": {},
   "outputs": [
    {
     "data": {
      "text/plain": [
       "0"
      ]
     },
     "execution_count": 7,
     "metadata": {},
     "output_type": "execute_result"
    }
   ],
   "source": [
    "len(sub[sub[\"target\"] == 0])"
   ]
  },
  {
   "cell_type": "code",
   "execution_count": 8,
   "id": "60f45dbc-7320-4b2a-b06a-b886ad66bc1b",
   "metadata": {},
   "outputs": [
    {
     "data": {
      "text/plain": [
       "<AxesSubplot:xlabel='target', ylabel='Count'>"
      ]
     },
     "execution_count": 8,
     "metadata": {},
     "output_type": "execute_result"
    },
    {
     "data": {
      "image/png": "[encoded data removed]",
      "text/plain": [
       "<Figure size 432x288 with 1 Axes>"
      ]
     },
     "metadata": {
      "needs_background": "light"
     },
     "output_type": "display_data"
    }
   ],
   "source": [
    "sns.histplot(sub[\"target\"])"
   ]
  },
  {
   "cell_type": "code",
   "execution_count": null,
   "id": "75854b1b-ba66-4a7b-ac84-4d828b6367e4",
   "metadata": {},
   "outputs": [],
   "source": []
  },
  {
   "cell_type": "code",
   "execution_count": 17,
   "id": "7c18a3aa-b4ce-44d7-8e53-bd1938dba28e",
   "metadata": {},
   "outputs": [
    {
     "name": "stderr",
     "output_type": "stream",
     "text": [
      "2022-09-01 19:42:23,216 [INFO] [load_data] Load pickle file. path: ../postprocess/evaluation_ids.pickle\n",
      "2022-09-01 19:42:27,990 [INFO] [load_data] Load pickle file. path: ../postprocess/sample_submission.pickle\n",
      "2022-09-01 19:42:28,522 [INFO] [load_data] Load pickle file. path: ../postprocess/cite_inference.pickle\n",
      "2022-09-01 19:42:28,542 [INFO] [load_data] Load pickle file. path: ../postprocess/multi_inference.pickle\n"
     ]
    }
   ],
   "source": [
    "post_p = PostprocessData(c)"
   ]
  },
  {
   "cell_type": "code",
   "execution_count": 23,
   "id": "a18e77e6-7ec9-4841-bc41-8231257b6dbb",
   "metadata": {},
   "outputs": [
    {
     "data": {
      "text/plain": [
       "0"
      ]
     },
     "execution_count": 23,
     "metadata": {},
     "output_type": "execute_result"
    }
   ],
   "source": [
    "(post_p.multi_inference < 0).sum().sum()"
   ]
  },
  {
   "cell_type": "code",
   "execution_count": 40,
   "id": "9beabd59-2a24-4cf5-bd1c-256c3337b569",
   "metadata": {},
   "outputs": [
    {
     "name": "stdout",
     "output_type": "stream",
     "text": [
      "<class 'pandas.core.frame.DataFrame'>\n",
      "Index: 55935 entries, 00025dfaa2ce to ffff26d64699\n",
      "Columns: 23418 entries, ENSG00000121410 to ENSG00000074755\n",
      "dtypes: float32(23418)\n",
      "memory usage: 4.9+ GB\n"
     ]
    }
   ],
   "source": [
    "post_p.multi_inference.info()"
   ]
  },
  {
   "cell_type": "code",
   "execution_count": null,
   "id": "5e26e227-89dc-467b-9520-8ff0efdca7eb",
   "metadata": {},
   "outputs": [],
   "source": []
  },
  {
   "cell_type": "code",
   "execution_count": null,
   "id": "24fb1ffa-9a13-4bb3-9f30-e2848a037c74",
   "metadata": {},
   "outputs": [],
   "source": []
  },
  {
   "cell_type": "markdown",
   "id": "75f1668d-3eaa-41a0-a481-c81e41e6dea5",
   "metadata": {},
   "source": [
    "## Emsemble"
   ]
  },
  {
   "cell_type": "code",
   "execution_count": 5,
   "id": "d1b783d7-f365-4f84-b8b1-4ac0b57db6ee",
   "metadata": {},
   "outputs": [],
   "source": [
    "our = pd.read_csv(\"../output/2022-09-01_11-01-56/submission.csv\")"
   ]
  },
  {
   "cell_type": "code",
   "execution_count": 6,
   "id": "d4ea3865-f556-4604-9c7f-e9a26203ae49",
   "metadata": {},
   "outputs": [],
   "source": [
    "# kaggle kernels output fabiencrom/msci-multiome-quickstart-w-sparse-matrices -p msci-multiome-quickstart-w-sparse-matrices\n",
    "\n",
    "their = pd.read_csv(\"../output/msci-multiome-quickstart-w-sparse-matrices/submission.csv\")"
   ]
  },
  {
   "cell_type": "code",
   "execution_count": 7,
   "id": "cafe422e-e9d9-48f8-9b83-050005415d6c",
   "metadata": {},
   "outputs": [
    {
     "name": "stdout",
     "output_type": "stream",
     "text": [
      "<class 'pandas.core.frame.DataFrame'>\n",
      "RangeIndex: 65744180 entries, 0 to 65744179\n",
      "Data columns (total 2 columns):\n",
      " #   Column  Dtype  \n",
      "---  ------  -----  \n",
      " 0   row_id  int64  \n",
      " 1   target  float64\n",
      "dtypes: float64(1), int64(1)\n",
      "memory usage: 1003.2 MB\n"
     ]
    }
   ],
   "source": [
    "our.info()"
   ]
  },
  {
   "cell_type": "code",
   "execution_count": 8,
   "id": "71d1674f-bbff-4a17-bb6f-fe207f81a771",
   "metadata": {},
   "outputs": [
    {
     "name": "stdout",
     "output_type": "stream",
     "text": [
      "<class 'pandas.core.frame.DataFrame'>\n",
      "RangeIndex: 65744180 entries, 0 to 65744179\n",
      "Data columns (total 2 columns):\n",
      " #   Column  Dtype  \n",
      "---  ------  -----  \n",
      " 0   row_id  int64  \n",
      " 1   target  float64\n",
      "dtypes: float64(1), int64(1)\n",
      "memory usage: 1003.2 MB\n"
     ]
    }
   ],
   "source": [
    "their.info()"
   ]
  },
  {
   "cell_type": "code",
   "execution_count": 20,
   "id": "601feb25-e180-4748-b773-1c5c00f2150b",
   "metadata": {},
   "outputs": [],
   "source": [
    "ensemble = (our + their) / 2"
   ]
  },
  {
   "cell_type": "code",
   "execution_count": 21,
   "id": "d8b58b23-6ca4-4421-ab41-441797bc6123",
   "metadata": {},
   "outputs": [],
   "source": [
    "ensemble = ensemble.astype({\"row_id\": \"int64\"})"
   ]
  },
  {
   "cell_type": "code",
   "execution_count": 22,
   "id": "0ab12ea6-eb11-48f3-b01b-68691270e0df",
   "metadata": {},
   "outputs": [
    {
     "name": "stdout",
     "output_type": "stream",
     "text": [
      "<class 'pandas.core.frame.DataFrame'>\n",
      "RangeIndex: 65744180 entries, 0 to 65744179\n",
      "Data columns (total 2 columns):\n",
      " #   Column  Dtype  \n",
      "---  ------  -----  \n",
      " 0   row_id  int64  \n",
      " 1   target  float64\n",
      "dtypes: float64(1), int64(1)\n",
      "memory usage: 1003.2 MB\n"
     ]
    }
   ],
   "source": [
    "ensemble.info()"
   ]
  },
  {
   "cell_type": "code",
   "execution_count": 11,
   "id": "0d014981-dbe9-4e78-8cbe-014689794325",
   "metadata": {},
   "outputs": [
    {
     "data": {
      "text/html": [
       "<div>\n",
       "<style scoped>\n",
       "    .dataframe tbody tr th:only-of-type {\n",
       "        vertical-align: middle;\n",
       "    }\n",
       "\n",
       "    .dataframe tbody tr th {\n",
       "        vertical-align: top;\n",
       "    }\n",
       "\n",
       "    .dataframe thead th {\n",
       "        text-align: right;\n",
       "    }\n",
       "</style>\n",
       "<table border=\"1\" class=\"dataframe\">\n",
       "  <thead>\n",
       "    <tr style=\"text-align: right;\">\n",
       "      <th></th>\n",
       "      <th>row_id</th>\n",
       "      <th>target</th>\n",
       "    </tr>\n",
       "  </thead>\n",
       "  <tbody>\n",
       "    <tr>\n",
       "      <th>0</th>\n",
       "      <td>0</td>\n",
       "      <td>0.319850</td>\n",
       "    </tr>\n",
       "    <tr>\n",
       "      <th>1</th>\n",
       "      <td>1</td>\n",
       "      <td>0.217554</td>\n",
       "    </tr>\n",
       "    <tr>\n",
       "      <th>2</th>\n",
       "      <td>2</td>\n",
       "      <td>0.556291</td>\n",
       "    </tr>\n",
       "    <tr>\n",
       "      <th>3</th>\n",
       "      <td>3</td>\n",
       "      <td>4.161607</td>\n",
       "    </tr>\n",
       "    <tr>\n",
       "      <th>4</th>\n",
       "      <td>4</td>\n",
       "      <td>4.863530</td>\n",
       "    </tr>\n",
       "  </tbody>\n",
       "</table>\n",
       "</div>"
      ],
      "text/plain": [
       "   row_id    target\n",
       "0       0  0.319850\n",
       "1       1  0.217554\n",
       "2       2  0.556291\n",
       "3       3  4.161607\n",
       "4       4  4.863530"
      ]
     },
     "execution_count": 11,
     "metadata": {},
     "output_type": "execute_result"
    }
   ],
   "source": [
    "our.head()"
   ]
  },
  {
   "cell_type": "code",
   "execution_count": 12,
   "id": "b9cb4ec0-f122-48c1-b5d3-6b3211b23497",
   "metadata": {},
   "outputs": [
    {
     "data": {
      "text/html": [
       "<div>\n",
       "<style scoped>\n",
       "    .dataframe tbody tr th:only-of-type {\n",
       "        vertical-align: middle;\n",
       "    }\n",
       "\n",
       "    .dataframe tbody tr th {\n",
       "        vertical-align: top;\n",
       "    }\n",
       "\n",
       "    .dataframe thead th {\n",
       "        text-align: right;\n",
       "    }\n",
       "</style>\n",
       "<table border=\"1\" class=\"dataframe\">\n",
       "  <thead>\n",
       "    <tr style=\"text-align: right;\">\n",
       "      <th></th>\n",
       "      <th>row_id</th>\n",
       "      <th>target</th>\n",
       "    </tr>\n",
       "  </thead>\n",
       "  <tbody>\n",
       "    <tr>\n",
       "      <th>0</th>\n",
       "      <td>0</td>\n",
       "      <td>0.803339</td>\n",
       "    </tr>\n",
       "    <tr>\n",
       "      <th>1</th>\n",
       "      <td>1</td>\n",
       "      <td>0.581506</td>\n",
       "    </tr>\n",
       "    <tr>\n",
       "      <th>2</th>\n",
       "      <td>2</td>\n",
       "      <td>0.080100</td>\n",
       "    </tr>\n",
       "    <tr>\n",
       "      <th>3</th>\n",
       "      <td>3</td>\n",
       "      <td>2.006412</td>\n",
       "    </tr>\n",
       "    <tr>\n",
       "      <th>4</th>\n",
       "      <td>4</td>\n",
       "      <td>3.857997</td>\n",
       "    </tr>\n",
       "  </tbody>\n",
       "</table>\n",
       "</div>"
      ],
      "text/plain": [
       "   row_id    target\n",
       "0       0  0.803339\n",
       "1       1  0.581506\n",
       "2       2  0.080100\n",
       "3       3  2.006412\n",
       "4       4  3.857997"
      ]
     },
     "execution_count": 12,
     "metadata": {},
     "output_type": "execute_result"
    }
   ],
   "source": [
    "their.head()"
   ]
  },
  {
   "cell_type": "code",
   "execution_count": 23,
   "id": "c3671831-7c13-408b-930b-1c621ad21f98",
   "metadata": {},
   "outputs": [
    {
     "data": {
      "text/html": [
       "<div>\n",
       "<style scoped>\n",
       "    .dataframe tbody tr th:only-of-type {\n",
       "        vertical-align: middle;\n",
       "    }\n",
       "\n",
       "    .dataframe tbody tr th {\n",
       "        vertical-align: top;\n",
       "    }\n",
       "\n",
       "    .dataframe thead th {\n",
       "        text-align: right;\n",
       "    }\n",
       "</style>\n",
       "<table border=\"1\" class=\"dataframe\">\n",
       "  <thead>\n",
       "    <tr style=\"text-align: right;\">\n",
       "      <th></th>\n",
       "      <th>row_id</th>\n",
       "      <th>target</th>\n",
       "    </tr>\n",
       "  </thead>\n",
       "  <tbody>\n",
       "    <tr>\n",
       "      <th>0</th>\n",
       "      <td>0</td>\n",
       "      <td>0.561594</td>\n",
       "    </tr>\n",
       "    <tr>\n",
       "      <th>1</th>\n",
       "      <td>1</td>\n",
       "      <td>0.399530</td>\n",
       "    </tr>\n",
       "    <tr>\n",
       "      <th>2</th>\n",
       "      <td>2</td>\n",
       "      <td>0.318195</td>\n",
       "    </tr>\n",
       "    <tr>\n",
       "      <th>3</th>\n",
       "      <td>3</td>\n",
       "      <td>3.084010</td>\n",
       "    </tr>\n",
       "    <tr>\n",
       "      <th>4</th>\n",
       "      <td>4</td>\n",
       "      <td>4.360763</td>\n",
       "    </tr>\n",
       "  </tbody>\n",
       "</table>\n",
       "</div>"
      ],
      "text/plain": [
       "   row_id    target\n",
       "0       0  0.561594\n",
       "1       1  0.399530\n",
       "2       2  0.318195\n",
       "3       3  3.084010\n",
       "4       4  4.360763"
      ]
     },
     "execution_count": 23,
     "metadata": {},
     "output_type": "execute_result"
    }
   ],
   "source": [
    "ensemble.head()"
   ]
  },
  {
   "cell_type": "code",
   "execution_count": 24,
   "id": "83453103-418d-4c01-b744-c6b590273983",
   "metadata": {},
   "outputs": [],
   "source": [
    "ensemble.to_csv(\"../output/2022-09-01_11-01-56+msci-multiome-quickstart-w-sparse-matrices/submission.csv\", index=False)"
   ]
  },
  {
   "cell_type": "code",
   "execution_count": null,
   "id": "10c6fc67-309d-4b05-a909-afcd70f423d3",
   "metadata": {},
   "outputs": [],
   "source": []
  }
 ],
 "metadata": {
  "kernelspec": {
   "display_name": "develop (with Rapids)",
   "language": "python",
   "name": "develop-rapids"
  },
  "language_info": {
   "codemirror_mode": {
    "name": "ipython",
    "version": 3
   },
   "file_extension": ".py",
   "mimetype": "text/x-python",
   "name": "python",
   "nbconvert_exporter": "python",
   "pygments_lexer": "ipython3",
   "version": "3.9.12"
  },
  "toc-autonumbering": true,
  "toc-showcode": false,
  "toc-showmarkdowntxt": false,
  "toc-showtags": true
 },
 "nbformat": 4,
 "nbformat_minor": 5
}
