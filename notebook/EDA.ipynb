{
 "cells": [
  {
   "cell_type": "markdown",
   "id": "348892fa-ab4d-4da2-b0f6-e98e3eba93fc",
   "metadata": {},
   "source": [
    "# Open Problems - Multimodal Single-Cell Integration"
   ]
  },
  {
   "cell_type": "markdown",
   "id": "7f6e7f16-85dc-4f48-8681-2fd0dcbbcdc5",
   "metadata": {
    "tags": []
   },
   "source": [
    "## Setup"
   ]
  },
  {
   "cell_type": "code",
   "execution_count": 1,
   "id": "ddd3c482-9afb-46bb-982d-77df2233b0fa",
   "metadata": {},
   "outputs": [],
   "source": [
    "import sys\n",
    "\n",
    "sys.path.append(\"../working\")"
   ]
  },
  {
   "cell_type": "code",
   "execution_count": 2,
   "id": "037dfadb-933a-4c42-bd60-f182d5c5cfe3",
   "metadata": {},
   "outputs": [],
   "source": [
    "import logging\n",
    "\n",
    "logging.basicConfig(\n",
    "    # filename=__file__.replace('.py', '.log'),\n",
    "    level=logging.getLevelName(\"INFO\"),\n",
    "    format=\"%(asctime)s [%(levelname)s] [%(module)s] %(message)s\",\n",
    ")\n",
    "\n",
    "log = logging.getLogger(__name__)"
   ]
  },
  {
   "cell_type": "code",
   "execution_count": 3,
   "id": "30441340-4b9c-4ece-bebc-86aa4efab101",
   "metadata": {},
   "outputs": [
    {
     "name": "stderr",
     "output_type": "stream",
     "text": [
      "2022-08-24 22:11:16,844 [INFO] [utils] Note: detected 88 virtual cores but NumExpr set to maximum of 64, check \"NUMEXPR_MAX_THREADS\" environment variable.\n",
      "2022-08-24 22:11:16,846 [INFO] [utils] Note: NumExpr detected 88 cores but \"NUMEXPR_MAX_THREADS\" not set, so enforcing safe limit of 8.\n",
      "2022-08-24 22:11:16,846 [INFO] [utils] NumExpr defaulting to 8 threads.\n"
     ]
    }
   ],
   "source": [
    "import glob\n",
    "import os\n",
    "\n",
    "import matplotlib.pyplot as plt\n",
    "import numpy as np\n",
    "import pandas as pd\n",
    "import scipy.stats as stats\n",
    "import seaborn as sns\n",
    "from omegaconf import OmegaConf\n",
    "from src.get_score import get_score\n",
    "from src.load_data import InputData\n",
    "from src.make_dataset import BaseDataset, get_transforms\n",
    "from src.make_model import ImageBaseModel\n",
    "from src.utils import df_stats\n",
    "from torch.utils.data import DataLoader\n",
    "\n",
    "pd.set_option(\"display.max_rows\", None)\n",
    "pd.set_option(\"display.max_columns\", None)\n",
    "pd.set_option(\"display.max_colwidth\", None)"
   ]
  },
  {
   "cell_type": "code",
   "execution_count": 4,
   "id": "459de3b6-ddc1-4aa0-8215-8e2cd425ff7b",
   "metadata": {},
   "outputs": [],
   "source": [
    "# Competition specific library"
   ]
  },
  {
   "cell_type": "markdown",
   "id": "78bfa3df-3efe-415c-9f49-be80c14333d2",
   "metadata": {
    "tags": []
   },
   "source": [
    "## 目的\n",
    "\n",
    "このコンペティションの目的は、骨髄幹細胞がより成熟した血液細胞へと成長する過程で、DNA、RNA、タンパク質の測定値が単一細胞内でどのように共変動するかを予測することである。このコンペティションのために、細胞中心の創薬企業であるCellarity社が作成した、4人のヒトドナーのCD34+造血幹・前駆細胞（HSPC）の5時点の30万細胞の時間経過データセットのサブセットを用いて、トレーニングしたモデルを開発することになります。\n",
    "\n",
    "テストセットでは、データセット内の未知の遅い時点から取得され、競技者は1つのモダリティを与えられ、同じセルで測定された対のモダリティを予測することを課される。このコンペティションの課題は、テストデータがトレーニングデータのどの時点のものよりも遅い時点のものであることである。\n",
    "\n",
    "あなたの研究は、細胞の状態を何層にも分けて遺伝情報をマッピングする方法の技術革新を加速させるでしょう。もし、ある様式を別の様式から予測することができれば、これらの複雑な制御過程を支配する規則についての理解を深めることができるかもしれません。\n",
    "\n",
    "![predict](./images/predict.png)\n",
    "\n",
    "過去10年間、シングルセルゲノミクスの登場により、単一細胞内のDNA、RNA、タンパク質の測定が可能になった。これらの技術により、前例のないスケールと解像度で生物学を研究することが可能になった。その結果、ヒトの初期胚発生の詳細なマップ、新しい疾患関連細胞の発見、細胞を標的とした治療介入などが実現しました。さらに、最近の実験技術の進歩により、同一細胞内の複数のゲノムモダリティを測定することが可能になった。\n",
    "\n",
    "マルチモーダルなシングルセルデータがますます利用できるようになる一方で、データ解析手法はまだ不足しています。単一細胞は体積が小さいため、測定値はまばらでノイズが多い。細胞間の分子サンプリング深さの違い（シーケンシング深さ）や、バッチで細胞を扱うことによる技術的効果（バッチ効果）は、しばしば生物学的な差異を圧倒することがあります。マルチモーダルデータを解析する場合、異なる特徴空間、モダリティ間およびバッチ間の共有および固有の変動を考慮する必要があります。さらに、現在の単一細胞データ解析のパイプラインは、たとえその下にダイナミックな生物学的プロセスがあったとしても、細胞を静的なスナップショットとして扱っている。時間経過に伴う状態の変化と同時に時間的なダイナミクスを考慮することは、シングルセルデータサイエンスにおける未解決の課題である。\n",
    "\n",
    "一般に、遺伝情報はDNA→RNA→タンパク質と流れる。RNA（GEXデータ）を生成するためにはDNAにアクセスできなければならず（ATACデータ）、RNAはタンパク質を生成するための鋳型として利用される（ADTデータ）。これらのプロセスは、フィードバックによって制御されています。例えば、タンパク質がDNAと結合することで、より多くのRNAが生成されるのを防ぐことができます。このような遺伝子の制御が、生物が発展し、環境の変化に適応していくためのダイナミックな細胞プロセスの基盤となっているのです。単一細胞データ科学では、動的プロセスは、生物学的プロセスの進行を捕らえる、いわゆる擬似時間アルゴリズムによってモデル化されてきた。しかし、これらのアルゴリズムを一般化し、擬似時間と実時間の両方を考慮することは、まだ未解決の問題である。\n",
    "\n",
    "コンペティション主催のOpen Problems in Single-Cell Analysisは、シングルセル解析手法のベンチマークを標準化するための、オープンソースかつコミュニティ主導の取り組みです。Open Problemsの中核となる取り組みには、既存の課題を測定可能なタスクに形式化すること、高品質のデータセットを収集すること、コミュニティから提供された手法のベンチマークを集中的に行うこと、多様な手法開発者を集めてシングルセルのアルゴリズムを改善するコミュニティに焦点を当てたイベントを開催することなどがあります。彼らは、Cellarity、Chan Zuckerbeg Biohub、Chan Zuckerberg Initiative、Helmholtz Munich、Yaleと提携し、学際的なコラボレーションを通じて、遺伝的ダイナミックスの時間的変化を予測することにどんな進展が見られるかに期待しています。\n",
    "\n",
    "人体には約37兆個の細胞が存在し、それぞれが異なる行動や機能を有しています。一つのゲノムがどのようにして多様な細胞状態を生み出すのかを理解することは、健康や病気において組織がどのように機能し、どのように誤作動を起こすのかをメカニズム的に理解するための鍵となります。あなたは、この単一細胞生物学の基本的な課題の解決に貢献することができます。予測問題を長期にわたって解くことができれば、血液や免疫細胞の成熟に伴う分化に遺伝子制御がどのように影響するかについて、新たな知見を得ることができるかもしれません。\n",
    "\n",
    "\n",
    "## 評価\n",
    "\n",
    "投稿の順位付けには、ピアソン相関係数を使用しています。Multiomeデータセットの各オブザベーションについて、グランドトゥルース遺伝子発現と予測される遺伝子発現の相関を計算します。CITEseqデータセットの各オブザベーションについて、ground-truthの表面タンパク質レベルと予測される表面タンパク質レベルの間の相関を計算します。総合スコアは、各サンプルの相関スコアの平均値です。あるサンプルの予測値がすべて同じであった場合、そのサンプルの相関は-1.0としてスコア化されます。\n",
    "\n",
    "\n",
    "## 提出ファイル\n",
    "\n",
    "評価セット内の各idについて、そのrow_idの ターゲット値を予測する必要があります。提出物はヘッダーを含み、以下のフォーマットである必要があります。\n",
    "\n",
    "\n",
    "\n",
    "```\n",
    "row_id,target\n",
    "0,0.0\n",
    "1,0.0\n",
    "2,0.0\n",
    "3,0.0\n",
    "...\n",
    "```\n",
    "\n",
    "提出ファイルは、テストセットのオブザベーションのサブセットのみを含む必要があります。含まれるべき特定の ID については、データ説明を参照してください。\n",
    "\n",
    "\n",
    "\n",
    "\n",
    "## データ\n",
    "\n",
    "このコンペティションのデータセットは、4人の健康なヒトドナーから分離した動員末梢CD34+造血幹細胞および前駆細胞（HSPCs）から収集したシングルセルマルチオミクスデータから構成されています。細胞の詳細については、ベンダーのウェブサイトをご覧ください。\n",
    "\n",
    "測定は10日間にわたり、5つの時点で行われた。各時点の各プレートから、2種類のシングルセルアッセイで測定するために細胞を採取した。1つ目は10x Chromium Single Cell Multiome ATAC + Gene Expressiontechnology（Multiome）、2つ目は10x Genomics Single Cell Gene Expression with Feature Barcodingtechnologyで、TotalSeq™-B Human Universal Cocktail, V1.0(CITEseq) を使用したもの。\n",
    "\n",
    "このデータ型を扱ったことがない方は、この説明の一番下にいくつかのリンクを載せています。\n",
    "\n",
    "各アッセイ技術では、2つのモダリティを測定します。Multiomeキットはクロマチンアクセシビリティ（DNA）と遺伝子発現（RNA）を、CITEseqキットは遺伝子発現（RNA）と表面タンパク質のレベルを測定します。\n",
    "\n",
    "分子生物学のセントラルドグマに従うとDNA→RNA→タンパク質という分子生物学のセントラルドグマに従って、あなたの仕事は次の通りです。\n",
    "\n",
    "- Multiomeサンプルの場合：クロマチンアクセシビリティが与えられた場合、遺伝子発現を予測する。\n",
    "- CITEseqサンプルについて：遺伝子発現が与えられた場合、タンパク質量を予測する。\n",
    "\n",
    "### 細胞の種類\n",
    "\n",
    "解析の参考のため、以下の論文の情報を用いて、RNA 遺伝子発現に基づく予備的な細胞タイプアノテーションを行った： https://www.nature.com/articles/ncb3493 .細胞タイプのアノテーションは不正確な技術であり、連続データに離散的なラベルを割り当てるという概念には固有の限界があることに注意してください。これらのラベルを予測に使用する必要はなく、主に探索的な解析のガイドとして提供されている。このデータでは、以下のような細胞タイプがある。\n",
    "\n",
    "- MasP= マスト細胞プロジェニター\n",
    "- MkP＝メガカリョク細胞プロジェニター\n",
    "- NeuP= 好中球プロジェニター\n",
    "- MoP= Monocyte Progenitor（単球前駆体）。\n",
    "- EryP= 赤血球前駆体（Erythrocyte Progenitor）。\n",
    "- HSC= Hematoploetic Stem Cell（造血幹細胞）。\n",
    "- BP= B細胞プロジェニター\n",
    "\n",
    "\n",
    "### ファイルおよびフィールドの説明\n",
    "\n",
    "- metadata.csv\n",
    "    - cell_id- 観測された各セルに対する一意の識別子．\n",
    "    - donor- 4人の細胞ドナーの識別子。\n",
    "    - day- 観察が行われた実験の日。\n",
    "    - 技術-citeseqか multiomeのどちらか。\n",
    "    - cell_type- 上記のセルタイプの1つ，あるいは非表示．\n",
    "\n",
    "実験観測はいくつかの大きなアレイに含まれています。これらのアレイはHDF5フォーマットで提供されます。\n",
    "\n",
    "\n",
    "#### マルチオーム\n",
    "\n",
    "- `train/test_multi_inputs.h5`- ATAC-seq peak counts をTF-IDFで変換し、デフォルトのlog(TF) * log(IDF)output (chromatin accessibility)を使用。行は細胞、列はアクセスレベルを測定したゲノムの位置（ここでは 10xReferences - 2020-A (July 7, 2020) で提供された参照ゲノム GRCh38 のゲノム座標により特定）に相当します。\n",
    "- `train_multi_targets.h5`- RNA遺伝子発現レベル（同一細胞のライブラリサイズ正規化およびlog1p変換カウントとして）。\n",
    "\n",
    "\n",
    "#### CITEseq\n",
    "\n",
    "- `train/test_cite_inputs.h5`- RNAライブラリサイズで正規化、log1p変換したカウント値（遺伝子発現レベル）、行は{gene_name}_{gene_ensemble-ids}で指定したセル、列は遺伝子に対応。\n",
    "- `train_cite_targets.h5`-dsbで正規化された同じ細胞の表面タンパク質レベル。\n",
    "\n",
    "\n",
    "#### データ分割\n",
    "\n",
    "データ分割は以下のように整理されている。\n",
    "\n",
    "- トレーニングセットは、13176、31800、32606のドナーからのサンプルだけから構成される。公開テストセットは、ドナー27678からのサンプルだけから構成される。プライベートテストセットは、4人のドナーすべてからのサンプルで構成される。\n",
    "- Multiomeサンプルについては、トレーニングセットは2日目、3日目、4日目、7日目のサンプルのみで構成されています。公開テストセットは、2日目、3日目、7日目のデータのみから構成される。プライベートテストセットは、10日目のデータのみから構成される。\n",
    "- CITEseqサンプルについては、トレーニングセットは2日目、3日目、4日目のサンプルのみから構成されています。公開テストセットも2日目、3日目、4日目のみのサンプルから構成される。プライベートテストセットは、7日目のサンプルだけから構成されます。どの分割においても、10日目のCITEseqサンプルは存在しない。\n",
    "\n",
    "![data split](./images/data-split.jpg)\n",
    "\n",
    "\n",
    "あなたの課題は、テストセットの入力に対応するラベルを予測することです。提出物の採点を容易にするため、マルチオームデータのサブセットに対する予測のみを要求します。このサブセットは、Multiomeの行の30%、各行に対して列の15%をサンプリングして作成されています。列のサンプルは行ごとに異なります。CITEseqラベルは全てスコア化されています。\n",
    "\n",
    "- `evaluation_ids.csv`- 評価対象のテストセットからラベルを特定する。ラベルマトリックスのcell_id/gene_id識別子から、提出ファイルに必要なrow_idへの結合キーが提供されます。\n",
    "- `sample_submission.csv`- 正しい形式の投稿ファイルのサンプルです。詳しくは、評価のページをご覧ください。\n",
    "\n",
    "### 学習リソース\n",
    "\n",
    "- Open Problems - マルチモーダル単一細胞データについて- マルチモーダルデータを初めて見る人に説明するために昨年作成した情報ページです。\n",
    "  https://openproblems.bio/neurips_docs/data/about_multimodal/\n",
    "- モデル、推論、アルゴリズム - マルチモーダル単一細胞解析で競争するために団結する- コンペティションの背景と動機を提供するBroad Institutes Models, Inferences, and Algorithmsセミナーでコンペティション主催者によって発表された講演です。\n"
   ]
  },
  {
   "cell_type": "markdown",
   "id": "009c6445-93de-4d81-9a46-afc54394b43c",
   "metadata": {},
   "source": [
    "## EDA メモ\n",
    "\n",
    "- すべてのデータの読み込みに 40分 ほど必要  \n",
    "  ![data-loading-time](./images/data-loading-time.png)\n",
    "\n",
    "\n"
   ]
  },
  {
   "cell_type": "code",
   "execution_count": 5,
   "id": "972c88a8-8053-43bc-bb93-9368ceafcdf8",
   "metadata": {},
   "outputs": [
    {
     "name": "stderr",
     "output_type": "stream",
     "text": [
      "2022-08-24 22:11:19,322 [INFO] [load_data] Load feather file. path: ../input/evaluation_ids.f\n",
      "2022-08-24 22:11:26,123 [INFO] [utils] Mem. usage decreased to 125Mb: 16% reduction\n",
      "2022-08-24 22:11:26,472 [INFO] [load_data] Load feather file. path: ../input/metadata.f\n",
      "2022-08-24 22:11:26,592 [INFO] [utils] Mem. usage decreased to 7.2Mb: 32% reduction\n",
      "2022-08-24 22:11:26,597 [INFO] [load_data] Load feather file. path: ../input/sample_submission.f\n",
      "2022-08-24 22:11:28,929 [INFO] [utils] Mem. usage decreased to 501Mb: 49% reduction\n",
      "2022-08-24 22:11:28,932 [INFO] [load_data] Load original file. path: ../input/test_cite_inputs.h5\n",
      "2022-08-24 22:12:33,493 [INFO] [utils] Mem. usage decreased to 409Mb: 0.% reduction\n",
      "2022-08-24 22:12:33,545 [INFO] [load_data] Load original file. path: ../input/test_multi_inputs.h5\n",
      "2022-08-24 22:24:41,921 [INFO] [utils] Mem. usage decreased to 488Mb: 0.% reduction\n",
      "2022-08-24 22:24:42,649 [INFO] [load_data] Load original file. path: ../input/train_cite_inputs.h5\n",
      "2022-08-24 22:26:33,523 [INFO] [utils] Mem. usage decreased to 597Mb: 0.% reduction\n",
      "2022-08-24 22:26:33,600 [INFO] [load_data] Load original file. path: ../input/train_cite_targets.h5\n",
      "2022-08-24 22:26:34,191 [INFO] [utils] Mem. usage decreased to 38.Mb: 0.% reduction\n",
      "2022-08-24 22:26:34,193 [INFO] [load_data] Load original file. path: ../input/train_multi_inputs.h5\n",
      "2022-08-24 22:50:41,494 [INFO] [utils] Mem. usage decreased to 925Mb: 0.% reduction\n",
      "2022-08-24 22:50:42,565 [INFO] [load_data] Load original file. path: ../input/train_multi_targets.h5\n",
      "2022-08-24 22:53:44,363 [INFO] [utils] Mem. usage decreased to 946Mb: 0.% reduction\n"
     ]
    }
   ],
   "source": [
    "c = OmegaConf.load(\"../working/config/main.yaml\")\n",
    "\n",
    "input = InputData(c, use_fold=True, do_preprocess=True)"
   ]
  },
  {
   "cell_type": "code",
   "execution_count": null,
   "id": "befdb7a3-15d5-48a5-94d2-d4bd6519f6e9",
   "metadata": {},
   "outputs": [],
   "source": []
  },
  {
   "cell_type": "code",
   "execution_count": null,
   "id": "c9adcbfe-320d-41f4-8593-edd9e5e4be20",
   "metadata": {},
   "outputs": [],
   "source": []
  },
  {
   "cell_type": "markdown",
   "id": "4bc5af1a-29ad-4b80-a725-ca5164df85bf",
   "metadata": {
    "tags": []
   },
   "source": [
    "## Training Data\n",
    "\n"
   ]
  },
  {
   "cell_type": "code",
   "execution_count": 7,
   "id": "a74f78af-6eff-4fb9-92f7-3f6bcca30338",
   "metadata": {},
   "outputs": [
    {
     "name": "stdout",
     "output_type": "stream",
     "text": [
      "<class 'pandas.core.frame.DataFrame'>\n",
      "RangeIndex: 754 entries, 0 to 753\n",
      "Data columns (total 8 columns):\n",
      " #   Column      Non-Null Count  Dtype  \n",
      "---  ------      --------------  -----  \n",
      " 0   image_id    754 non-null    object \n",
      " 1   center_id   754 non-null    int8   \n",
      " 2   patient_id  754 non-null    object \n",
      " 3   image_num   754 non-null    int8   \n",
      " 4   label       754 non-null    int8   \n",
      " 5   label_CE    754 non-null    uint8  \n",
      " 6   label_LAA   754 non-null    uint8  \n",
      " 7   fold        754 non-null    float32\n",
      "dtypes: float32(1), int8(3), object(2), uint8(2)\n",
      "memory usage: 18.5+ KB\n"
     ]
    }
   ],
   "source": [
    "input.train.info()"
   ]
  },
  {
   "cell_type": "code",
   "execution_count": 8,
   "id": "ca664400-2fef-469c-9698-76000acee6a3",
   "metadata": {},
   "outputs": [
    {
     "data": {
      "text/html": [
       "<div>\n",
       "<style scoped>\n",
       "    .dataframe tbody tr th:only-of-type {\n",
       "        vertical-align: middle;\n",
       "    }\n",
       "\n",
       "    .dataframe tbody tr th {\n",
       "        vertical-align: top;\n",
       "    }\n",
       "\n",
       "    .dataframe thead th {\n",
       "        text-align: right;\n",
       "    }\n",
       "</style>\n",
       "<table border=\"1\" class=\"dataframe\">\n",
       "  <thead>\n",
       "    <tr style=\"text-align: right;\">\n",
       "      <th></th>\n",
       "      <th>image_id</th>\n",
       "      <th>center_id</th>\n",
       "      <th>patient_id</th>\n",
       "      <th>image_num</th>\n",
       "      <th>label</th>\n",
       "      <th>label_CE</th>\n",
       "      <th>label_LAA</th>\n",
       "      <th>fold</th>\n",
       "    </tr>\n",
       "  </thead>\n",
       "  <tbody>\n",
       "    <tr>\n",
       "      <th>0</th>\n",
       "      <td>006388_0</td>\n",
       "      <td>11</td>\n",
       "      <td>006388</td>\n",
       "      <td>0</td>\n",
       "      <td>0</td>\n",
       "      <td>1</td>\n",
       "      <td>0</td>\n",
       "      <td>1.0</td>\n",
       "    </tr>\n",
       "    <tr>\n",
       "      <th>1</th>\n",
       "      <td>008e5c_0</td>\n",
       "      <td>11</td>\n",
       "      <td>008e5c</td>\n",
       "      <td>0</td>\n",
       "      <td>0</td>\n",
       "      <td>1</td>\n",
       "      <td>0</td>\n",
       "      <td>3.0</td>\n",
       "    </tr>\n",
       "    <tr>\n",
       "      <th>2</th>\n",
       "      <td>00c058_0</td>\n",
       "      <td>11</td>\n",
       "      <td>00c058</td>\n",
       "      <td>0</td>\n",
       "      <td>1</td>\n",
       "      <td>0</td>\n",
       "      <td>1</td>\n",
       "      <td>3.0</td>\n",
       "    </tr>\n",
       "    <tr>\n",
       "      <th>3</th>\n",
       "      <td>01adc5_0</td>\n",
       "      <td>11</td>\n",
       "      <td>01adc5</td>\n",
       "      <td>0</td>\n",
       "      <td>1</td>\n",
       "      <td>0</td>\n",
       "      <td>1</td>\n",
       "      <td>2.0</td>\n",
       "    </tr>\n",
       "    <tr>\n",
       "      <th>4</th>\n",
       "      <td>026c97_0</td>\n",
       "      <td>4</td>\n",
       "      <td>026c97</td>\n",
       "      <td>0</td>\n",
       "      <td>0</td>\n",
       "      <td>1</td>\n",
       "      <td>0</td>\n",
       "      <td>2.0</td>\n",
       "    </tr>\n",
       "  </tbody>\n",
       "</table>\n",
       "</div>"
      ],
      "text/plain": [
       "   image_id  center_id patient_id  image_num  label  label_CE  label_LAA  fold\n",
       "0  006388_0         11     006388          0      0         1          0   1.0\n",
       "1  008e5c_0         11     008e5c          0      0         1          0   3.0\n",
       "2  00c058_0         11     00c058          0      1         0          1   3.0\n",
       "3  01adc5_0         11     01adc5          0      1         0          1   2.0\n",
       "4  026c97_0          4     026c97          0      0         1          0   2.0"
      ]
     },
     "execution_count": 8,
     "metadata": {},
     "output_type": "execute_result"
    }
   ],
   "source": [
    "input.train.head()"
   ]
  },
  {
   "cell_type": "code",
   "execution_count": 9,
   "id": "0977dabc-95a4-495c-b101-5eac39e0dffb",
   "metadata": {},
   "outputs": [
    {
     "data": {
      "text/html": [
       "<div>\n",
       "<style scoped>\n",
       "    .dataframe tbody tr th:only-of-type {\n",
       "        vertical-align: middle;\n",
       "    }\n",
       "\n",
       "    .dataframe tbody tr th {\n",
       "        vertical-align: top;\n",
       "    }\n",
       "\n",
       "    .dataframe thead th {\n",
       "        text-align: right;\n",
       "    }\n",
       "</style>\n",
       "<table border=\"1\" class=\"dataframe\">\n",
       "  <thead>\n",
       "    <tr style=\"text-align: right;\">\n",
       "      <th></th>\n",
       "      <th>image_id</th>\n",
       "      <th>center_id</th>\n",
       "      <th>patient_id</th>\n",
       "      <th>image_num</th>\n",
       "      <th>label</th>\n",
       "      <th>label_CE</th>\n",
       "      <th>label_LAA</th>\n",
       "      <th>fold</th>\n",
       "    </tr>\n",
       "  </thead>\n",
       "  <tbody>\n",
       "    <tr>\n",
       "      <th>749</th>\n",
       "      <td>fe9645_0</td>\n",
       "      <td>3</td>\n",
       "      <td>fe9645</td>\n",
       "      <td>0</td>\n",
       "      <td>0</td>\n",
       "      <td>1</td>\n",
       "      <td>0</td>\n",
       "      <td>1.0</td>\n",
       "    </tr>\n",
       "    <tr>\n",
       "      <th>750</th>\n",
       "      <td>fe9bec_0</td>\n",
       "      <td>4</td>\n",
       "      <td>fe9bec</td>\n",
       "      <td>0</td>\n",
       "      <td>1</td>\n",
       "      <td>0</td>\n",
       "      <td>1</td>\n",
       "      <td>1.0</td>\n",
       "    </tr>\n",
       "    <tr>\n",
       "      <th>751</th>\n",
       "      <td>ff14e0_0</td>\n",
       "      <td>6</td>\n",
       "      <td>ff14e0</td>\n",
       "      <td>0</td>\n",
       "      <td>0</td>\n",
       "      <td>1</td>\n",
       "      <td>0</td>\n",
       "      <td>3.0</td>\n",
       "    </tr>\n",
       "    <tr>\n",
       "      <th>752</th>\n",
       "      <td>ffec5c_0</td>\n",
       "      <td>7</td>\n",
       "      <td>ffec5c</td>\n",
       "      <td>0</td>\n",
       "      <td>1</td>\n",
       "      <td>0</td>\n",
       "      <td>1</td>\n",
       "      <td>2.0</td>\n",
       "    </tr>\n",
       "    <tr>\n",
       "      <th>753</th>\n",
       "      <td>ffec5c_1</td>\n",
       "      <td>7</td>\n",
       "      <td>ffec5c</td>\n",
       "      <td>1</td>\n",
       "      <td>1</td>\n",
       "      <td>0</td>\n",
       "      <td>1</td>\n",
       "      <td>2.0</td>\n",
       "    </tr>\n",
       "  </tbody>\n",
       "</table>\n",
       "</div>"
      ],
      "text/plain": [
       "     image_id  center_id patient_id  image_num  label  label_CE  label_LAA  \\\n",
       "749  fe9645_0          3     fe9645          0      0         1          0   \n",
       "750  fe9bec_0          4     fe9bec          0      1         0          1   \n",
       "751  ff14e0_0          6     ff14e0          0      0         1          0   \n",
       "752  ffec5c_0          7     ffec5c          0      1         0          1   \n",
       "753  ffec5c_1          7     ffec5c          1      1         0          1   \n",
       "\n",
       "     fold  \n",
       "749   1.0  \n",
       "750   1.0  \n",
       "751   3.0  \n",
       "752   2.0  \n",
       "753   2.0  "
      ]
     },
     "execution_count": 9,
     "metadata": {},
     "output_type": "execute_result"
    }
   ],
   "source": [
    "input.train.tail()"
   ]
  },
  {
   "cell_type": "code",
   "execution_count": 10,
   "id": "04429ce4-78aa-4000-988f-dc1919881813",
   "metadata": {},
   "outputs": [
    {
     "data": {
      "text/html": [
       "<div>\n",
       "<style scoped>\n",
       "    .dataframe tbody tr th:only-of-type {\n",
       "        vertical-align: middle;\n",
       "    }\n",
       "\n",
       "    .dataframe tbody tr th {\n",
       "        vertical-align: top;\n",
       "    }\n",
       "\n",
       "    .dataframe thead th {\n",
       "        text-align: right;\n",
       "    }\n",
       "</style>\n",
       "<table border=\"1\" class=\"dataframe\">\n",
       "  <thead>\n",
       "    <tr style=\"text-align: right;\">\n",
       "      <th></th>\n",
       "      <th>center_id</th>\n",
       "      <th>image_num</th>\n",
       "      <th>label</th>\n",
       "      <th>label_CE</th>\n",
       "      <th>label_LAA</th>\n",
       "      <th>fold</th>\n",
       "    </tr>\n",
       "  </thead>\n",
       "  <tbody>\n",
       "    <tr>\n",
       "      <th>count</th>\n",
       "      <td>754.000000</td>\n",
       "      <td>754.000000</td>\n",
       "      <td>754.000000</td>\n",
       "      <td>754.000000</td>\n",
       "      <td>754.000000</td>\n",
       "      <td>754.000000</td>\n",
       "    </tr>\n",
       "    <tr>\n",
       "      <th>mean</th>\n",
       "      <td>7.115385</td>\n",
       "      <td>0.226790</td>\n",
       "      <td>0.274536</td>\n",
       "      <td>0.725464</td>\n",
       "      <td>0.274536</td>\n",
       "      <td>1.960212</td>\n",
       "    </tr>\n",
       "    <tr>\n",
       "      <th>std</th>\n",
       "      <td>3.504306</td>\n",
       "      <td>0.599046</td>\n",
       "      <td>0.446576</td>\n",
       "      <td>0.446576</td>\n",
       "      <td>0.446576</td>\n",
       "      <td>1.413653</td>\n",
       "    </tr>\n",
       "    <tr>\n",
       "      <th>min</th>\n",
       "      <td>1.000000</td>\n",
       "      <td>0.000000</td>\n",
       "      <td>0.000000</td>\n",
       "      <td>0.000000</td>\n",
       "      <td>0.000000</td>\n",
       "      <td>0.000000</td>\n",
       "    </tr>\n",
       "    <tr>\n",
       "      <th>25%</th>\n",
       "      <td>4.000000</td>\n",
       "      <td>0.000000</td>\n",
       "      <td>0.000000</td>\n",
       "      <td>0.000000</td>\n",
       "      <td>0.000000</td>\n",
       "      <td>1.000000</td>\n",
       "    </tr>\n",
       "    <tr>\n",
       "      <th>50%</th>\n",
       "      <td>7.000000</td>\n",
       "      <td>0.000000</td>\n",
       "      <td>0.000000</td>\n",
       "      <td>1.000000</td>\n",
       "      <td>0.000000</td>\n",
       "      <td>2.000000</td>\n",
       "    </tr>\n",
       "    <tr>\n",
       "      <th>75%</th>\n",
       "      <td>11.000000</td>\n",
       "      <td>0.000000</td>\n",
       "      <td>1.000000</td>\n",
       "      <td>1.000000</td>\n",
       "      <td>1.000000</td>\n",
       "      <td>3.000000</td>\n",
       "    </tr>\n",
       "    <tr>\n",
       "      <th>max</th>\n",
       "      <td>11.000000</td>\n",
       "      <td>4.000000</td>\n",
       "      <td>1.000000</td>\n",
       "      <td>1.000000</td>\n",
       "      <td>1.000000</td>\n",
       "      <td>4.000000</td>\n",
       "    </tr>\n",
       "  </tbody>\n",
       "</table>\n",
       "</div>"
      ],
      "text/plain": [
       "        center_id   image_num       label    label_CE   label_LAA        fold\n",
       "count  754.000000  754.000000  754.000000  754.000000  754.000000  754.000000\n",
       "mean     7.115385    0.226790    0.274536    0.725464    0.274536    1.960212\n",
       "std      3.504306    0.599046    0.446576    0.446576    0.446576    1.413653\n",
       "min      1.000000    0.000000    0.000000    0.000000    0.000000    0.000000\n",
       "25%      4.000000    0.000000    0.000000    0.000000    0.000000    1.000000\n",
       "50%      7.000000    0.000000    0.000000    1.000000    0.000000    2.000000\n",
       "75%     11.000000    0.000000    1.000000    1.000000    1.000000    3.000000\n",
       "max     11.000000    4.000000    1.000000    1.000000    1.000000    4.000000"
      ]
     },
     "execution_count": 10,
     "metadata": {},
     "output_type": "execute_result"
    }
   ],
   "source": [
    "input.train.describe()"
   ]
  },
  {
   "cell_type": "code",
   "execution_count": 11,
   "id": "f13ef9c5-6e95-48ca-8c4f-b832babedc74",
   "metadata": {},
   "outputs": [
    {
     "data": {
      "text/html": [
       "<div>\n",
       "<style scoped>\n",
       "    .dataframe tbody tr th:only-of-type {\n",
       "        vertical-align: middle;\n",
       "    }\n",
       "\n",
       "    .dataframe tbody tr th {\n",
       "        vertical-align: top;\n",
       "    }\n",
       "\n",
       "    .dataframe thead th {\n",
       "        text-align: right;\n",
       "    }\n",
       "</style>\n",
       "<table border=\"1\" class=\"dataframe\">\n",
       "  <thead>\n",
       "    <tr style=\"text-align: right;\">\n",
       "      <th></th>\n",
       "      <th>カラム名</th>\n",
       "      <th>ユニーク値数</th>\n",
       "      <th>最頻値</th>\n",
       "      <th>最頻値の出現回数</th>\n",
       "      <th>最頻値の割合</th>\n",
       "      <th>欠損値の数</th>\n",
       "      <th>欠損値の割合</th>\n",
       "      <th>タイプ</th>\n",
       "    </tr>\n",
       "  </thead>\n",
       "  <tbody>\n",
       "    <tr>\n",
       "      <th>0</th>\n",
       "      <td>image_id</td>\n",
       "      <td>754</td>\n",
       "      <td>006388_0</td>\n",
       "      <td>1</td>\n",
       "      <td>0.132626</td>\n",
       "      <td>0</td>\n",
       "      <td>0.0</td>\n",
       "      <td>object</td>\n",
       "    </tr>\n",
       "    <tr>\n",
       "      <th>1</th>\n",
       "      <td>center_id</td>\n",
       "      <td>11</td>\n",
       "      <td>11</td>\n",
       "      <td>257</td>\n",
       "      <td>34.084881</td>\n",
       "      <td>0</td>\n",
       "      <td>0.0</td>\n",
       "      <td>int8</td>\n",
       "    </tr>\n",
       "    <tr>\n",
       "      <th>2</th>\n",
       "      <td>patient_id</td>\n",
       "      <td>632</td>\n",
       "      <td>91b9d3</td>\n",
       "      <td>5</td>\n",
       "      <td>0.663130</td>\n",
       "      <td>0</td>\n",
       "      <td>0.0</td>\n",
       "      <td>object</td>\n",
       "    </tr>\n",
       "    <tr>\n",
       "      <th>3</th>\n",
       "      <td>image_num</td>\n",
       "      <td>5</td>\n",
       "      <td>0</td>\n",
       "      <td>632</td>\n",
       "      <td>83.819629</td>\n",
       "      <td>0</td>\n",
       "      <td>0.0</td>\n",
       "      <td>int8</td>\n",
       "    </tr>\n",
       "    <tr>\n",
       "      <th>4</th>\n",
       "      <td>label</td>\n",
       "      <td>2</td>\n",
       "      <td>0</td>\n",
       "      <td>547</td>\n",
       "      <td>72.546419</td>\n",
       "      <td>0</td>\n",
       "      <td>0.0</td>\n",
       "      <td>int8</td>\n",
       "    </tr>\n",
       "    <tr>\n",
       "      <th>5</th>\n",
       "      <td>label_CE</td>\n",
       "      <td>2</td>\n",
       "      <td>1</td>\n",
       "      <td>547</td>\n",
       "      <td>72.546419</td>\n",
       "      <td>0</td>\n",
       "      <td>0.0</td>\n",
       "      <td>uint8</td>\n",
       "    </tr>\n",
       "    <tr>\n",
       "      <th>6</th>\n",
       "      <td>label_LAA</td>\n",
       "      <td>2</td>\n",
       "      <td>0</td>\n",
       "      <td>547</td>\n",
       "      <td>72.546419</td>\n",
       "      <td>0</td>\n",
       "      <td>0.0</td>\n",
       "      <td>uint8</td>\n",
       "    </tr>\n",
       "    <tr>\n",
       "      <th>7</th>\n",
       "      <td>fold</td>\n",
       "      <td>5</td>\n",
       "      <td>2.0</td>\n",
       "      <td>160</td>\n",
       "      <td>21.220159</td>\n",
       "      <td>0</td>\n",
       "      <td>0.0</td>\n",
       "      <td>float32</td>\n",
       "    </tr>\n",
       "  </tbody>\n",
       "</table>\n",
       "</div>"
      ],
      "text/plain": [
       "         カラム名  ユニーク値数       最頻値  最頻値の出現回数     最頻値の割合  欠損値の数  欠損値の割合      タイプ\n",
       "0    image_id     754  006388_0         1   0.132626      0     0.0   object\n",
       "1   center_id      11        11       257  34.084881      0     0.0     int8\n",
       "2  patient_id     632    91b9d3         5   0.663130      0     0.0   object\n",
       "3   image_num       5         0       632  83.819629      0     0.0     int8\n",
       "4       label       2         0       547  72.546419      0     0.0     int8\n",
       "5    label_CE       2         1       547  72.546419      0     0.0    uint8\n",
       "6   label_LAA       2         0       547  72.546419      0     0.0    uint8\n",
       "7        fold       5       2.0       160  21.220159      0     0.0  float32"
      ]
     },
     "execution_count": 11,
     "metadata": {},
     "output_type": "execute_result"
    }
   ],
   "source": [
    "df_stats(input.train)"
   ]
  },
  {
   "cell_type": "markdown",
   "id": "f282e083-808e-4a88-8fe4-77d82449b172",
   "metadata": {
    "tags": []
   },
   "source": [
    "### ラベル分布\n"
   ]
  },
  {
   "cell_type": "code",
   "execution_count": 12,
   "id": "9a0be47a-282a-48d5-8034-b46182265866",
   "metadata": {},
   "outputs": [
    {
     "data": {
      "text/plain": [
       "0    547\n",
       "1    207\n",
       "Name: label, dtype: int64"
      ]
     },
     "execution_count": 12,
     "metadata": {},
     "output_type": "execute_result"
    }
   ],
   "source": [
    "input.train[c.settings.label_name].value_counts()"
   ]
  },
  {
   "cell_type": "code",
   "execution_count": 13,
   "id": "3b5ec35c-5ed0-4289-b398-bf9272f9cf51",
   "metadata": {},
   "outputs": [
    {
     "data": {
      "text/plain": [
       "<AxesSubplot:xlabel='label', ylabel='Count'>"
      ]
     },
     "execution_count": 13,
     "metadata": {},
     "output_type": "execute_result"
    },
    {
     "data": {
      "image/png": "[encoded data removed]",
      "text/plain": [
       "<Figure size 432x288 with 1 Axes>"
      ]
     },
     "metadata": {
      "needs_background": "light"
     },
     "output_type": "display_data"
    }
   ],
   "source": [
    "sns.histplot(input.train[c.settings.label_name])"
   ]
  },
  {
   "cell_type": "markdown",
   "id": "2003f9a7-96b8-4901-8c45-c2dcd6b5bd99",
   "metadata": {},
   "source": [
    "### 特徴量分布"
   ]
  },
  {
   "cell_type": "code",
   "execution_count": 14,
   "id": "7769100e-91e9-4fd6-a5a6-088c89fb7ce3",
   "metadata": {},
   "outputs": [
    {
     "data": {
      "text/plain": [
       "0    632\n",
       "1     89\n",
       "2     21\n",
       "3      8\n",
       "4      4\n",
       "Name: image_num, dtype: int64"
      ]
     },
     "execution_count": 14,
     "metadata": {},
     "output_type": "execute_result"
    }
   ],
   "source": [
    "input.train[\"image_num\"].value_counts()"
   ]
  },
  {
   "cell_type": "code",
   "execution_count": 15,
   "id": "4ef21f99-a30d-4688-8e5e-8b05a31ed43c",
   "metadata": {},
   "outputs": [
    {
     "data": {
      "text/plain": [
       "<AxesSubplot:xlabel='image_num', ylabel='Count'>"
      ]
     },
     "execution_count": 15,
     "metadata": {},
     "output_type": "execute_result"
    },
    {
     "data": {
      "image/png": "[encoded data removed]",
      "text/plain": [
       "<Figure size 432x288 with 1 Axes>"
      ]
     },
     "metadata": {
      "needs_background": "light"
     },
     "output_type": "display_data"
    }
   ],
   "source": [
    "sns.histplot(input.train[\"image_num\"])"
   ]
  },
  {
   "cell_type": "code",
   "execution_count": 16,
   "id": "7a50ebe6-beb6-4b13-9072-d92569f6fef1",
   "metadata": {},
   "outputs": [
    {
     "data": {
      "text/plain": [
       "11    257\n",
       "4     114\n",
       "7      99\n",
       "1      54\n",
       "3      49\n",
       "10     44\n",
       "5      38\n",
       "6      38\n",
       "2      29\n",
       "8      16\n",
       "9      16\n",
       "Name: center_id, dtype: int64"
      ]
     },
     "execution_count": 16,
     "metadata": {},
     "output_type": "execute_result"
    }
   ],
   "source": [
    "input.train[\"center_id\"].value_counts()"
   ]
  },
  {
   "cell_type": "code",
   "execution_count": 17,
   "id": "b683a9ae-a422-4743-a3f1-463e475b874f",
   "metadata": {},
   "outputs": [
    {
     "data": {
      "text/plain": [
       "<AxesSubplot:xlabel='center_id', ylabel='Count'>"
      ]
     },
     "execution_count": 17,
     "metadata": {},
     "output_type": "execute_result"
    },
    {
     "data": {
      "image/png": "[encoded data removed]",
      "text/plain": [
       "<Figure size 432x288 with 1 Axes>"
      ]
     },
     "metadata": {
      "needs_background": "light"
     },
     "output_type": "display_data"
    }
   ],
   "source": [
    "sns.histplot(input.train[\"center_id\"])"
   ]
  },
  {
   "cell_type": "markdown",
   "id": "c1b27f10-d078-477b-81e5-cb7914da5622",
   "metadata": {},
   "source": [
    "### 画像"
   ]
  },
  {
   "cell_type": "code",
   "execution_count": 18,
   "id": "9e777dc5-bda9-4f58-b8e2-d65bc47057d6",
   "metadata": {},
   "outputs": [
    {
     "data": {
      "text/plain": [
       "'006388_0'"
      ]
     },
     "execution_count": 18,
     "metadata": {},
     "output_type": "execute_result"
    }
   ],
   "source": [
    "sample_image_id = input.train.loc[0, \"image_id\"]\n",
    "sample_image_id"
   ]
  },
  {
   "cell_type": "code",
   "execution_count": 19,
   "id": "3f120249-a549-4aef-8f12-35858188e034",
   "metadata": {},
   "outputs": [
    {
     "data": {
      "text/plain": [
       "'/data/home/shared/mayo-clinic-strip-ai/train/006388_0.tif'"
      ]
     },
     "execution_count": 19,
     "metadata": {},
     "output_type": "execute_result"
    }
   ],
   "source": [
    "sample_image_path = os.path.join(c.settings.dirs.train_image, sample_image_id + \".tif\")\n",
    "sample_image_path"
   ]
  },
  {
   "cell_type": "code",
   "execution_count": 20,
   "id": "816ef9b0-c84b-4a8d-8acc-1eed6b74af27",
   "metadata": {},
   "outputs": [],
   "source": [
    "# image = tiff.imread(sample_image_path)"
   ]
  },
  {
   "cell_type": "code",
   "execution_count": 21,
   "id": "9404280d-f97e-4469-bea2-86641d23edcc",
   "metadata": {},
   "outputs": [],
   "source": [
    "# type(image)"
   ]
  },
  {
   "cell_type": "code",
   "execution_count": 22,
   "id": "64835e3c-5d03-495a-842d-c250bd24c697",
   "metadata": {},
   "outputs": [],
   "source": [
    "# image.shape\n",
    "# (60797, 34007, 3)"
   ]
  },
  {
   "cell_type": "code",
   "execution_count": 23,
   "id": "55a26132-67c1-4896-b934-b98564743213",
   "metadata": {},
   "outputs": [],
   "source": [
    "# plt.imshow(image, interpolation=\"nearest\")\n",
    "# plt.show()"
   ]
  },
  {
   "cell_type": "markdown",
   "id": "290edb7c-f001-4093-8a28-01c7df0d133e",
   "metadata": {},
   "source": [
    "- 006388_0.tif 1.3GB\n",
    "\n",
    "![image](https://user-images.githubusercontent.com/1638500/177932885-96f4698a-e938-4bb3-8358-8e2905c76078.png)\n",
    "\n",
    "- 86e319_1.tif 489MB\n",
    "\n",
    "![image](https://user-images.githubusercontent.com/1638500/178005877-83561ada-0b0c-4ee7-b6e3-b2814dae68b5.png)\n",
    "\n",
    "- 4ded24_0.tif 7.1MB\n",
    "\n",
    "![image](https://user-images.githubusercontent.com/1638500/178181062-e13190ae-5e8a-4ea6-bf78-7491650131ca.png)\n"
   ]
  },
  {
   "cell_type": "code",
   "execution_count": 24,
   "id": "fd1cad63-7da4-4f55-ad40-7dd4afc4417f",
   "metadata": {},
   "outputs": [],
   "source": [
    "# メモリマップ\n",
    "\n",
    "with tiff.TiffFile(sample_image_path) as f:\n",
    "    mmap = f.asarray(out=\"memmap\")"
   ]
  },
  {
   "cell_type": "code",
   "execution_count": 25,
   "id": "8f9c9bd7-6bf2-4539-9459-0a7743ed2d33",
   "metadata": {},
   "outputs": [
    {
     "data": {
      "text/plain": [
       "(60797, 34007, 3)"
      ]
     },
     "execution_count": 25,
     "metadata": {},
     "output_type": "execute_result"
    }
   ],
   "source": [
    "mmap.shape"
   ]
  },
  {
   "cell_type": "code",
   "execution_count": 26,
   "id": "e527ca81-b0bc-4d3e-83d6-5eff831539cb",
   "metadata": {},
   "outputs": [],
   "source": [
    "image_good = np.asarray(mmap[42500:47500, 2500:7500, :])"
   ]
  },
  {
   "cell_type": "code",
   "execution_count": 27,
   "id": "39517904-1d38-485a-b569-05519faa57cb",
   "metadata": {},
   "outputs": [
    {
     "data": {
      "image/png": "[encoded data removed]",
      "text/plain": [
       "<Figure size 432x288 with 1 Axes>"
      ]
     },
     "metadata": {
      "needs_background": "light"
     },
     "output_type": "display_data"
    }
   ],
   "source": [
    "plt.imshow(image_good, interpolation=\"hanning\")\n",
    "plt.show()"
   ]
  },
  {
   "cell_type": "code",
   "execution_count": 28,
   "id": "ea4bee7e-a4b4-4f18-9ef7-1c20b1e192ec",
   "metadata": {},
   "outputs": [
    {
     "data": {
      "text/plain": [
       "188.69509270666666"
      ]
     },
     "execution_count": 28,
     "metadata": {},
     "output_type": "execute_result"
    }
   ],
   "source": [
    "np.mean(image_good)"
   ]
  },
  {
   "cell_type": "code",
   "execution_count": 29,
   "id": "248c3d26-9520-4d93-b470-26e702af843d",
   "metadata": {},
   "outputs": [
    {
     "data": {
      "text/plain": [
       "252.0"
      ]
     },
     "execution_count": 29,
     "metadata": {},
     "output_type": "execute_result"
    }
   ],
   "source": [
    "np.median(image_good)"
   ]
  },
  {
   "cell_type": "code",
   "execution_count": 30,
   "id": "3116d7b5-ceca-47a5-878b-a0a373eb5ec7",
   "metadata": {},
   "outputs": [],
   "source": [
    "image_micro = np.asarray(mmap[45000:46000, 6500:7500, :])"
   ]
  },
  {
   "cell_type": "code",
   "execution_count": 31,
   "id": "15c7a116-4bce-4e34-8def-f1e5061c156f",
   "metadata": {},
   "outputs": [
    {
     "data": {
      "image/png": "[encoded data removed]",
      "text/plain": [
       "<Figure size 432x288 with 1 Axes>"
      ]
     },
     "metadata": {
      "needs_background": "light"
     },
     "output_type": "display_data"
    }
   ],
   "source": [
    "plt.imshow(image_micro, interpolation=\"hanning\")\n",
    "plt.show()"
   ]
  },
  {
   "cell_type": "code",
   "execution_count": 32,
   "id": "8f2fae6d-e6b3-46fb-afa0-3c26098a31fb",
   "metadata": {},
   "outputs": [
    {
     "data": {
      "text/plain": [
       "144.85992366666667"
      ]
     },
     "execution_count": 32,
     "metadata": {},
     "output_type": "execute_result"
    }
   ],
   "source": [
    "np.mean(image_micro)"
   ]
  },
  {
   "cell_type": "code",
   "execution_count": 33,
   "id": "8d65792d-d06a-468f-ae3f-64fbf5da6678",
   "metadata": {},
   "outputs": [
    {
     "data": {
      "text/plain": [
       "146.0"
      ]
     },
     "execution_count": 33,
     "metadata": {},
     "output_type": "execute_result"
    }
   ],
   "source": [
    "np.median(image_micro)"
   ]
  },
  {
   "cell_type": "code",
   "execution_count": 34,
   "id": "1f6ebf95-6eb3-4b4b-8426-5b869e17d6dd",
   "metadata": {},
   "outputs": [],
   "source": [
    "image_bad = np.asarray(mmap[22500:27500, 2500:7500, :])"
   ]
  },
  {
   "cell_type": "code",
   "execution_count": 35,
   "id": "a794e510-595a-472c-8017-360e79b74802",
   "metadata": {},
   "outputs": [
    {
     "data": {
      "image/png": "[encoded data removed]",
      "text/plain": [
       "<Figure size 432x288 with 1 Axes>"
      ]
     },
     "metadata": {
      "needs_background": "light"
     },
     "output_type": "display_data"
    }
   ],
   "source": [
    "plt.imshow(image_bad, interpolation=\"hanning\")\n",
    "plt.show()"
   ]
  },
  {
   "cell_type": "code",
   "execution_count": 36,
   "id": "6e83ed58-b1ca-49f3-9176-c74d9d0892f3",
   "metadata": {},
   "outputs": [
    {
     "data": {
      "text/plain": [
       "255.0"
      ]
     },
     "execution_count": 36,
     "metadata": {},
     "output_type": "execute_result"
    }
   ],
   "source": [
    "np.mean(image_bad)"
   ]
  },
  {
   "cell_type": "code",
   "execution_count": 37,
   "id": "321fb636-f0a6-4a1e-8b35-b8f83bb69725",
   "metadata": {},
   "outputs": [],
   "source": [
    "image_micro_bad = np.asarray(mmap[45000:46000, 2000:3000, :])"
   ]
  },
  {
   "cell_type": "code",
   "execution_count": 38,
   "id": "e0907e56-714d-46f3-8a89-08a83c79e522",
   "metadata": {},
   "outputs": [
    {
     "data": {
      "image/png": "[encoded data removed]",
      "text/plain": [
       "<Figure size 432x288 with 1 Axes>"
      ]
     },
     "metadata": {
      "needs_background": "light"
     },
     "output_type": "display_data"
    }
   ],
   "source": [
    "plt.imshow(image_micro_bad, interpolation=\"hanning\")\n",
    "plt.show()"
   ]
  },
  {
   "cell_type": "code",
   "execution_count": 39,
   "id": "83ea0628-8ecb-4514-93ed-588a10005b85",
   "metadata": {},
   "outputs": [
    {
     "data": {
      "text/plain": [
       "254.76309366666666"
      ]
     },
     "execution_count": 39,
     "metadata": {},
     "output_type": "execute_result"
    }
   ],
   "source": [
    "np.mean(image_micro_bad)"
   ]
  },
  {
   "cell_type": "code",
   "execution_count": 40,
   "id": "b7cde9d5-eda7-4def-a83a-c1526bd15bcc",
   "metadata": {},
   "outputs": [
    {
     "data": {
      "text/plain": [
       "255.0"
      ]
     },
     "execution_count": 40,
     "metadata": {},
     "output_type": "execute_result"
    }
   ],
   "source": [
    "np.median(image_micro_bad)"
   ]
  },
  {
   "cell_type": "code",
   "execution_count": null,
   "id": "f7b3c7f5-3890-4be0-ad9c-b44a6dab0804",
   "metadata": {},
   "outputs": [],
   "source": []
  },
  {
   "cell_type": "markdown",
   "id": "99af2206-26ca-4dd5-9655-c727abc31b56",
   "metadata": {
    "tags": []
   },
   "source": [
    "## Other Data\n",
    "\n"
   ]
  },
  {
   "cell_type": "code",
   "execution_count": 41,
   "id": "3413156d-e581-4923-9f2d-29210cc34762",
   "metadata": {},
   "outputs": [
    {
     "name": "stdout",
     "output_type": "stream",
     "text": [
      "<class 'pandas.core.frame.DataFrame'>\n",
      "RangeIndex: 396 entries, 0 to 395\n",
      "Data columns (total 7 columns):\n",
      " #   Column           Non-Null Count  Dtype  \n",
      "---  ------           --------------  -----  \n",
      " 0   image_id         396 non-null    object \n",
      " 1   patient_id       396 non-null    object \n",
      " 2   image_num        396 non-null    int8   \n",
      " 3   other_specified  62 non-null     object \n",
      " 4   label            396 non-null    int8   \n",
      " 5   label_Unknown    396 non-null    uint8  \n",
      " 6   fold             396 non-null    float32\n",
      "dtypes: float32(1), int8(2), object(3), uint8(1)\n",
      "memory usage: 12.1+ KB\n"
     ]
    }
   ],
   "source": [
    "input.other.info()"
   ]
  },
  {
   "cell_type": "code",
   "execution_count": 42,
   "id": "7f668f15-fddf-4192-981b-9b2a3a71f09d",
   "metadata": {},
   "outputs": [
    {
     "data": {
      "text/html": [
       "<div>\n",
       "<style scoped>\n",
       "    .dataframe tbody tr th:only-of-type {\n",
       "        vertical-align: middle;\n",
       "    }\n",
       "\n",
       "    .dataframe tbody tr th {\n",
       "        vertical-align: top;\n",
       "    }\n",
       "\n",
       "    .dataframe thead th {\n",
       "        text-align: right;\n",
       "    }\n",
       "</style>\n",
       "<table border=\"1\" class=\"dataframe\">\n",
       "  <thead>\n",
       "    <tr style=\"text-align: right;\">\n",
       "      <th></th>\n",
       "      <th>image_id</th>\n",
       "      <th>patient_id</th>\n",
       "      <th>image_num</th>\n",
       "      <th>other_specified</th>\n",
       "      <th>label</th>\n",
       "      <th>label_Unknown</th>\n",
       "      <th>fold</th>\n",
       "    </tr>\n",
       "  </thead>\n",
       "  <tbody>\n",
       "    <tr>\n",
       "      <th>0</th>\n",
       "      <td>01f2b3_0</td>\n",
       "      <td>01f2b3</td>\n",
       "      <td>0</td>\n",
       "      <td>NaN</td>\n",
       "      <td>2</td>\n",
       "      <td>1</td>\n",
       "      <td>0.0</td>\n",
       "    </tr>\n",
       "    <tr>\n",
       "      <th>1</th>\n",
       "      <td>01f2b3_1</td>\n",
       "      <td>01f2b3</td>\n",
       "      <td>1</td>\n",
       "      <td>NaN</td>\n",
       "      <td>2</td>\n",
       "      <td>1</td>\n",
       "      <td>0.0</td>\n",
       "    </tr>\n",
       "    <tr>\n",
       "      <th>2</th>\n",
       "      <td>02ebd5_0</td>\n",
       "      <td>02ebd5</td>\n",
       "      <td>0</td>\n",
       "      <td>NaN</td>\n",
       "      <td>2</td>\n",
       "      <td>1</td>\n",
       "      <td>1.0</td>\n",
       "    </tr>\n",
       "    <tr>\n",
       "      <th>3</th>\n",
       "      <td>0412ab_0</td>\n",
       "      <td>0412ab</td>\n",
       "      <td>0</td>\n",
       "      <td>NaN</td>\n",
       "      <td>2</td>\n",
       "      <td>1</td>\n",
       "      <td>4.0</td>\n",
       "    </tr>\n",
       "    <tr>\n",
       "      <th>4</th>\n",
       "      <td>04414e_0</td>\n",
       "      <td>04414e</td>\n",
       "      <td>0</td>\n",
       "      <td>Hypercoagulable</td>\n",
       "      <td>2</td>\n",
       "      <td>1</td>\n",
       "      <td>2.0</td>\n",
       "    </tr>\n",
       "  </tbody>\n",
       "</table>\n",
       "</div>"
      ],
      "text/plain": [
       "   image_id patient_id  image_num  other_specified  label  label_Unknown  fold\n",
       "0  01f2b3_0     01f2b3          0              NaN      2              1   0.0\n",
       "1  01f2b3_1     01f2b3          1              NaN      2              1   0.0\n",
       "2  02ebd5_0     02ebd5          0              NaN      2              1   1.0\n",
       "3  0412ab_0     0412ab          0              NaN      2              1   4.0\n",
       "4  04414e_0     04414e          0  Hypercoagulable      2              1   2.0"
      ]
     },
     "execution_count": 42,
     "metadata": {},
     "output_type": "execute_result"
    }
   ],
   "source": [
    "input.other.head()"
   ]
  },
  {
   "cell_type": "code",
   "execution_count": 43,
   "id": "cc573b7d-51f9-4e59-ba49-c28ad2c1f7f5",
   "metadata": {},
   "outputs": [
    {
     "data": {
      "text/html": [
       "<div>\n",
       "<style scoped>\n",
       "    .dataframe tbody tr th:only-of-type {\n",
       "        vertical-align: middle;\n",
       "    }\n",
       "\n",
       "    .dataframe tbody tr th {\n",
       "        vertical-align: top;\n",
       "    }\n",
       "\n",
       "    .dataframe thead th {\n",
       "        text-align: right;\n",
       "    }\n",
       "</style>\n",
       "<table border=\"1\" class=\"dataframe\">\n",
       "  <thead>\n",
       "    <tr style=\"text-align: right;\">\n",
       "      <th></th>\n",
       "      <th>image_id</th>\n",
       "      <th>patient_id</th>\n",
       "      <th>image_num</th>\n",
       "      <th>other_specified</th>\n",
       "      <th>label</th>\n",
       "      <th>label_Unknown</th>\n",
       "      <th>fold</th>\n",
       "    </tr>\n",
       "  </thead>\n",
       "  <tbody>\n",
       "    <tr>\n",
       "      <th>391</th>\n",
       "      <td>faaa7e_0</td>\n",
       "      <td>faaa7e</td>\n",
       "      <td>0</td>\n",
       "      <td>NaN</td>\n",
       "      <td>2</td>\n",
       "      <td>1</td>\n",
       "      <td>4.0</td>\n",
       "    </tr>\n",
       "    <tr>\n",
       "      <th>392</th>\n",
       "      <td>fd0f11_0</td>\n",
       "      <td>fd0f11</td>\n",
       "      <td>0</td>\n",
       "      <td>NaN</td>\n",
       "      <td>2</td>\n",
       "      <td>1</td>\n",
       "      <td>1.0</td>\n",
       "    </tr>\n",
       "    <tr>\n",
       "      <th>393</th>\n",
       "      <td>fd0f11_1</td>\n",
       "      <td>fd0f11</td>\n",
       "      <td>1</td>\n",
       "      <td>NaN</td>\n",
       "      <td>2</td>\n",
       "      <td>1</td>\n",
       "      <td>1.0</td>\n",
       "    </tr>\n",
       "    <tr>\n",
       "      <th>394</th>\n",
       "      <td>fd83c3_0</td>\n",
       "      <td>fd83c3</td>\n",
       "      <td>0</td>\n",
       "      <td>NaN</td>\n",
       "      <td>2</td>\n",
       "      <td>1</td>\n",
       "      <td>2.0</td>\n",
       "    </tr>\n",
       "    <tr>\n",
       "      <th>395</th>\n",
       "      <td>febb2b_0</td>\n",
       "      <td>febb2b</td>\n",
       "      <td>0</td>\n",
       "      <td>NaN</td>\n",
       "      <td>2</td>\n",
       "      <td>1</td>\n",
       "      <td>3.0</td>\n",
       "    </tr>\n",
       "  </tbody>\n",
       "</table>\n",
       "</div>"
      ],
      "text/plain": [
       "     image_id patient_id  image_num other_specified  label  label_Unknown  \\\n",
       "391  faaa7e_0     faaa7e          0             NaN      2              1   \n",
       "392  fd0f11_0     fd0f11          0             NaN      2              1   \n",
       "393  fd0f11_1     fd0f11          1             NaN      2              1   \n",
       "394  fd83c3_0     fd83c3          0             NaN      2              1   \n",
       "395  febb2b_0     febb2b          0             NaN      2              1   \n",
       "\n",
       "     fold  \n",
       "391   4.0  \n",
       "392   1.0  \n",
       "393   1.0  \n",
       "394   2.0  \n",
       "395   3.0  "
      ]
     },
     "execution_count": 43,
     "metadata": {},
     "output_type": "execute_result"
    }
   ],
   "source": [
    "input.other.tail()"
   ]
  },
  {
   "cell_type": "code",
   "execution_count": 44,
   "id": "345140d2-1081-44e1-b5fc-c76e5989212f",
   "metadata": {},
   "outputs": [
    {
     "data": {
      "text/html": [
       "<div>\n",
       "<style scoped>\n",
       "    .dataframe tbody tr th:only-of-type {\n",
       "        vertical-align: middle;\n",
       "    }\n",
       "\n",
       "    .dataframe tbody tr th {\n",
       "        vertical-align: top;\n",
       "    }\n",
       "\n",
       "    .dataframe thead th {\n",
       "        text-align: right;\n",
       "    }\n",
       "</style>\n",
       "<table border=\"1\" class=\"dataframe\">\n",
       "  <thead>\n",
       "    <tr style=\"text-align: right;\">\n",
       "      <th></th>\n",
       "      <th>image_num</th>\n",
       "      <th>label</th>\n",
       "      <th>label_Unknown</th>\n",
       "      <th>fold</th>\n",
       "    </tr>\n",
       "  </thead>\n",
       "  <tbody>\n",
       "    <tr>\n",
       "      <th>count</th>\n",
       "      <td>396.000000</td>\n",
       "      <td>396.0</td>\n",
       "      <td>396.0</td>\n",
       "      <td>396.000000</td>\n",
       "    </tr>\n",
       "    <tr>\n",
       "      <th>mean</th>\n",
       "      <td>0.196970</td>\n",
       "      <td>2.0</td>\n",
       "      <td>1.0</td>\n",
       "      <td>1.909091</td>\n",
       "    </tr>\n",
       "    <tr>\n",
       "      <th>std</th>\n",
       "      <td>0.529237</td>\n",
       "      <td>0.0</td>\n",
       "      <td>0.0</td>\n",
       "      <td>1.418438</td>\n",
       "    </tr>\n",
       "    <tr>\n",
       "      <th>min</th>\n",
       "      <td>0.000000</td>\n",
       "      <td>2.0</td>\n",
       "      <td>1.0</td>\n",
       "      <td>0.000000</td>\n",
       "    </tr>\n",
       "    <tr>\n",
       "      <th>25%</th>\n",
       "      <td>0.000000</td>\n",
       "      <td>2.0</td>\n",
       "      <td>1.0</td>\n",
       "      <td>1.000000</td>\n",
       "    </tr>\n",
       "    <tr>\n",
       "      <th>50%</th>\n",
       "      <td>0.000000</td>\n",
       "      <td>2.0</td>\n",
       "      <td>1.0</td>\n",
       "      <td>2.000000</td>\n",
       "    </tr>\n",
       "    <tr>\n",
       "      <th>75%</th>\n",
       "      <td>0.000000</td>\n",
       "      <td>2.0</td>\n",
       "      <td>1.0</td>\n",
       "      <td>3.000000</td>\n",
       "    </tr>\n",
       "    <tr>\n",
       "      <th>max</th>\n",
       "      <td>4.000000</td>\n",
       "      <td>2.0</td>\n",
       "      <td>1.0</td>\n",
       "      <td>4.000000</td>\n",
       "    </tr>\n",
       "  </tbody>\n",
       "</table>\n",
       "</div>"
      ],
      "text/plain": [
       "        image_num  label  label_Unknown        fold\n",
       "count  396.000000  396.0          396.0  396.000000\n",
       "mean     0.196970    2.0            1.0    1.909091\n",
       "std      0.529237    0.0            0.0    1.418438\n",
       "min      0.000000    2.0            1.0    0.000000\n",
       "25%      0.000000    2.0            1.0    1.000000\n",
       "50%      0.000000    2.0            1.0    2.000000\n",
       "75%      0.000000    2.0            1.0    3.000000\n",
       "max      4.000000    2.0            1.0    4.000000"
      ]
     },
     "execution_count": 44,
     "metadata": {},
     "output_type": "execute_result"
    }
   ],
   "source": [
    "input.other.describe()"
   ]
  },
  {
   "cell_type": "code",
   "execution_count": 45,
   "id": "1bdae120-1005-41df-80a7-3068fa6bb831",
   "metadata": {},
   "outputs": [
    {
     "data": {
      "text/html": [
       "<div>\n",
       "<style scoped>\n",
       "    .dataframe tbody tr th:only-of-type {\n",
       "        vertical-align: middle;\n",
       "    }\n",
       "\n",
       "    .dataframe tbody tr th {\n",
       "        vertical-align: top;\n",
       "    }\n",
       "\n",
       "    .dataframe thead th {\n",
       "        text-align: right;\n",
       "    }\n",
       "</style>\n",
       "<table border=\"1\" class=\"dataframe\">\n",
       "  <thead>\n",
       "    <tr style=\"text-align: right;\">\n",
       "      <th></th>\n",
       "      <th>カラム名</th>\n",
       "      <th>ユニーク値数</th>\n",
       "      <th>最頻値</th>\n",
       "      <th>最頻値の出現回数</th>\n",
       "      <th>最頻値の割合</th>\n",
       "      <th>欠損値の数</th>\n",
       "      <th>欠損値の割合</th>\n",
       "      <th>タイプ</th>\n",
       "    </tr>\n",
       "  </thead>\n",
       "  <tbody>\n",
       "    <tr>\n",
       "      <th>0</th>\n",
       "      <td>image_id</td>\n",
       "      <td>396</td>\n",
       "      <td>01f2b3_0</td>\n",
       "      <td>1</td>\n",
       "      <td>0.252525</td>\n",
       "      <td>0</td>\n",
       "      <td>0.000000</td>\n",
       "      <td>object</td>\n",
       "    </tr>\n",
       "    <tr>\n",
       "      <th>1</th>\n",
       "      <td>patient_id</td>\n",
       "      <td>336</td>\n",
       "      <td>0b5827</td>\n",
       "      <td>5</td>\n",
       "      <td>1.262626</td>\n",
       "      <td>0</td>\n",
       "      <td>0.000000</td>\n",
       "      <td>object</td>\n",
       "    </tr>\n",
       "    <tr>\n",
       "      <th>2</th>\n",
       "      <td>image_num</td>\n",
       "      <td>5</td>\n",
       "      <td>0</td>\n",
       "      <td>336</td>\n",
       "      <td>84.848485</td>\n",
       "      <td>0</td>\n",
       "      <td>0.000000</td>\n",
       "      <td>int8</td>\n",
       "    </tr>\n",
       "    <tr>\n",
       "      <th>3</th>\n",
       "      <td>other_specified</td>\n",
       "      <td>9</td>\n",
       "      <td>Dissection</td>\n",
       "      <td>27</td>\n",
       "      <td>84.343434</td>\n",
       "      <td>334</td>\n",
       "      <td>84.343434</td>\n",
       "      <td>object</td>\n",
       "    </tr>\n",
       "    <tr>\n",
       "      <th>4</th>\n",
       "      <td>label</td>\n",
       "      <td>1</td>\n",
       "      <td>2</td>\n",
       "      <td>396</td>\n",
       "      <td>100.000000</td>\n",
       "      <td>0</td>\n",
       "      <td>0.000000</td>\n",
       "      <td>int8</td>\n",
       "    </tr>\n",
       "    <tr>\n",
       "      <th>5</th>\n",
       "      <td>label_Unknown</td>\n",
       "      <td>1</td>\n",
       "      <td>1</td>\n",
       "      <td>396</td>\n",
       "      <td>100.000000</td>\n",
       "      <td>0</td>\n",
       "      <td>0.000000</td>\n",
       "      <td>uint8</td>\n",
       "    </tr>\n",
       "    <tr>\n",
       "      <th>6</th>\n",
       "      <td>fold</td>\n",
       "      <td>5</td>\n",
       "      <td>0.0</td>\n",
       "      <td>87</td>\n",
       "      <td>21.969697</td>\n",
       "      <td>0</td>\n",
       "      <td>0.000000</td>\n",
       "      <td>float32</td>\n",
       "    </tr>\n",
       "  </tbody>\n",
       "</table>\n",
       "</div>"
      ],
      "text/plain": [
       "              カラム名  ユニーク値数         最頻値  最頻値の出現回数      最頻値の割合  欠損値の数  \\\n",
       "0         image_id     396    01f2b3_0         1    0.252525      0   \n",
       "1       patient_id     336      0b5827         5    1.262626      0   \n",
       "2        image_num       5           0       336   84.848485      0   \n",
       "3  other_specified       9  Dissection        27   84.343434    334   \n",
       "4            label       1           2       396  100.000000      0   \n",
       "5    label_Unknown       1           1       396  100.000000      0   \n",
       "6             fold       5         0.0        87   21.969697      0   \n",
       "\n",
       "      欠損値の割合      タイプ  \n",
       "0   0.000000   object  \n",
       "1   0.000000   object  \n",
       "2   0.000000     int8  \n",
       "3  84.343434   object  \n",
       "4   0.000000     int8  \n",
       "5   0.000000    uint8  \n",
       "6   0.000000  float32  "
      ]
     },
     "execution_count": 45,
     "metadata": {},
     "output_type": "execute_result"
    }
   ],
   "source": [
    "df_stats(input.other)"
   ]
  },
  {
   "cell_type": "markdown",
   "id": "432962df-321f-4170-8a48-f4c4ffe41096",
   "metadata": {
    "tags": []
   },
   "source": [
    "### ラベル分布\n"
   ]
  },
  {
   "cell_type": "code",
   "execution_count": 46,
   "id": "98da9c33-486a-4b0f-bd3d-9b5c8fac1226",
   "metadata": {},
   "outputs": [
    {
     "data": {
      "text/plain": [
       "2    396\n",
       "Name: label, dtype: int64"
      ]
     },
     "execution_count": 46,
     "metadata": {},
     "output_type": "execute_result"
    }
   ],
   "source": [
    "input.other[c.settings.label_name].value_counts()"
   ]
  },
  {
   "cell_type": "code",
   "execution_count": 47,
   "id": "8b4614bc-e4de-4929-af6d-ecaf7c97b891",
   "metadata": {},
   "outputs": [
    {
     "data": {
      "text/plain": [
       "<AxesSubplot:xlabel='label', ylabel='Count'>"
      ]
     },
     "execution_count": 47,
     "metadata": {},
     "output_type": "execute_result"
    },
    {
     "data": {
      "image/png": "[encoded data removed]",
      "text/plain": [
       "<Figure size 432x288 with 1 Axes>"
      ]
     },
     "metadata": {
      "needs_background": "light"
     },
     "output_type": "display_data"
    }
   ],
   "source": [
    "sns.histplot(input.other[c.settings.label_name])"
   ]
  },
  {
   "cell_type": "code",
   "execution_count": 48,
   "id": "4445d8eb-a8f8-427f-90ae-e98da2354825",
   "metadata": {},
   "outputs": [
    {
     "data": {
      "text/plain": [
       "Dissection             27\n",
       "Hypercoagulable        14\n",
       "PFO                    10\n",
       "Stent thrombosis        3\n",
       "Catheter                2\n",
       "Trauma                  2\n",
       "Takayasu vasculitis     2\n",
       "tumor embolization      1\n",
       "Endocarditis            1\n",
       "Name: other_specified, dtype: int64"
      ]
     },
     "execution_count": 48,
     "metadata": {},
     "output_type": "execute_result"
    }
   ],
   "source": [
    "input.other[\"other_specified\"].value_counts()"
   ]
  },
  {
   "cell_type": "code",
   "execution_count": 49,
   "id": "b515c974-d519-4dfb-82bf-b78479fb3fa4",
   "metadata": {},
   "outputs": [
    {
     "data": {
      "text/plain": [
       "<AxesSubplot:xlabel='other_specified', ylabel='Count'>"
      ]
     },
     "execution_count": 49,
     "metadata": {},
     "output_type": "execute_result"
    },
    {
     "data": {
      "image/png": "[encoded data removed]",
      "text/plain": [
       "<Figure size 432x288 with 1 Axes>"
      ]
     },
     "metadata": {
      "needs_background": "light"
     },
     "output_type": "display_data"
    }
   ],
   "source": [
    "sns.histplot(input.other[\"other_specified\"])"
   ]
  },
  {
   "cell_type": "markdown",
   "id": "295f3353-5eec-4053-905b-c018b8d0d6f1",
   "metadata": {},
   "source": [
    "### 特徴量分布"
   ]
  },
  {
   "cell_type": "code",
   "execution_count": 50,
   "id": "d40eee27-28ad-4d1a-a9ec-346a93e1b9d6",
   "metadata": {},
   "outputs": [
    {
     "data": {
      "text/plain": [
       "0    336\n",
       "1     47\n",
       "2      9\n",
       "3      3\n",
       "4      1\n",
       "Name: image_num, dtype: int64"
      ]
     },
     "execution_count": 50,
     "metadata": {},
     "output_type": "execute_result"
    }
   ],
   "source": [
    "input.other[\"image_num\"].value_counts()"
   ]
  },
  {
   "cell_type": "code",
   "execution_count": 51,
   "id": "b873b8b6-b8df-462d-9d82-34e9f470bda3",
   "metadata": {},
   "outputs": [
    {
     "data": {
      "text/plain": [
       "<AxesSubplot:xlabel='image_num', ylabel='Count'>"
      ]
     },
     "execution_count": 51,
     "metadata": {},
     "output_type": "execute_result"
    },
    {
     "data": {
      "image/png": "[encoded data removed]",
      "text/plain": [
       "<Figure size 432x288 with 1 Axes>"
      ]
     },
     "metadata": {
      "needs_background": "light"
     },
     "output_type": "display_data"
    }
   ],
   "source": [
    "sns.histplot(input.other[\"image_num\"])"
   ]
  },
  {
   "cell_type": "code",
   "execution_count": null,
   "id": "fcd86f86-8caa-4c0f-89fb-ff90b3cd32b3",
   "metadata": {},
   "outputs": [],
   "source": []
  },
  {
   "cell_type": "code",
   "execution_count": null,
   "id": "580b97e5-94b4-455a-b98e-e29d8018e6e8",
   "metadata": {},
   "outputs": [],
   "source": []
  },
  {
   "cell_type": "markdown",
   "id": "c30565b8-00e3-4a10-a9bc-1cb6a79fd391",
   "metadata": {},
   "source": [
    "## Test Data\n"
   ]
  },
  {
   "cell_type": "code",
   "execution_count": 52,
   "id": "802e9a5c-aa6d-4645-a4ee-4aafd2e1f817",
   "metadata": {},
   "outputs": [
    {
     "name": "stdout",
     "output_type": "stream",
     "text": [
      "<class 'pandas.core.frame.DataFrame'>\n",
      "RangeIndex: 4 entries, 0 to 3\n",
      "Data columns (total 4 columns):\n",
      " #   Column      Non-Null Count  Dtype \n",
      "---  ------      --------------  ----- \n",
      " 0   image_id    4 non-null      object\n",
      " 1   center_id   4 non-null      int8  \n",
      " 2   patient_id  4 non-null      object\n",
      " 3   image_num   4 non-null      int8  \n",
      "dtypes: int8(2), object(2)\n",
      "memory usage: 200.0+ bytes\n"
     ]
    }
   ],
   "source": [
    "input.test.info()"
   ]
  },
  {
   "cell_type": "code",
   "execution_count": 53,
   "id": "d95daa30-b794-46a0-beac-e16a49d34fc5",
   "metadata": {},
   "outputs": [
    {
     "data": {
      "text/html": [
       "<div>\n",
       "<style scoped>\n",
       "    .dataframe tbody tr th:only-of-type {\n",
       "        vertical-align: middle;\n",
       "    }\n",
       "\n",
       "    .dataframe tbody tr th {\n",
       "        vertical-align: top;\n",
       "    }\n",
       "\n",
       "    .dataframe thead th {\n",
       "        text-align: right;\n",
       "    }\n",
       "</style>\n",
       "<table border=\"1\" class=\"dataframe\">\n",
       "  <thead>\n",
       "    <tr style=\"text-align: right;\">\n",
       "      <th></th>\n",
       "      <th>image_id</th>\n",
       "      <th>center_id</th>\n",
       "      <th>patient_id</th>\n",
       "      <th>image_num</th>\n",
       "    </tr>\n",
       "  </thead>\n",
       "  <tbody>\n",
       "    <tr>\n",
       "      <th>0</th>\n",
       "      <td>006388_0</td>\n",
       "      <td>11</td>\n",
       "      <td>006388</td>\n",
       "      <td>0</td>\n",
       "    </tr>\n",
       "    <tr>\n",
       "      <th>1</th>\n",
       "      <td>008e5c_0</td>\n",
       "      <td>11</td>\n",
       "      <td>008e5c</td>\n",
       "      <td>0</td>\n",
       "    </tr>\n",
       "    <tr>\n",
       "      <th>2</th>\n",
       "      <td>00c058_0</td>\n",
       "      <td>11</td>\n",
       "      <td>00c058</td>\n",
       "      <td>0</td>\n",
       "    </tr>\n",
       "    <tr>\n",
       "      <th>3</th>\n",
       "      <td>01adc5_0</td>\n",
       "      <td>11</td>\n",
       "      <td>01adc5</td>\n",
       "      <td>0</td>\n",
       "    </tr>\n",
       "  </tbody>\n",
       "</table>\n",
       "</div>"
      ],
      "text/plain": [
       "   image_id  center_id patient_id  image_num\n",
       "0  006388_0         11     006388          0\n",
       "1  008e5c_0         11     008e5c          0\n",
       "2  00c058_0         11     00c058          0\n",
       "3  01adc5_0         11     01adc5          0"
      ]
     },
     "execution_count": 53,
     "metadata": {},
     "output_type": "execute_result"
    }
   ],
   "source": [
    "input.test.head()"
   ]
  },
  {
   "cell_type": "code",
   "execution_count": null,
   "id": "d1bf84ba-73c2-4b82-8a67-cd57292e22a3",
   "metadata": {},
   "outputs": [],
   "source": []
  },
  {
   "cell_type": "markdown",
   "id": "aceea92d-f930-450e-9e67-9cbe29621066",
   "metadata": {},
   "source": [
    "## Sample Submission\n",
    "\n",
    "\n"
   ]
  },
  {
   "cell_type": "code",
   "execution_count": 54,
   "id": "2df70572-0ba7-495a-bc6c-c619f369d4e9",
   "metadata": {},
   "outputs": [
    {
     "name": "stdout",
     "output_type": "stream",
     "text": [
      "<class 'pandas.core.frame.DataFrame'>\n",
      "RangeIndex: 4 entries, 0 to 3\n",
      "Data columns (total 3 columns):\n",
      " #   Column      Non-Null Count  Dtype  \n",
      "---  ------      --------------  -----  \n",
      " 0   patient_id  4 non-null      object \n",
      " 1   CE          4 non-null      float32\n",
      " 2   LAA         4 non-null      float32\n",
      "dtypes: float32(2), object(1)\n",
      "memory usage: 192.0+ bytes\n"
     ]
    }
   ],
   "source": [
    "input.sample_submission.info()"
   ]
  },
  {
   "cell_type": "code",
   "execution_count": 55,
   "id": "0f7b2bb9-eff5-48ca-af5a-c43ea024df69",
   "metadata": {},
   "outputs": [
    {
     "data": {
      "text/html": [
       "<div>\n",
       "<style scoped>\n",
       "    .dataframe tbody tr th:only-of-type {\n",
       "        vertical-align: middle;\n",
       "    }\n",
       "\n",
       "    .dataframe tbody tr th {\n",
       "        vertical-align: top;\n",
       "    }\n",
       "\n",
       "    .dataframe thead th {\n",
       "        text-align: right;\n",
       "    }\n",
       "</style>\n",
       "<table border=\"1\" class=\"dataframe\">\n",
       "  <thead>\n",
       "    <tr style=\"text-align: right;\">\n",
       "      <th></th>\n",
       "      <th>patient_id</th>\n",
       "      <th>CE</th>\n",
       "      <th>LAA</th>\n",
       "    </tr>\n",
       "  </thead>\n",
       "  <tbody>\n",
       "    <tr>\n",
       "      <th>0</th>\n",
       "      <td>006388</td>\n",
       "      <td>0.5</td>\n",
       "      <td>0.5</td>\n",
       "    </tr>\n",
       "    <tr>\n",
       "      <th>1</th>\n",
       "      <td>008e5c</td>\n",
       "      <td>0.5</td>\n",
       "      <td>0.5</td>\n",
       "    </tr>\n",
       "    <tr>\n",
       "      <th>2</th>\n",
       "      <td>00c058</td>\n",
       "      <td>0.5</td>\n",
       "      <td>0.5</td>\n",
       "    </tr>\n",
       "    <tr>\n",
       "      <th>3</th>\n",
       "      <td>01adc5</td>\n",
       "      <td>0.5</td>\n",
       "      <td>0.5</td>\n",
       "    </tr>\n",
       "  </tbody>\n",
       "</table>\n",
       "</div>"
      ],
      "text/plain": [
       "  patient_id   CE  LAA\n",
       "0     006388  0.5  0.5\n",
       "1     008e5c  0.5  0.5\n",
       "2     00c058  0.5  0.5\n",
       "3     01adc5  0.5  0.5"
      ]
     },
     "execution_count": 55,
     "metadata": {},
     "output_type": "execute_result"
    }
   ],
   "source": [
    "input.sample_submission.head()"
   ]
  },
  {
   "cell_type": "code",
   "execution_count": null,
   "id": "127d3ab4-dc5d-45d4-b3ea-5622c6dc3782",
   "metadata": {},
   "outputs": [],
   "source": []
  },
  {
   "cell_type": "code",
   "execution_count": null,
   "id": "60dbe123-d056-4756-b593-e4501a57bd3d",
   "metadata": {},
   "outputs": [],
   "source": []
  },
  {
   "cell_type": "code",
   "execution_count": null,
   "id": "6402e047-40ee-44aa-b244-a60b11be0a2d",
   "metadata": {},
   "outputs": [],
   "source": []
  },
  {
   "cell_type": "markdown",
   "id": "2f9830c1-c469-4597-9b5a-69879ac4da83",
   "metadata": {},
   "source": [
    "## Preprocess\n",
    "\n",
    "規定した大きさで slice して、白紙部分が多かったら、その画像は捨てる。"
   ]
  },
  {
   "cell_type": "code",
   "execution_count": 56,
   "id": "a4012c37-1a3c-47fc-8421-5263893e04f9",
   "metadata": {},
   "outputs": [],
   "source": [
    "sliced_images = glob.glob(\"../preprocess/train/*.npy\")"
   ]
  },
  {
   "cell_type": "code",
   "execution_count": 57,
   "id": "36dd413d-a564-498d-a2f2-0b06bb563c4c",
   "metadata": {},
   "outputs": [
    {
     "data": {
      "text/plain": [
       "'../preprocess/train/008e5c_0_1024.npy'"
      ]
     },
     "execution_count": 57,
     "metadata": {},
     "output_type": "execute_result"
    }
   ],
   "source": [
    "sliced_images[1]"
   ]
  },
  {
   "cell_type": "code",
   "execution_count": 58,
   "id": "2681f92e-f8af-417c-8d92-08772105fc33",
   "metadata": {},
   "outputs": [
    {
     "data": {
      "text/plain": [
       "Int64Index([407], dtype='int64')"
      ]
     },
     "execution_count": 58,
     "metadata": {},
     "output_type": "execute_result"
    }
   ],
   "source": [
    "input.train[input.train[\"image_id\"] == \"86e319_1\"].index"
   ]
  },
  {
   "cell_type": "code",
   "execution_count": 59,
   "id": "25fe2460-ef61-44e3-8b1b-5cb4e5215331",
   "metadata": {},
   "outputs": [
    {
     "data": {
      "text/plain": [
       "1508"
      ]
     },
     "execution_count": 59,
     "metadata": {},
     "output_type": "execute_result"
    }
   ],
   "source": [
    "len(sliced_images)"
   ]
  },
  {
   "cell_type": "code",
   "execution_count": 60,
   "id": "2276585b-bc05-4952-9a9c-48a8b72bf53b",
   "metadata": {},
   "outputs": [
    {
     "data": {
      "image/png": "[encoded data removed]",
      "text/plain": [
       "<Figure size 432x288 with 1 Axes>"
      ]
     },
     "metadata": {
      "needs_background": "light"
     },
     "output_type": "display_data"
    }
   ],
   "source": [
    "array = np.load(sliced_images[1], allow_pickle=True)\n",
    "plt.imshow(array, interpolation=\"hanning\")\n",
    "plt.show()"
   ]
  },
  {
   "cell_type": "code",
   "execution_count": 61,
   "id": "05f2fe4e-2bce-41cd-bb36-26e0e48e0376",
   "metadata": {},
   "outputs": [
    {
     "data": {
      "text/plain": [
       "232.8652311960856"
      ]
     },
     "execution_count": 61,
     "metadata": {},
     "output_type": "execute_result"
    }
   ],
   "source": [
    "array.mean()"
   ]
  },
  {
   "cell_type": "code",
   "execution_count": 62,
   "id": "4b8fae21-d909-4905-8f10-5010524c27c0",
   "metadata": {},
   "outputs": [
    {
     "data": {
      "image/png": "[encoded data removed]",
      "text/plain": [
       "<Figure size 432x288 with 1 Axes>"
      ]
     },
     "metadata": {
      "needs_background": "light"
     },
     "output_type": "display_data"
    }
   ],
   "source": [
    "array = np.load(sliced_images[-1], allow_pickle=True)\n",
    "plt.imshow(array, interpolation=\"hanning\")\n",
    "plt.show()"
   ]
  },
  {
   "cell_type": "code",
   "execution_count": 63,
   "id": "7bf5eee2-6b66-47ec-9cc4-d9de70461fff",
   "metadata": {},
   "outputs": [
    {
     "data": {
      "text/plain": [
       "244.22024154663086"
      ]
     },
     "execution_count": 63,
     "metadata": {},
     "output_type": "execute_result"
    }
   ],
   "source": [
    "array.mean()"
   ]
  },
  {
   "cell_type": "code",
   "execution_count": null,
   "id": "d1451b72-027e-4acc-b63d-31151d22cc5b",
   "metadata": {},
   "outputs": [],
   "source": []
  },
  {
   "cell_type": "code",
   "execution_count": null,
   "id": "b10f00a9-9ad5-4be9-b667-5d3570d92a40",
   "metadata": {},
   "outputs": [],
   "source": []
  },
  {
   "cell_type": "markdown",
   "id": "d17104da-1652-4f65-a9eb-d32d51c896ad",
   "metadata": {},
   "source": [
    "## Dataset"
   ]
  },
  {
   "cell_type": "code",
   "execution_count": 64,
   "id": "6d349784-6dee-4d3a-aaa0-ec39416fbb8e",
   "metadata": {},
   "outputs": [
    {
     "ename": "ValueError",
     "evalue": "The truth value of a Series is ambiguous. Use a.empty, a.bool(), a.item(), a.any() or a.all().",
     "output_type": "error",
     "traceback": [
      "\u001b[0;31m---------------------------------------------------------------------------\u001b[0m",
      "\u001b[0;31mValueError\u001b[0m                                Traceback (most recent call last)",
      "Input \u001b[0;32mIn [64]\u001b[0m, in \u001b[0;36m<cell line: 4>\u001b[0;34m()\u001b[0m\n\u001b[1;32m      2\u001b[0m ds \u001b[38;5;241m=\u001b[39m BaseDataset(c, pd\u001b[38;5;241m.\u001b[39mconcat([\u001b[38;5;28minput\u001b[39m\u001b[38;5;241m.\u001b[39mtrain, \u001b[38;5;28minput\u001b[39m\u001b[38;5;241m.\u001b[39mother]))\n\u001b[1;32m      4\u001b[0m \u001b[38;5;28;01mfor\u001b[39;00m i \u001b[38;5;129;01min\u001b[39;00m \u001b[38;5;28mrange\u001b[39m(\u001b[38;5;241m1\u001b[39m):\n\u001b[0;32m----> 5\u001b[0m     image, label \u001b[38;5;241m=\u001b[39m \u001b[43mds\u001b[49m\u001b[43m[\u001b[49m\u001b[43mi\u001b[49m\u001b[43m]\u001b[49m\n\u001b[1;32m      6\u001b[0m     plt\u001b[38;5;241m.\u001b[39mimshow(image)\n\u001b[1;32m      7\u001b[0m     plt\u001b[38;5;241m.\u001b[39mtitle(\u001b[38;5;124mf\u001b[39m\u001b[38;5;124m\"\u001b[39m\u001b[38;5;124mlabel: \u001b[39m\u001b[38;5;132;01m{\u001b[39;00mlabel\u001b[38;5;132;01m}\u001b[39;00m\u001b[38;5;124m\"\u001b[39m)\n",
      "File \u001b[0;32m/data/jupyter/sugiyama/kaggle-mayo-clinic-strip-ai/notebook/../working/src/make_dataset.py:116\u001b[0m, in \u001b[0;36mBaseDataset.__getitem__\u001b[0;34m(self, idx)\u001b[0m\n\u001b[1;32m    114\u001b[0m \u001b[38;5;28;01mif\u001b[39;00m \u001b[38;5;28mself\u001b[39m\u001b[38;5;241m.\u001b[39muse_label:\n\u001b[1;32m    115\u001b[0m     label \u001b[38;5;241m=\u001b[39m \u001b[38;5;28mself\u001b[39m\u001b[38;5;241m.\u001b[39mlabels[idx]\n\u001b[0;32m--> 116\u001b[0m     \u001b[38;5;28;01mif\u001b[39;00m label \u001b[38;5;241m==\u001b[39m \u001b[38;5;241m2\u001b[39m:  \u001b[38;5;66;03m# Unknown\u001b[39;00m\n\u001b[1;32m    117\u001b[0m         image_path \u001b[38;5;241m=\u001b[39m \u001b[38;5;124mf\u001b[39m\u001b[38;5;124m\"\u001b[39m\u001b[38;5;132;01m{\u001b[39;00m\u001b[38;5;28mself\u001b[39m\u001b[38;5;241m.\u001b[39mpreprocess_dir\u001b[38;5;132;01m}\u001b[39;00m\u001b[38;5;124m/other/\u001b[39m\u001b[38;5;132;01m{\u001b[39;00mimage_id\u001b[38;5;132;01m}\u001b[39;00m\u001b[38;5;124m_\u001b[39m\u001b[38;5;132;01m{\u001b[39;00m\u001b[38;5;28mself\u001b[39m\u001b[38;5;241m.\u001b[39mimage_size\u001b[38;5;132;01m}\u001b[39;00m\u001b[38;5;124m.npy\u001b[39m\u001b[38;5;124m\"\u001b[39m\n\u001b[1;32m    118\u001b[0m     \u001b[38;5;28;01melse\u001b[39;00m:\n",
      "File \u001b[0;32m/opt/miniconda3/envs/develop-rapids/lib/python3.9/site-packages/pandas/core/generic.py:1537\u001b[0m, in \u001b[0;36mNDFrame.__nonzero__\u001b[0;34m(self)\u001b[0m\n\u001b[1;32m   1535\u001b[0m \u001b[38;5;129m@final\u001b[39m\n\u001b[1;32m   1536\u001b[0m \u001b[38;5;28;01mdef\u001b[39;00m \u001b[38;5;21m__nonzero__\u001b[39m(\u001b[38;5;28mself\u001b[39m):\n\u001b[0;32m-> 1537\u001b[0m     \u001b[38;5;28;01mraise\u001b[39;00m \u001b[38;5;167;01mValueError\u001b[39;00m(\n\u001b[1;32m   1538\u001b[0m         \u001b[38;5;124mf\u001b[39m\u001b[38;5;124m\"\u001b[39m\u001b[38;5;124mThe truth value of a \u001b[39m\u001b[38;5;132;01m{\u001b[39;00m\u001b[38;5;28mtype\u001b[39m(\u001b[38;5;28mself\u001b[39m)\u001b[38;5;241m.\u001b[39m\u001b[38;5;18m__name__\u001b[39m\u001b[38;5;132;01m}\u001b[39;00m\u001b[38;5;124m is ambiguous. \u001b[39m\u001b[38;5;124m\"\u001b[39m\n\u001b[1;32m   1539\u001b[0m         \u001b[38;5;124m\"\u001b[39m\u001b[38;5;124mUse a.empty, a.bool(), a.item(), a.any() or a.all().\u001b[39m\u001b[38;5;124m\"\u001b[39m\n\u001b[1;32m   1540\u001b[0m     )\n",
      "\u001b[0;31mValueError\u001b[0m: The truth value of a Series is ambiguous. Use a.empty, a.bool(), a.item(), a.any() or a.all()."
     ]
    }
   ],
   "source": [
    "# ds = BaseDataset(c, input.train)\n",
    "ds = BaseDataset(c, pd.concat([input.train, input.other]))\n",
    "\n",
    "for i in range(1):\n",
    "    image, label = ds[i]\n",
    "    plt.imshow(image)\n",
    "    plt.title(f\"label: {label}\")\n",
    "    plt.show()"
   ]
  },
  {
   "cell_type": "code",
   "execution_count": null,
   "id": "2baaea9d-3957-4ed4-a052-40de8184b00a",
   "metadata": {},
   "outputs": [],
   "source": [
    "# ds = BaseDataset(c, input.train, transform=get_transforms(c, \"light\"))\n",
    "ds = BaseDataset(c, pd.concat([input.train, input.other]), transform=get_transforms(c, \"light\"))\n",
    "\n",
    "for i in range(1):\n",
    "    image, label = ds[i]\n",
    "    plt.imshow(image[0])\n",
    "    plt.title(f\"label: {label}\")\n",
    "    plt.show()"
   ]
  },
  {
   "cell_type": "code",
   "execution_count": null,
   "id": "29d3c96f-4f5c-4e22-987b-9d28e536471b",
   "metadata": {},
   "outputs": [],
   "source": []
  },
  {
   "cell_type": "markdown",
   "id": "3903b3c0-a7fd-4c00-8e4e-2b06736c96bc",
   "metadata": {},
   "source": [
    "## Model"
   ]
  },
  {
   "cell_type": "code",
   "execution_count": null,
   "id": "ed4a9451-acb4-4926-bfd2-1c25cccaf5c8",
   "metadata": {
    "tags": []
   },
   "outputs": [],
   "source": [
    "model = ImageBaseModel(c)\n",
    "model"
   ]
  },
  {
   "cell_type": "code",
   "execution_count": null,
   "id": "230f0b2c-0aff-42f4-b422-ef0939fe6c7b",
   "metadata": {},
   "outputs": [],
   "source": [
    "# ds = BaseDataset(c, input.train, transform=get_transforms(c, \"light\"))\n",
    "ds = BaseDataset(c, pd.concat([input.train, input.other]), transform=get_transforms(c, \"light\"))\n",
    "loader = DataLoader(ds, batch_size=4, shuffle=True, num_workers=4, pin_memory=True, drop_last=True)\n",
    "\n",
    "for image, label in loader:\n",
    "    output = model(image)\n",
    "    print(output)\n",
    "    break"
   ]
  },
  {
   "cell_type": "code",
   "execution_count": null,
   "id": "d55f6866-bd98-46b9-8659-0ef5df8fcd42",
   "metadata": {},
   "outputs": [],
   "source": []
  },
  {
   "cell_type": "code",
   "execution_count": null,
   "id": "ca689936-4364-4410-b3a4-421bbd0b4488",
   "metadata": {},
   "outputs": [],
   "source": []
  },
  {
   "cell_type": "code",
   "execution_count": null,
   "id": "fbc62b37-b040-4ce2-9094-bac053fd30f4",
   "metadata": {},
   "outputs": [],
   "source": []
  },
  {
   "cell_type": "code",
   "execution_count": null,
   "id": "a7aabdcd-8a96-4e7c-8414-1dc820a1078f",
   "metadata": {},
   "outputs": [],
   "source": []
  }
 ],
 "metadata": {
  "kernelspec": {
   "display_name": "develop (with Rapids)",
   "language": "python",
   "name": "develop-rapids"
  },
  "language_info": {
   "codemirror_mode": {
    "name": "ipython",
    "version": 3
   },
   "file_extension": ".py",
   "mimetype": "text/x-python",
   "name": "python",
   "nbconvert_exporter": "python",
   "pygments_lexer": "ipython3",
   "version": "3.9.12"
  },
  "toc-autonumbering": true,
  "toc-showcode": false,
  "toc-showmarkdowntxt": false,
  "toc-showtags": true
 },
 "nbformat": 4,
 "nbformat_minor": 5
}
